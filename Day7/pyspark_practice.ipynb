{
  "cells": [
    {
      "cell_type": "code",
      "execution_count": 9,
      "metadata": {
        "id": "KySb-ELVKbNI"
      },
      "outputs": [],
      "source": [
        "\n"
      ]
    },
    {
      "cell_type": "markdown",
      "metadata": {
        "id": "ZNzkW9FHPcj0"
      },
      "source": [
        "\n",
        "# Loading data which is in csv format"
      ]
    },
    {
      "cell_type": "code",
      "execution_count": 10,
      "metadata": {
        "id": "bryazoXrPSuh"
      },
      "outputs": [],
      "source": [
        "from pyspark.sql import SparkSession\n"
      ]
    },
    {
      "cell_type": "code",
      "execution_count": 11,
      "metadata": {
        "id": "_YdZuCmEPHzs"
      },
      "outputs": [],
      "source": [
        "spark = SparkSession.builder.appName(\"MyPractice\").getOrCreate()"
      ]
    },
    {
      "cell_type": "code",
      "execution_count": 12,
      "metadata": {
        "id": "cjFQ1TDFKjYz"
      },
      "outputs": [],
      "source": [
        "df = spark.read.format('csv').option('inferschema',True).option('header',True).load('/content/sample_data/BigMart Sales.csv')"
      ]
    },
    {
      "cell_type": "code",
      "execution_count": 13,
      "metadata": {
        "colab": {
          "base_uri": "https://localhost:8080/"
        },
        "id": "NFvd4nm-Ko7b",
        "outputId": "48339faa-1dc3-425e-a1a6-93d99a7ec94b"
      },
      "outputs": [
        {
          "name": "stdout",
          "output_type": "stream",
          "text": [
            "+---------------+-----------+----------------+---------------+--------------------+--------+-----------------+-------------------------+-----------+--------------------+-----------------+-----------------+\n",
            "|Item_Identifier|Item_Weight|Item_Fat_Content|Item_Visibility|           Item_Type|Item_MRP|Outlet_Identifier|Outlet_Establishment_Year|Outlet_Size|Outlet_Location_Type|      Outlet_Type|Item_Outlet_Sales|\n",
            "+---------------+-----------+----------------+---------------+--------------------+--------+-----------------+-------------------------+-----------+--------------------+-----------------+-----------------+\n",
            "|          FDA15|        9.3|         Low Fat|    0.016047301|               Dairy|249.8092|           OUT049|                     1999|     Medium|              Tier 1|Supermarket Type1|         3735.138|\n",
            "|          DRC01|       5.92|         Regular|    0.019278216|         Soft Drinks| 48.2692|           OUT018|                     2009|     Medium|              Tier 3|Supermarket Type2|         443.4228|\n",
            "|          FDN15|       17.5|         Low Fat|    0.016760075|                Meat| 141.618|           OUT049|                     1999|     Medium|              Tier 1|Supermarket Type1|          2097.27|\n",
            "|          FDX07|       19.2|         Regular|            0.0|Fruits and Vegeta...| 182.095|           OUT010|                     1998|       NULL|              Tier 3|    Grocery Store|           732.38|\n",
            "|          NCD19|       8.93|         Low Fat|            0.0|           Household| 53.8614|           OUT013|                     1987|       High|              Tier 3|Supermarket Type1|         994.7052|\n",
            "|          FDP36|     10.395|         Regular|            0.0|        Baking Goods| 51.4008|           OUT018|                     2009|     Medium|              Tier 3|Supermarket Type2|         556.6088|\n",
            "|          FDO10|      13.65|         Regular|    0.012741089|         Snack Foods| 57.6588|           OUT013|                     1987|       High|              Tier 3|Supermarket Type1|         343.5528|\n",
            "|          FDP10|       NULL|         Low Fat|    0.127469857|         Snack Foods|107.7622|           OUT027|                     1985|     Medium|              Tier 3|Supermarket Type3|        4022.7636|\n",
            "|          FDH17|       16.2|         Regular|    0.016687114|        Frozen Foods| 96.9726|           OUT045|                     2002|       NULL|              Tier 2|Supermarket Type1|        1076.5986|\n",
            "|          FDU28|       19.2|         Regular|     0.09444959|        Frozen Foods|187.8214|           OUT017|                     2007|       NULL|              Tier 2|Supermarket Type1|         4710.535|\n",
            "|          FDY07|       11.8|         Low Fat|            0.0|Fruits and Vegeta...| 45.5402|           OUT049|                     1999|     Medium|              Tier 1|Supermarket Type1|        1516.0266|\n",
            "|          FDA03|       18.5|         Regular|    0.045463773|               Dairy|144.1102|           OUT046|                     1997|      Small|              Tier 1|Supermarket Type1|         2187.153|\n",
            "|          FDX32|       15.1|         Regular|      0.1000135|Fruits and Vegeta...|145.4786|           OUT049|                     1999|     Medium|              Tier 1|Supermarket Type1|        1589.2646|\n",
            "|          FDS46|       17.6|         Regular|    0.047257328|         Snack Foods|119.6782|           OUT046|                     1997|      Small|              Tier 1|Supermarket Type1|        2145.2076|\n",
            "|          FDF32|      16.35|         Low Fat|      0.0680243|Fruits and Vegeta...|196.4426|           OUT013|                     1987|       High|              Tier 3|Supermarket Type1|         1977.426|\n",
            "|          FDP49|        9.0|         Regular|    0.069088961|           Breakfast| 56.3614|           OUT046|                     1997|      Small|              Tier 1|Supermarket Type1|        1547.3192|\n",
            "|          NCB42|       11.8|         Low Fat|    0.008596051|  Health and Hygiene|115.3492|           OUT018|                     2009|     Medium|              Tier 3|Supermarket Type2|        1621.8888|\n",
            "|          FDP49|        9.0|         Regular|    0.069196376|           Breakfast| 54.3614|           OUT049|                     1999|     Medium|              Tier 1|Supermarket Type1|         718.3982|\n",
            "|          DRI11|       NULL|         Low Fat|    0.034237682|         Hard Drinks|113.2834|           OUT027|                     1985|     Medium|              Tier 3|Supermarket Type3|         2303.668|\n",
            "|          FDU02|      13.35|         Low Fat|     0.10249212|               Dairy|230.5352|           OUT035|                     2004|      Small|              Tier 2|Supermarket Type1|        2748.4224|\n",
            "+---------------+-----------+----------------+---------------+--------------------+--------+-----------------+-------------------------+-----------+--------------------+-----------------+-----------------+\n",
            "only showing top 20 rows\n",
            "\n"
          ]
        }
      ],
      "source": [
        "df.show()"
      ]
    },
    {
      "cell_type": "markdown",
      "metadata": {
        "id": "ORLsWx0aQAxm"
      },
      "source": [
        "# Loading data which is in json format"
      ]
    },
    {
      "cell_type": "code",
      "execution_count": 14,
      "metadata": {
        "id": "HBmzOF-WKwJg"
      },
      "outputs": [],
      "source": [
        "df_json = spark.read.format('json').option('inferSchema',True).option('header',True).option('multiline',False).load('/content/sample_data/drivers.json')"
      ]
    },
    {
      "cell_type": "code",
      "execution_count": 15,
      "metadata": {
        "colab": {
          "base_uri": "https://localhost:8080/"
        },
        "id": "J7uS9-BZKx6i",
        "outputId": "ce6d2ef1-7ac5-4f88-9fc1-eb219419707b"
      },
      "outputs": [
        {
          "name": "stdout",
          "output_type": "stream",
          "text": [
            "+----+----------+--------+----------+--------------------+-----------+------+--------------------+\n",
            "|code|       dob|driverId| driverRef|                name|nationality|number|                 url|\n",
            "+----+----------+--------+----------+--------------------+-----------+------+--------------------+\n",
            "| HAM|1985-01-07|       1|  hamilton|   {Lewis, Hamilton}|    British|    44|http://en.wikiped...|\n",
            "| HEI|1977-05-10|       2|  heidfeld|    {Nick, Heidfeld}|     German|    \\N|http://en.wikiped...|\n",
            "| ROS|1985-06-27|       3|   rosberg|     {Nico, Rosberg}|     German|     6|http://en.wikiped...|\n",
            "| ALO|1981-07-29|       4|    alonso|  {Fernando, Alonso}|    Spanish|    14|http://en.wikiped...|\n",
            "| KOV|1981-10-19|       5|kovalainen|{Heikki, Kovalainen}|    Finnish|    \\N|http://en.wikiped...|\n",
            "| NAK|1985-01-11|       6|  nakajima|  {Kazuki, Nakajima}|   Japanese|    \\N|http://en.wikiped...|\n",
            "| BOU|1979-02-28|       7|  bourdais|{Sébastien, Bourd...|     French|    \\N|http://en.wikiped...|\n",
            "| RAI|1979-10-17|       8| raikkonen|   {Kimi, Räikkönen}|    Finnish|     7|http://en.wikiped...|\n",
            "| KUB|1984-12-07|       9|    kubica|    {Robert, Kubica}|     Polish|    88|http://en.wikiped...|\n",
            "| GLO|1982-03-18|      10|     glock|       {Timo, Glock}|     German|    \\N|http://en.wikiped...|\n",
            "| SAT|1977-01-28|      11|      sato|      {Takuma, Sato}|   Japanese|    \\N|http://en.wikiped...|\n",
            "| PIQ|1985-07-25|      12| piquet_jr|{Nelson, Piquet Jr.}|  Brazilian|    \\N|http://en.wikiped...|\n",
            "| MAS|1981-04-25|      13|     massa|     {Felipe, Massa}|  Brazilian|    19|http://en.wikiped...|\n",
            "| COU|1971-03-27|      14| coulthard|  {David, Coulthard}|    British|    \\N|http://en.wikiped...|\n",
            "| TRU|1974-07-13|      15|    trulli|     {Jarno, Trulli}|    Italian|    \\N|http://en.wikiped...|\n",
            "| SUT|1983-01-11|      16|     sutil|     {Adrian, Sutil}|     German|    99|http://en.wikiped...|\n",
            "| WEB|1976-08-27|      17|    webber|      {Mark, Webber}| Australian|    \\N|http://en.wikiped...|\n",
            "| BUT|1980-01-19|      18|    button|    {Jenson, Button}|    British|    22|http://en.wikiped...|\n",
            "| DAV|1979-04-18|      19|  davidson| {Anthony, Davidson}|    British|    \\N|http://en.wikiped...|\n",
            "| VET|1987-07-03|      20|    vettel| {Sebastian, Vettel}|     German|     5|http://en.wikiped...|\n",
            "+----+----------+--------+----------+--------------------+-----------+------+--------------------+\n",
            "only showing top 20 rows\n",
            "\n"
          ]
        }
      ],
      "source": [
        "df_json .show()"
      ]
    },
    {
      "cell_type": "code",
      "execution_count": 16,
      "metadata": {
        "colab": {
          "base_uri": "https://localhost:8080/"
        },
        "id": "xSaP3rXEK0jD",
        "outputId": "a09f288a-fe2d-4040-b14a-1c0102bfaa02"
      },
      "outputs": [
        {
          "name": "stdout",
          "output_type": "stream",
          "text": [
            "root\n",
            " |-- Item_Identifier: string (nullable = true)\n",
            " |-- Item_Weight: double (nullable = true)\n",
            " |-- Item_Fat_Content: string (nullable = true)\n",
            " |-- Item_Visibility: double (nullable = true)\n",
            " |-- Item_Type: string (nullable = true)\n",
            " |-- Item_MRP: double (nullable = true)\n",
            " |-- Outlet_Identifier: string (nullable = true)\n",
            " |-- Outlet_Establishment_Year: integer (nullable = true)\n",
            " |-- Outlet_Size: string (nullable = true)\n",
            " |-- Outlet_Location_Type: string (nullable = true)\n",
            " |-- Outlet_Type: string (nullable = true)\n",
            " |-- Item_Outlet_Sales: double (nullable = true)\n",
            "\n"
          ]
        }
      ],
      "source": [
        "df.printSchema()"
      ]
    },
    {
      "cell_type": "code",
      "execution_count": 17,
      "metadata": {
        "colab": {
          "base_uri": "https://localhost:8080/"
        },
        "id": "O169IID0K1Ys",
        "outputId": "5140aee1-2fb3-4897-ef5b-68b53ae10ebd"
      },
      "outputs": [
        {
          "name": "stdout",
          "output_type": "stream",
          "text": [
            "root\n",
            " |-- code: string (nullable = true)\n",
            " |-- dob: string (nullable = true)\n",
            " |-- driverId: long (nullable = true)\n",
            " |-- driverRef: string (nullable = true)\n",
            " |-- name: struct (nullable = true)\n",
            " |    |-- forename: string (nullable = true)\n",
            " |    |-- surname: string (nullable = true)\n",
            " |-- nationality: string (nullable = true)\n",
            " |-- number: string (nullable = true)\n",
            " |-- url: string (nullable = true)\n",
            "\n"
          ]
        }
      ],
      "source": [
        "df_json.printSchema()"
      ]
    },
    {
      "cell_type": "markdown",
      "metadata": {
        "id": "1wQfPZ2cQFfL"
      },
      "source": [
        "\n",
        "# Structype and Structfield"
      ]
    },
    {
      "cell_type": "code",
      "execution_count": 18,
      "metadata": {
        "id": "A8z1erAgK5Rd"
      },
      "outputs": [],
      "source": [
        "from pyspark.sql.types import *\n",
        "from pyspark.sql.functions import *"
      ]
    },
    {
      "cell_type": "code",
      "execution_count": 19,
      "metadata": {
        "id": "fEEIY7LpK7rI"
      },
      "outputs": [],
      "source": [
        "my_schema = StructType([\n",
        "    StructField('code', StringType(), True),\n",
        "    StructField('dob', StringType(), True),\n",
        "    StructField('driverId', LongType(), True),\n",
        "    StructField('driverRef', StringType(), True),\n",
        "    StructField('name', StructType([\n",
        "        StructField('family', StringType(), True)\n",
        "    ]), True),\n",
        "    StructField('nationality', StringType(), True),\n",
        "    StructField('number', StringType(), True),\n",
        "    StructField('url', StringType(), True)\n",
        "])"
      ]
    },
    {
      "cell_type": "markdown",
      "metadata": {
        "id": "RQ-lptg8QIcb"
      },
      "source": [
        "# Selecting data"
      ]
    },
    {
      "cell_type": "code",
      "execution_count": 20,
      "metadata": {
        "colab": {
          "base_uri": "https://localhost:8080/"
        },
        "id": "-Dx57e-pK_Dk",
        "outputId": "a7fc1ac3-5fe6-4a3f-cb16-b0c85802a45b"
      },
      "outputs": [
        {
          "name": "stdout",
          "output_type": "stream",
          "text": [
            "+---------------+-----------+----------------+\n",
            "|Item_Identifier|Item_Weight|Item_Fat_Content|\n",
            "+---------------+-----------+----------------+\n",
            "|          FDA15|        9.3|         Low Fat|\n",
            "|          DRC01|       5.92|         Regular|\n",
            "|          FDN15|       17.5|         Low Fat|\n",
            "|          FDX07|       19.2|         Regular|\n",
            "|          NCD19|       8.93|         Low Fat|\n",
            "|          FDP36|     10.395|         Regular|\n",
            "|          FDO10|      13.65|         Regular|\n",
            "|          FDP10|       NULL|         Low Fat|\n",
            "|          FDH17|       16.2|         Regular|\n",
            "|          FDU28|       19.2|         Regular|\n",
            "|          FDY07|       11.8|         Low Fat|\n",
            "|          FDA03|       18.5|         Regular|\n",
            "|          FDX32|       15.1|         Regular|\n",
            "|          FDS46|       17.6|         Regular|\n",
            "|          FDF32|      16.35|         Low Fat|\n",
            "|          FDP49|        9.0|         Regular|\n",
            "|          NCB42|       11.8|         Low Fat|\n",
            "|          FDP49|        9.0|         Regular|\n",
            "|          DRI11|       NULL|         Low Fat|\n",
            "|          FDU02|      13.35|         Low Fat|\n",
            "+---------------+-----------+----------------+\n",
            "only showing top 20 rows\n",
            "\n"
          ]
        }
      ],
      "source": [
        "df_select = df.select(col('Item_Identifier'),col('Item_Weight'),col('Item_Fat_Content'))\n",
        "df_select .show()"
      ]
    },
    {
      "cell_type": "markdown",
      "metadata": {
        "id": "-MtGeE-9LBIp"
      },
      "source": [
        "\n",
        "# Alias"
      ]
    },
    {
      "cell_type": "code",
      "execution_count": 21,
      "metadata": {
        "colab": {
          "base_uri": "https://localhost:8080/"
        },
        "id": "YNaBzvIYLEuo",
        "outputId": "1d35d6e5-9fff-432a-b5a8-4f7fc9a09054"
      },
      "outputs": [
        {
          "name": "stdout",
          "output_type": "stream",
          "text": [
            "+-------+\n",
            "|Item_id|\n",
            "+-------+\n",
            "|  FDA15|\n",
            "|  DRC01|\n",
            "|  FDN15|\n",
            "|  FDX07|\n",
            "|  NCD19|\n",
            "|  FDP36|\n",
            "|  FDO10|\n",
            "|  FDP10|\n",
            "|  FDH17|\n",
            "|  FDU28|\n",
            "|  FDY07|\n",
            "|  FDA03|\n",
            "|  FDX32|\n",
            "|  FDS46|\n",
            "|  FDF32|\n",
            "|  FDP49|\n",
            "|  NCB42|\n",
            "|  FDP49|\n",
            "|  DRI11|\n",
            "|  FDU02|\n",
            "+-------+\n",
            "only showing top 20 rows\n",
            "\n"
          ]
        }
      ],
      "source": [
        "df.select(col('Item_Identifier').alias('Item_id')) .show()"
      ]
    },
    {
      "cell_type": "markdown",
      "metadata": {
        "id": "pr8GTzd-LDMf"
      },
      "source": [
        "\n",
        "# Filtering"
      ]
    },
    {
      "cell_type": "markdown",
      "metadata": {
        "id": "lOEWUF7uLI4H"
      },
      "source": [
        "\n",
        "## filter data where Item_fat = Regular"
      ]
    },
    {
      "cell_type": "code",
      "execution_count": 22,
      "metadata": {
        "colab": {
          "base_uri": "https://localhost:8080/"
        },
        "id": "CeereWlbLKtB",
        "outputId": "770ee4b0-e085-4900-eb0d-39a60a4930e3"
      },
      "outputs": [
        {
          "name": "stdout",
          "output_type": "stream",
          "text": [
            "+---------------+-----------+----------------+---------------+--------------------+--------+-----------------+-------------------------+-----------+--------------------+-----------------+-----------------+\n",
            "|Item_Identifier|Item_Weight|Item_Fat_Content|Item_Visibility|           Item_Type|Item_MRP|Outlet_Identifier|Outlet_Establishment_Year|Outlet_Size|Outlet_Location_Type|      Outlet_Type|Item_Outlet_Sales|\n",
            "+---------------+-----------+----------------+---------------+--------------------+--------+-----------------+-------------------------+-----------+--------------------+-----------------+-----------------+\n",
            "|          DRC01|       5.92|         Regular|    0.019278216|         Soft Drinks| 48.2692|           OUT018|                     2009|     Medium|              Tier 3|Supermarket Type2|         443.4228|\n",
            "|          FDX07|       19.2|         Regular|            0.0|Fruits and Vegeta...| 182.095|           OUT010|                     1998|       NULL|              Tier 3|    Grocery Store|           732.38|\n",
            "|          FDP36|     10.395|         Regular|            0.0|        Baking Goods| 51.4008|           OUT018|                     2009|     Medium|              Tier 3|Supermarket Type2|         556.6088|\n",
            "|          FDO10|      13.65|         Regular|    0.012741089|         Snack Foods| 57.6588|           OUT013|                     1987|       High|              Tier 3|Supermarket Type1|         343.5528|\n",
            "|          FDH17|       16.2|         Regular|    0.016687114|        Frozen Foods| 96.9726|           OUT045|                     2002|       NULL|              Tier 2|Supermarket Type1|        1076.5986|\n",
            "|          FDU28|       19.2|         Regular|     0.09444959|        Frozen Foods|187.8214|           OUT017|                     2007|       NULL|              Tier 2|Supermarket Type1|         4710.535|\n",
            "|          FDA03|       18.5|         Regular|    0.045463773|               Dairy|144.1102|           OUT046|                     1997|      Small|              Tier 1|Supermarket Type1|         2187.153|\n",
            "|          FDX32|       15.1|         Regular|      0.1000135|Fruits and Vegeta...|145.4786|           OUT049|                     1999|     Medium|              Tier 1|Supermarket Type1|        1589.2646|\n",
            "|          FDS46|       17.6|         Regular|    0.047257328|         Snack Foods|119.6782|           OUT046|                     1997|      Small|              Tier 1|Supermarket Type1|        2145.2076|\n",
            "|          FDP49|        9.0|         Regular|    0.069088961|           Breakfast| 56.3614|           OUT046|                     1997|      Small|              Tier 1|Supermarket Type1|        1547.3192|\n",
            "|          FDP49|        9.0|         Regular|    0.069196376|           Breakfast| 54.3614|           OUT049|                     1999|     Medium|              Tier 1|Supermarket Type1|         718.3982|\n",
            "|          FDN22|      18.85|         Regular|    0.138190277|         Snack Foods|250.8724|           OUT013|                     1987|       High|              Tier 3|Supermarket Type1|         3775.086|\n",
            "|          FDW12|       NULL|         Regular|    0.035399923|        Baking Goods|144.5444|           OUT027|                     1985|     Medium|              Tier 3|Supermarket Type3|        4064.0432|\n",
            "|          FDR28|      13.85|         Regular|    0.025896485|        Frozen Foods| 165.021|           OUT046|                     1997|      Small|              Tier 1|Supermarket Type1|         4078.025|\n",
            "|          FDV10|      7.645|         Regular|    0.066693437|         Snack Foods| 42.3112|           OUT035|                     2004|      Small|              Tier 2|Supermarket Type1|          1065.28|\n",
            "|          FDE51|      5.925|         Regular|    0.161466534|               Dairy| 45.5086|           OUT010|                     1998|       NULL|              Tier 3|    Grocery Store|         178.4344|\n",
            "|          FDC14|       NULL|         Regular|    0.072221801|              Canned| 43.6454|           OUT019|                     1985|      Small|              Tier 1|    Grocery Store|         125.8362|\n",
            "|          FDV20|       NULL|         Regular|    0.059511812|Fruits and Vegeta...|128.0678|           OUT027|                     1985|     Medium|              Tier 3|Supermarket Type3|        2797.6916|\n",
            "|          DRZ11|       8.85|         Regular|    0.113123893|         Soft Drinks|122.5388|           OUT018|                     2009|     Medium|              Tier 3|Supermarket Type2|        1609.9044|\n",
            "|          FDX10|       NULL|         Regular|    0.123111453|         Snack Foods| 36.9874|           OUT027|                     1985|     Medium|              Tier 3|Supermarket Type3|         388.1614|\n",
            "+---------------+-----------+----------------+---------------+--------------------+--------+-----------------+-------------------------+-----------+--------------------+-----------------+-----------------+\n",
            "only showing top 20 rows\n",
            "\n"
          ]
        }
      ],
      "source": [
        "df.filter(col('Item_Fat_content') == 'Regular') .show()"
      ]
    },
    {
      "cell_type": "markdown",
      "metadata": {
        "id": "x8_DaGpzLKps"
      },
      "source": [
        "\n",
        "## filter where Tier = 1 or 2 and outlet size is  null"
      ]
    },
    {
      "cell_type": "code",
      "execution_count": 23,
      "metadata": {
        "colab": {
          "base_uri": "https://localhost:8080/"
        },
        "id": "KGEpP0-QLKnZ",
        "outputId": "87cb2025-8022-4f03-dc83-f7500d7f0ff8"
      },
      "outputs": [
        {
          "name": "stdout",
          "output_type": "stream",
          "text": [
            "+---------------+-----------+----------------+---------------+--------------------+--------+-----------------+-------------------------+-----------+--------------------+-----------------+-----------------+\n",
            "|Item_Identifier|Item_Weight|Item_Fat_Content|Item_Visibility|           Item_Type|Item_MRP|Outlet_Identifier|Outlet_Establishment_Year|Outlet_Size|Outlet_Location_Type|      Outlet_Type|Item_Outlet_Sales|\n",
            "+---------------+-----------+----------------+---------------+--------------------+--------+-----------------+-------------------------+-----------+--------------------+-----------------+-----------------+\n",
            "|          FDH17|       16.2|         Regular|    0.016687114|        Frozen Foods| 96.9726|           OUT045|                     2002|       NULL|              Tier 2|Supermarket Type1|        1076.5986|\n",
            "|          FDU28|       19.2|         Regular|     0.09444959|        Frozen Foods|187.8214|           OUT017|                     2007|       NULL|              Tier 2|Supermarket Type1|         4710.535|\n",
            "|          NCD06|       13.0|         Low Fat|    0.099887103|           Household|  45.906|           OUT017|                     2007|       NULL|              Tier 2|Supermarket Type1|          838.908|\n",
            "|          FDO23|      17.85|         Low Fat|            0.0|              Breads| 93.1436|           OUT045|                     2002|       NULL|              Tier 2|Supermarket Type1|        2174.5028|\n",
            "|          NCP05|       19.6|         Low Fat|            0.0|  Health and Hygiene|153.3024|           OUT045|                     2002|       NULL|              Tier 2|Supermarket Type1|        2428.8384|\n",
            "|          FDV49|       10.0|         Low Fat|    0.025879577|              Canned|265.2226|           OUT045|                     2002|       NULL|              Tier 2|Supermarket Type1|        5815.0972|\n",
            "|          FDA43|     10.895|         Low Fat|    0.065041581|Fruits and Vegeta...|196.3794|           OUT017|                     2007|       NULL|              Tier 2|Supermarket Type1|        3121.2704|\n",
            "|          NCP18|      12.15|         Low Fat|    0.028760013|           Household|151.4708|           OUT017|                     2007|       NULL|              Tier 2|Supermarket Type1|        4815.0656|\n",
            "|          NCX54|      9.195|         Low Fat|    0.048157338|           Household|106.1622|           OUT045|                     2002|       NULL|              Tier 2|Supermarket Type1|         2117.244|\n",
            "|          FDV27|       7.97|         Regular|    0.040071131|                Meat| 87.3514|           OUT045|                     2002|       NULL|              Tier 2|Supermarket Type1|        1062.6168|\n",
            "|          FDZ03|      13.65|         Regular|    0.078946455|               Dairy| 186.024|           OUT045|                     2002|       NULL|              Tier 2|Supermarket Type1|         1118.544|\n",
            "|          DRH37|       17.6|         Low Fat|    0.041700756|         Soft Drinks|164.8526|           OUT045|                     2002|       NULL|              Tier 2|Supermarket Type1|        2302.3364|\n",
            "|          FDH35|      18.25|         Low Fat|            0.0|       Starchy Foods|164.7526|           OUT045|                     2002|       NULL|              Tier 2|Supermarket Type1|        4604.6728|\n",
            "|          FDG02|      7.855|         Low Fat|    0.011324862|              Canned|189.6188|           OUT017|                     2007|       NULL|              Tier 2|Supermarket Type1|        2285.0256|\n",
            "|          FDL04|       19.0|         Low Fat|    0.112556507|        Frozen Foods|104.9622|           OUT017|                     2007|       NULL|              Tier 2|Supermarket Type1|         1587.933|\n",
            "|          FDV25|      5.905|         Low Fat|            0.0|              Canned|222.5456|           OUT045|                     2002|       NULL|              Tier 2|Supermarket Type1|        5305.0944|\n",
            "|          FDG20|       15.5|         Regular|     0.12639886|Fruits and Vegeta...|177.0028|           OUT017|                     2007|       NULL|              Tier 2|Supermarket Type1|        2479.4392|\n",
            "|          DRI25|       19.6|         Low Fat|    0.033970195|         Soft Drinks| 55.1614|           OUT045|                     2002|       NULL|              Tier 2|Supermarket Type1|         1381.535|\n",
            "|          FDT28|       13.3|         Low Fat|    0.063695084|        Frozen Foods|151.0708|           OUT045|                     2002|       NULL|              Tier 2|Supermarket Type1|        1805.6496|\n",
            "|          FDG12|      6.635|         Regular|            0.0|        Baking Goods|121.3098|           OUT045|                     2002|       NULL|              Tier 2|Supermarket Type1|        2530.7058|\n",
            "+---------------+-----------+----------------+---------------+--------------------+--------+-----------------+-------------------------+-----------+--------------------+-----------------+-----------------+\n",
            "only showing top 20 rows\n",
            "\n"
          ]
        }
      ],
      "source": [
        "df.filter((col('Outlet_Size').isNull()) & (col('Outlet_Location_Type').isin('Tier 1','Tier 2'))) .show()"
      ]
    },
    {
      "cell_type": "markdown",
      "metadata": {
        "id": "yxPkUkK_LKki"
      },
      "source": [
        "\n",
        "# with column renamed"
      ]
    },
    {
      "cell_type": "code",
      "execution_count": 24,
      "metadata": {
        "colab": {
          "base_uri": "https://localhost:8080/"
        },
        "id": "RWn3kcgoLKh5",
        "outputId": "4718c979-b455-4ba3-a827-d3a227d8a79b"
      },
      "outputs": [
        {
          "name": "stdout",
          "output_type": "stream",
          "text": [
            "+---------------+-------+----------------+---------------+--------------------+--------+-----------------+-------------------------+-----------+--------------------+-----------------+-----------------+\n",
            "|Item_Identifier|Item_wg|Item_Fat_Content|Item_Visibility|           Item_Type|Item_MRP|Outlet_Identifier|Outlet_Establishment_Year|Outlet_Size|Outlet_Location_Type|      Outlet_Type|Item_Outlet_Sales|\n",
            "+---------------+-------+----------------+---------------+--------------------+--------+-----------------+-------------------------+-----------+--------------------+-----------------+-----------------+\n",
            "|          FDA15|    9.3|         Low Fat|    0.016047301|               Dairy|249.8092|           OUT049|                     1999|     Medium|              Tier 1|Supermarket Type1|         3735.138|\n",
            "|          DRC01|   5.92|         Regular|    0.019278216|         Soft Drinks| 48.2692|           OUT018|                     2009|     Medium|              Tier 3|Supermarket Type2|         443.4228|\n",
            "|          FDN15|   17.5|         Low Fat|    0.016760075|                Meat| 141.618|           OUT049|                     1999|     Medium|              Tier 1|Supermarket Type1|          2097.27|\n",
            "|          FDX07|   19.2|         Regular|            0.0|Fruits and Vegeta...| 182.095|           OUT010|                     1998|       NULL|              Tier 3|    Grocery Store|           732.38|\n",
            "|          NCD19|   8.93|         Low Fat|            0.0|           Household| 53.8614|           OUT013|                     1987|       High|              Tier 3|Supermarket Type1|         994.7052|\n",
            "|          FDP36| 10.395|         Regular|            0.0|        Baking Goods| 51.4008|           OUT018|                     2009|     Medium|              Tier 3|Supermarket Type2|         556.6088|\n",
            "|          FDO10|  13.65|         Regular|    0.012741089|         Snack Foods| 57.6588|           OUT013|                     1987|       High|              Tier 3|Supermarket Type1|         343.5528|\n",
            "|          FDP10|   NULL|         Low Fat|    0.127469857|         Snack Foods|107.7622|           OUT027|                     1985|     Medium|              Tier 3|Supermarket Type3|        4022.7636|\n",
            "|          FDH17|   16.2|         Regular|    0.016687114|        Frozen Foods| 96.9726|           OUT045|                     2002|       NULL|              Tier 2|Supermarket Type1|        1076.5986|\n",
            "|          FDU28|   19.2|         Regular|     0.09444959|        Frozen Foods|187.8214|           OUT017|                     2007|       NULL|              Tier 2|Supermarket Type1|         4710.535|\n",
            "|          FDY07|   11.8|         Low Fat|            0.0|Fruits and Vegeta...| 45.5402|           OUT049|                     1999|     Medium|              Tier 1|Supermarket Type1|        1516.0266|\n",
            "|          FDA03|   18.5|         Regular|    0.045463773|               Dairy|144.1102|           OUT046|                     1997|      Small|              Tier 1|Supermarket Type1|         2187.153|\n",
            "|          FDX32|   15.1|         Regular|      0.1000135|Fruits and Vegeta...|145.4786|           OUT049|                     1999|     Medium|              Tier 1|Supermarket Type1|        1589.2646|\n",
            "|          FDS46|   17.6|         Regular|    0.047257328|         Snack Foods|119.6782|           OUT046|                     1997|      Small|              Tier 1|Supermarket Type1|        2145.2076|\n",
            "|          FDF32|  16.35|         Low Fat|      0.0680243|Fruits and Vegeta...|196.4426|           OUT013|                     1987|       High|              Tier 3|Supermarket Type1|         1977.426|\n",
            "|          FDP49|    9.0|         Regular|    0.069088961|           Breakfast| 56.3614|           OUT046|                     1997|      Small|              Tier 1|Supermarket Type1|        1547.3192|\n",
            "|          NCB42|   11.8|         Low Fat|    0.008596051|  Health and Hygiene|115.3492|           OUT018|                     2009|     Medium|              Tier 3|Supermarket Type2|        1621.8888|\n",
            "|          FDP49|    9.0|         Regular|    0.069196376|           Breakfast| 54.3614|           OUT049|                     1999|     Medium|              Tier 1|Supermarket Type1|         718.3982|\n",
            "|          DRI11|   NULL|         Low Fat|    0.034237682|         Hard Drinks|113.2834|           OUT027|                     1985|     Medium|              Tier 3|Supermarket Type3|         2303.668|\n",
            "|          FDU02|  13.35|         Low Fat|     0.10249212|               Dairy|230.5352|           OUT035|                     2004|      Small|              Tier 2|Supermarket Type1|        2748.4224|\n",
            "+---------------+-------+----------------+---------------+--------------------+--------+-----------------+-------------------------+-----------+--------------------+-----------------+-----------------+\n",
            "only showing top 20 rows\n",
            "\n"
          ]
        }
      ],
      "source": [
        "df.withColumnRenamed('Item_Weight','Item_wg') .show()"
      ]
    },
    {
      "cell_type": "markdown",
      "metadata": {
        "id": "AfbdhDgCLKfN"
      },
      "source": [
        "\n",
        "#  with Column function"
      ]
    },
    {
      "cell_type": "code",
      "execution_count": 25,
      "metadata": {
        "colab": {
          "base_uri": "https://localhost:8080/"
        },
        "id": "9Joq1MhxLKct",
        "outputId": "654a3741-5b5f-4e26-8e49-f50ef2cb424e"
      },
      "outputs": [
        {
          "name": "stdout",
          "output_type": "stream",
          "text": [
            "+---------------+-----------+----------------+---------------+--------------------+--------+-----------------+-------------------------+-----------+--------------------+-----------------+-----------------+----+\n",
            "|Item_Identifier|Item_Weight|Item_Fat_Content|Item_Visibility|           Item_Type|Item_MRP|Outlet_Identifier|Outlet_Establishment_Year|Outlet_Size|Outlet_Location_Type|      Outlet_Type|Item_Outlet_Sales|flag|\n",
            "+---------------+-----------+----------------+---------------+--------------------+--------+-----------------+-------------------------+-----------+--------------------+-----------------+-----------------+----+\n",
            "|          FDA15|        9.3|         Low Fat|    0.016047301|               Dairy|249.8092|           OUT049|                     1999|     Medium|              Tier 1|Supermarket Type1|         3735.138| new|\n",
            "|          DRC01|       5.92|         Regular|    0.019278216|         Soft Drinks| 48.2692|           OUT018|                     2009|     Medium|              Tier 3|Supermarket Type2|         443.4228| new|\n",
            "|          FDN15|       17.5|         Low Fat|    0.016760075|                Meat| 141.618|           OUT049|                     1999|     Medium|              Tier 1|Supermarket Type1|          2097.27| new|\n",
            "|          FDX07|       19.2|         Regular|            0.0|Fruits and Vegeta...| 182.095|           OUT010|                     1998|       NULL|              Tier 3|    Grocery Store|           732.38| new|\n",
            "|          NCD19|       8.93|         Low Fat|            0.0|           Household| 53.8614|           OUT013|                     1987|       High|              Tier 3|Supermarket Type1|         994.7052| new|\n",
            "|          FDP36|     10.395|         Regular|            0.0|        Baking Goods| 51.4008|           OUT018|                     2009|     Medium|              Tier 3|Supermarket Type2|         556.6088| new|\n",
            "|          FDO10|      13.65|         Regular|    0.012741089|         Snack Foods| 57.6588|           OUT013|                     1987|       High|              Tier 3|Supermarket Type1|         343.5528| new|\n",
            "|          FDP10|       NULL|         Low Fat|    0.127469857|         Snack Foods|107.7622|           OUT027|                     1985|     Medium|              Tier 3|Supermarket Type3|        4022.7636| new|\n",
            "|          FDH17|       16.2|         Regular|    0.016687114|        Frozen Foods| 96.9726|           OUT045|                     2002|       NULL|              Tier 2|Supermarket Type1|        1076.5986| new|\n",
            "|          FDU28|       19.2|         Regular|     0.09444959|        Frozen Foods|187.8214|           OUT017|                     2007|       NULL|              Tier 2|Supermarket Type1|         4710.535| new|\n",
            "|          FDY07|       11.8|         Low Fat|            0.0|Fruits and Vegeta...| 45.5402|           OUT049|                     1999|     Medium|              Tier 1|Supermarket Type1|        1516.0266| new|\n",
            "|          FDA03|       18.5|         Regular|    0.045463773|               Dairy|144.1102|           OUT046|                     1997|      Small|              Tier 1|Supermarket Type1|         2187.153| new|\n",
            "|          FDX32|       15.1|         Regular|      0.1000135|Fruits and Vegeta...|145.4786|           OUT049|                     1999|     Medium|              Tier 1|Supermarket Type1|        1589.2646| new|\n",
            "|          FDS46|       17.6|         Regular|    0.047257328|         Snack Foods|119.6782|           OUT046|                     1997|      Small|              Tier 1|Supermarket Type1|        2145.2076| new|\n",
            "|          FDF32|      16.35|         Low Fat|      0.0680243|Fruits and Vegeta...|196.4426|           OUT013|                     1987|       High|              Tier 3|Supermarket Type1|         1977.426| new|\n",
            "|          FDP49|        9.0|         Regular|    0.069088961|           Breakfast| 56.3614|           OUT046|                     1997|      Small|              Tier 1|Supermarket Type1|        1547.3192| new|\n",
            "|          NCB42|       11.8|         Low Fat|    0.008596051|  Health and Hygiene|115.3492|           OUT018|                     2009|     Medium|              Tier 3|Supermarket Type2|        1621.8888| new|\n",
            "|          FDP49|        9.0|         Regular|    0.069196376|           Breakfast| 54.3614|           OUT049|                     1999|     Medium|              Tier 1|Supermarket Type1|         718.3982| new|\n",
            "|          DRI11|       NULL|         Low Fat|    0.034237682|         Hard Drinks|113.2834|           OUT027|                     1985|     Medium|              Tier 3|Supermarket Type3|         2303.668| new|\n",
            "|          FDU02|      13.35|         Low Fat|     0.10249212|               Dairy|230.5352|           OUT035|                     2004|      Small|              Tier 2|Supermarket Type1|        2748.4224| new|\n",
            "+---------------+-----------+----------------+---------------+--------------------+--------+-----------------+-------------------------+-----------+--------------------+-----------------+-----------------+----+\n",
            "only showing top 20 rows\n",
            "\n"
          ]
        }
      ],
      "source": [
        "df = df.withColumn('flag',lit('new'))\n",
        "df .show()"
      ]
    },
    {
      "cell_type": "code",
      "execution_count": 26,
      "metadata": {
        "colab": {
          "base_uri": "https://localhost:8080/"
        },
        "id": "fGPAz9PMLKaT",
        "outputId": "b02055ef-bb6c-49e4-d5db-2b428a1ca661"
      },
      "outputs": [
        {
          "name": "stdout",
          "output_type": "stream",
          "text": [
            "+---------------+-----------+----------------+---------------+--------------------+--------+-----------------+-------------------------+-----------+--------------------+-----------------+-----------------+----+------------------+\n",
            "|Item_Identifier|Item_Weight|Item_Fat_Content|Item_Visibility|           Item_Type|Item_MRP|Outlet_Identifier|Outlet_Establishment_Year|Outlet_Size|Outlet_Location_Type|      Outlet_Type|Item_Outlet_Sales|flag|        multiplied|\n",
            "+---------------+-----------+----------------+---------------+--------------------+--------+-----------------+-------------------------+-----------+--------------------+-----------------+-----------------+----+------------------+\n",
            "|          FDA15|        9.3|         Low Fat|    0.016047301|               Dairy|249.8092|           OUT049|                     1999|     Medium|              Tier 1|Supermarket Type1|         3735.138| new|2323.2255600000003|\n",
            "|          DRC01|       5.92|         Regular|    0.019278216|         Soft Drinks| 48.2692|           OUT018|                     2009|     Medium|              Tier 3|Supermarket Type2|         443.4228| new|285.75366399999996|\n",
            "|          FDN15|       17.5|         Low Fat|    0.016760075|                Meat| 141.618|           OUT049|                     1999|     Medium|              Tier 1|Supermarket Type1|          2097.27| new|          2478.315|\n",
            "|          FDX07|       19.2|         Regular|            0.0|Fruits and Vegeta...| 182.095|           OUT010|                     1998|       NULL|              Tier 3|    Grocery Store|           732.38| new|3496.2239999999997|\n",
            "|          NCD19|       8.93|         Low Fat|            0.0|           Household| 53.8614|           OUT013|                     1987|       High|              Tier 3|Supermarket Type1|         994.7052| new|        480.982302|\n",
            "|          FDP36|     10.395|         Regular|            0.0|        Baking Goods| 51.4008|           OUT018|                     2009|     Medium|              Tier 3|Supermarket Type2|         556.6088| new| 534.3113159999999|\n",
            "|          FDO10|      13.65|         Regular|    0.012741089|         Snack Foods| 57.6588|           OUT013|                     1987|       High|              Tier 3|Supermarket Type1|         343.5528| new|         787.04262|\n",
            "|          FDP10|       NULL|         Low Fat|    0.127469857|         Snack Foods|107.7622|           OUT027|                     1985|     Medium|              Tier 3|Supermarket Type3|        4022.7636| new|              NULL|\n",
            "|          FDH17|       16.2|         Regular|    0.016687114|        Frozen Foods| 96.9726|           OUT045|                     2002|       NULL|              Tier 2|Supermarket Type1|        1076.5986| new|1570.9561199999998|\n",
            "|          FDU28|       19.2|         Regular|     0.09444959|        Frozen Foods|187.8214|           OUT017|                     2007|       NULL|              Tier 2|Supermarket Type1|         4710.535| new|        3606.17088|\n",
            "|          FDY07|       11.8|         Low Fat|            0.0|Fruits and Vegeta...| 45.5402|           OUT049|                     1999|     Medium|              Tier 1|Supermarket Type1|        1516.0266| new|         537.37436|\n",
            "|          FDA03|       18.5|         Regular|    0.045463773|               Dairy|144.1102|           OUT046|                     1997|      Small|              Tier 1|Supermarket Type1|         2187.153| new|         2666.0387|\n",
            "|          FDX32|       15.1|         Regular|      0.1000135|Fruits and Vegeta...|145.4786|           OUT049|                     1999|     Medium|              Tier 1|Supermarket Type1|        1589.2646| new|2196.7268599999998|\n",
            "|          FDS46|       17.6|         Regular|    0.047257328|         Snack Foods|119.6782|           OUT046|                     1997|      Small|              Tier 1|Supermarket Type1|        2145.2076| new|2106.3363200000003|\n",
            "|          FDF32|      16.35|         Low Fat|      0.0680243|Fruits and Vegeta...|196.4426|           OUT013|                     1987|       High|              Tier 3|Supermarket Type1|         1977.426| new|        3211.83651|\n",
            "|          FDP49|        9.0|         Regular|    0.069088961|           Breakfast| 56.3614|           OUT046|                     1997|      Small|              Tier 1|Supermarket Type1|        1547.3192| new|507.25260000000003|\n",
            "|          NCB42|       11.8|         Low Fat|    0.008596051|  Health and Hygiene|115.3492|           OUT018|                     2009|     Medium|              Tier 3|Supermarket Type2|        1621.8888| new|        1361.12056|\n",
            "|          FDP49|        9.0|         Regular|    0.069196376|           Breakfast| 54.3614|           OUT049|                     1999|     Medium|              Tier 1|Supermarket Type1|         718.3982| new|489.25260000000003|\n",
            "|          DRI11|       NULL|         Low Fat|    0.034237682|         Hard Drinks|113.2834|           OUT027|                     1985|     Medium|              Tier 3|Supermarket Type3|         2303.668| new|              NULL|\n",
            "|          FDU02|      13.35|         Low Fat|     0.10249212|               Dairy|230.5352|           OUT035|                     2004|      Small|              Tier 2|Supermarket Type1|        2748.4224| new|        3077.64492|\n",
            "+---------------+-----------+----------------+---------------+--------------------+--------+-----------------+-------------------------+-----------+--------------------+-----------------+-----------------+----+------------------+\n",
            "only showing top 20 rows\n",
            "\n"
          ]
        }
      ],
      "source": [
        "df = df.withColumn('multiplied',col('Item_Weight')*col('Item_MRP'))\n",
        "df .show()"
      ]
    },
    {
      "cell_type": "code",
      "execution_count": 27,
      "metadata": {
        "colab": {
          "base_uri": "https://localhost:8080/"
        },
        "id": "UPjv3JV0LKX_",
        "outputId": "f85bac0a-c2b2-4602-ae6f-c2bd14d52263"
      },
      "outputs": [
        {
          "name": "stdout",
          "output_type": "stream",
          "text": [
            "+---------------+-----------+----------------+---------------+--------------------+--------+-----------------+-------------------------+-----------+--------------------+-----------------+-----------------+----+------------------+\n",
            "|Item_Identifier|Item_Weight|Item_Fat_Content|Item_Visibility|           Item_Type|Item_MRP|Outlet_Identifier|Outlet_Establishment_Year|Outlet_Size|Outlet_Location_Type|      Outlet_Type|Item_Outlet_Sales|flag|        multiplied|\n",
            "+---------------+-----------+----------------+---------------+--------------------+--------+-----------------+-------------------------+-----------+--------------------+-----------------+-----------------+----+------------------+\n",
            "|          FDA15|        9.3|         Low Fat|    0.016047301|               Dairy|249.8092|           OUT049|                     1999|     Medium|              Tier 1|Supermarket Type1|         3735.138| new|2323.2255600000003|\n",
            "|          DRC01|       5.92|             Reg|    0.019278216|         Soft Drinks| 48.2692|           OUT018|                     2009|     Medium|              Tier 3|Supermarket Type2|         443.4228| new|285.75366399999996|\n",
            "|          FDN15|       17.5|         Low Fat|    0.016760075|                Meat| 141.618|           OUT049|                     1999|     Medium|              Tier 1|Supermarket Type1|          2097.27| new|          2478.315|\n",
            "|          FDX07|       19.2|             Reg|            0.0|Fruits and Vegeta...| 182.095|           OUT010|                     1998|       NULL|              Tier 3|    Grocery Store|           732.38| new|3496.2239999999997|\n",
            "|          NCD19|       8.93|         Low Fat|            0.0|           Household| 53.8614|           OUT013|                     1987|       High|              Tier 3|Supermarket Type1|         994.7052| new|        480.982302|\n",
            "|          FDP36|     10.395|             Reg|            0.0|        Baking Goods| 51.4008|           OUT018|                     2009|     Medium|              Tier 3|Supermarket Type2|         556.6088| new| 534.3113159999999|\n",
            "|          FDO10|      13.65|             Reg|    0.012741089|         Snack Foods| 57.6588|           OUT013|                     1987|       High|              Tier 3|Supermarket Type1|         343.5528| new|         787.04262|\n",
            "|          FDP10|       NULL|         Low Fat|    0.127469857|         Snack Foods|107.7622|           OUT027|                     1985|     Medium|              Tier 3|Supermarket Type3|        4022.7636| new|              NULL|\n",
            "|          FDH17|       16.2|             Reg|    0.016687114|        Frozen Foods| 96.9726|           OUT045|                     2002|       NULL|              Tier 2|Supermarket Type1|        1076.5986| new|1570.9561199999998|\n",
            "|          FDU28|       19.2|             Reg|     0.09444959|        Frozen Foods|187.8214|           OUT017|                     2007|       NULL|              Tier 2|Supermarket Type1|         4710.535| new|        3606.17088|\n",
            "|          FDY07|       11.8|         Low Fat|            0.0|Fruits and Vegeta...| 45.5402|           OUT049|                     1999|     Medium|              Tier 1|Supermarket Type1|        1516.0266| new|         537.37436|\n",
            "|          FDA03|       18.5|             Reg|    0.045463773|               Dairy|144.1102|           OUT046|                     1997|      Small|              Tier 1|Supermarket Type1|         2187.153| new|         2666.0387|\n",
            "|          FDX32|       15.1|             Reg|      0.1000135|Fruits and Vegeta...|145.4786|           OUT049|                     1999|     Medium|              Tier 1|Supermarket Type1|        1589.2646| new|2196.7268599999998|\n",
            "|          FDS46|       17.6|             Reg|    0.047257328|         Snack Foods|119.6782|           OUT046|                     1997|      Small|              Tier 1|Supermarket Type1|        2145.2076| new|2106.3363200000003|\n",
            "|          FDF32|      16.35|         Low Fat|      0.0680243|Fruits and Vegeta...|196.4426|           OUT013|                     1987|       High|              Tier 3|Supermarket Type1|         1977.426| new|        3211.83651|\n",
            "|          FDP49|        9.0|             Reg|    0.069088961|           Breakfast| 56.3614|           OUT046|                     1997|      Small|              Tier 1|Supermarket Type1|        1547.3192| new|507.25260000000003|\n",
            "|          NCB42|       11.8|         Low Fat|    0.008596051|  Health and Hygiene|115.3492|           OUT018|                     2009|     Medium|              Tier 3|Supermarket Type2|        1621.8888| new|        1361.12056|\n",
            "|          FDP49|        9.0|             Reg|    0.069196376|           Breakfast| 54.3614|           OUT049|                     1999|     Medium|              Tier 1|Supermarket Type1|         718.3982| new|489.25260000000003|\n",
            "|          DRI11|       NULL|         Low Fat|    0.034237682|         Hard Drinks|113.2834|           OUT027|                     1985|     Medium|              Tier 3|Supermarket Type3|         2303.668| new|              NULL|\n",
            "|          FDU02|      13.35|         Low Fat|     0.10249212|               Dairy|230.5352|           OUT035|                     2004|      Small|              Tier 2|Supermarket Type1|        2748.4224| new|        3077.64492|\n",
            "+---------------+-----------+----------------+---------------+--------------------+--------+-----------------+-------------------------+-----------+--------------------+-----------------+-----------------+----+------------------+\n",
            "only showing top 20 rows\n",
            "\n"
          ]
        }
      ],
      "source": [
        "df.withColumn('Item_Fat_Content',regexp_replace(col('Item_Fat_Content'),'Regular','Reg')) .show()"
      ]
    },
    {
      "cell_type": "markdown",
      "metadata": {
        "id": "x9UvF18GLKVc"
      },
      "source": [
        "\n",
        "# TypeCasting"
      ]
    },
    {
      "cell_type": "code",
      "execution_count": 28,
      "metadata": {
        "colab": {
          "base_uri": "https://localhost:8080/"
        },
        "id": "f0CD63zhLKS4",
        "outputId": "50c9f2ab-442c-48ab-a3ba-d207d872d280"
      },
      "outputs": [
        {
          "name": "stdout",
          "output_type": "stream",
          "text": [
            "root\n",
            " |-- Item_Identifier: string (nullable = true)\n",
            " |-- Item_Weight: float (nullable = true)\n",
            " |-- Item_Fat_Content: string (nullable = true)\n",
            " |-- Item_Visibility: double (nullable = true)\n",
            " |-- Item_Type: string (nullable = true)\n",
            " |-- Item_MRP: double (nullable = true)\n",
            " |-- Outlet_Identifier: string (nullable = true)\n",
            " |-- Outlet_Establishment_Year: integer (nullable = true)\n",
            " |-- Outlet_Size: string (nullable = true)\n",
            " |-- Outlet_Location_Type: string (nullable = true)\n",
            " |-- Outlet_Type: string (nullable = true)\n",
            " |-- Item_Outlet_Sales: double (nullable = true)\n",
            " |-- flag: string (nullable = false)\n",
            " |-- multiplied: double (nullable = true)\n",
            "\n"
          ]
        }
      ],
      "source": [
        "df = df.withColumn('Item_Weight',col('Item_Weight').cast(FloatType()))\n",
        "df.printSchema()"
      ]
    },
    {
      "cell_type": "code",
      "execution_count": 29,
      "metadata": {
        "colab": {
          "base_uri": "https://localhost:8080/"
        },
        "id": "k4sQQIhJLKPp",
        "outputId": "8d81b1f7-bd22-4151-8e4c-786712a23be8"
      },
      "outputs": [
        {
          "name": "stdout",
          "output_type": "stream",
          "text": [
            "+---------------+-----------+----------------+---------------+--------------------+--------+-----------------+-------------------------+-----------+--------------------+-----------------+-----------------+----+------------------+\n",
            "|Item_Identifier|Item_Weight|Item_Fat_Content|Item_Visibility|           Item_Type|Item_MRP|Outlet_Identifier|Outlet_Establishment_Year|Outlet_Size|Outlet_Location_Type|      Outlet_Type|Item_Outlet_Sales|flag|        multiplied|\n",
            "+---------------+-----------+----------------+---------------+--------------------+--------+-----------------+-------------------------+-----------+--------------------+-----------------+-----------------+----+------------------+\n",
            "|          FDC02|      21.35|         Low Fat|    0.068809463|              Canned|258.5278|           OUT035|                     2004|      Small|              Tier 2|Supermarket Type1|         5206.556| new|5519.5685300000005|\n",
            "|          FDC02|      21.35|         Low Fat|    0.069102831|              Canned|259.9278|           OUT018|                     2009|     Medium|              Tier 3|Supermarket Type2|        6768.5228| new|        5549.45853|\n",
            "|          FDC02|      21.35|         Low Fat|    0.115194717|              Canned|258.3278|           OUT010|                     1998|       NULL|              Tier 3|    Grocery Store|         520.6556| new| 5515.298530000001|\n",
            "|          FDC02|      21.35|         Low Fat|    0.068765205|              Canned|260.4278|           OUT013|                     1987|       High|              Tier 3|Supermarket Type1|        3644.5892| new|        5560.13353|\n",
            "|          FDR07|      21.35|         Low Fat|    0.130127365|Fruits and Vegeta...| 96.2094|           OUT010|                     1998|       NULL|              Tier 3|    Grocery Store|         190.4188| new|        2054.07069|\n",
            "|          FDC02|      21.35|         Low Fat|    0.068822477|              Canned|258.3278|           OUT046|                     1997|      Small|              Tier 1|Supermarket Type1|        7028.8506| new| 5515.298530000001|\n",
            "|          FDR07|      21.35|         Low Fat|    0.078060605|Fruits and Vegeta...| 96.0094|           OUT018|                     2009|     Medium|              Tier 3|Supermarket Type2|         380.8376| new|        2049.80069|\n",
            "|          FDQ21|      21.25|         Low Fat|    0.019502354|         Snack Foods|120.8756|           OUT018|                     2009|     Medium|              Tier 3|Supermarket Type2|        3150.5656| new|2568.6065000000003|\n",
            "|          FDA45|      21.25|         Low Fat|    0.155350299|         Snack Foods| 178.237|           OUT035|                     2004|      Small|              Tier 2|Supermarket Type1|          529.311| new|        3787.53625|\n",
            "|          FDT03|      21.25|         Low Fat|    0.009996872|                Meat|185.5608|           OUT035|                     2004|      Small|              Tier 2|Supermarket Type1|        3123.9336| new|          3943.167|\n",
            "|          FDQ21|      21.25|         Low Fat|    0.019423232|         Snack Foods|120.8756|           OUT046|                     1997|      Small|              Tier 1|Supermarket Type1|        3150.5656| new|2568.6065000000003|\n",
            "|          FDT03|      21.25|         Low Fat|    0.010039493|                Meat|181.7608|           OUT018|                     2009|     Medium|              Tier 3|Supermarket Type2|        1102.5648| new|          3862.417|\n",
            "|          FDT03|      21.25|         Low Fat|    0.016735879|                Meat|185.2608|           OUT010|                     1998|       NULL|              Tier 3|    Grocery Store|         183.7608| new|          3936.792|\n",
            "|          FDT03|      21.25|         Low Fat|     0.01005532|                Meat|183.1608|           OUT017|                     2007|       NULL|              Tier 2|Supermarket Type1|         2756.412| new|          3892.167|\n",
            "|          NCO42|      21.25|              LF|    0.024650932|           Household|146.0102|           OUT035|                     2004|      Small|              Tier 2|Supermarket Type1|         2916.204| new|        3102.71675|\n",
            "|          FDT03|      21.25|         Low Fat|     0.01001904|                Meat|184.6608|           OUT045|                     2002|       NULL|              Tier 2|Supermarket Type1|         367.5216| new|          3924.042|\n",
            "|          NCO42|      21.25|         Low Fat|    0.024705597|           Household|145.1102|           OUT045|                     2002|       NULL|              Tier 2|Supermarket Type1|        1603.9122| new|        3083.59175|\n",
            "|          NCX17|      21.25|         Low Fat|    0.114246019|  Health and Hygiene|  231.23|           OUT017|                     2007|       NULL|              Tier 2|Supermarket Type1|          3029.39| new|         4913.6375|\n",
            "|          FDA45|      21.25|         Low Fat|    0.155250377|         Snack Foods| 175.737|           OUT013|                     1987|       High|              Tier 3|Supermarket Type1|         2117.244| new|        3734.41125|\n",
            "|          FDQ21|      21.25|         low fat|    0.019407069|         Snack Foods|119.3756|           OUT013|                     1987|       High|              Tier 3|Supermarket Type1|        3271.7412| new|2536.7315000000003|\n",
            "+---------------+-----------+----------------+---------------+--------------------+--------+-----------------+-------------------------+-----------+--------------------+-----------------+-----------------+----+------------------+\n",
            "only showing top 20 rows\n",
            "\n"
          ]
        }
      ],
      "source": [
        "df.sort(col('Item_Weight').desc()) .show()"
      ]
    },
    {
      "cell_type": "code",
      "execution_count": 30,
      "metadata": {
        "colab": {
          "base_uri": "https://localhost:8080/"
        },
        "id": "bjeOGjYKLKMy",
        "outputId": "3180ce05-b757-4b74-8724-f01ed6eb5f6e"
      },
      "outputs": [
        {
          "name": "stdout",
          "output_type": "stream",
          "text": [
            "+---------------+-----------+----------------+---------------+--------------------+--------+-----------------+-------------------------+-----------+--------------------+-----------------+-----------------+----+------------------+\n",
            "|Item_Identifier|Item_Weight|Item_Fat_Content|Item_Visibility|           Item_Type|Item_MRP|Outlet_Identifier|Outlet_Establishment_Year|Outlet_Size|Outlet_Location_Type|      Outlet_Type|Item_Outlet_Sales|flag|        multiplied|\n",
            "+---------------+-----------+----------------+---------------+--------------------+--------+-----------------+-------------------------+-----------+--------------------+-----------------+-----------------+----+------------------+\n",
            "|          FDC02|      21.35|         Low Fat|    0.068765205|              Canned|260.4278|           OUT013|                     1987|       High|              Tier 3|Supermarket Type1|        3644.5892| new|        5560.13353|\n",
            "|          FDC02|      21.35|         Low Fat|    0.068809463|              Canned|258.5278|           OUT035|                     2004|      Small|              Tier 2|Supermarket Type1|         5206.556| new|5519.5685300000005|\n",
            "|          FDC02|      21.35|         Low Fat|    0.068822477|              Canned|258.3278|           OUT046|                     1997|      Small|              Tier 1|Supermarket Type1|        7028.8506| new| 5515.298530000001|\n",
            "|          FDC02|      21.35|         Low Fat|    0.069102831|              Canned|259.9278|           OUT018|                     2009|     Medium|              Tier 3|Supermarket Type2|        6768.5228| new|        5549.45853|\n",
            "|          FDR07|      21.35|         Low Fat|    0.078060605|Fruits and Vegeta...| 96.0094|           OUT018|                     2009|     Medium|              Tier 3|Supermarket Type2|         380.8376| new|        2049.80069|\n",
            "|          FDC02|      21.35|         Low Fat|    0.115194717|              Canned|258.3278|           OUT010|                     1998|       NULL|              Tier 3|    Grocery Store|         520.6556| new| 5515.298530000001|\n",
            "|          FDR07|      21.35|         Low Fat|    0.130127365|Fruits and Vegeta...| 96.2094|           OUT010|                     1998|       NULL|              Tier 3|    Grocery Store|         190.4188| new|        2054.07069|\n",
            "|          FDT03|      21.25|         Low Fat|    0.009996872|                Meat|185.5608|           OUT035|                     2004|      Small|              Tier 2|Supermarket Type1|        3123.9336| new|          3943.167|\n",
            "|          FDT03|      21.25|         Low Fat|    0.009998763|                Meat|182.3608|           OUT046|                     1997|      Small|              Tier 1|Supermarket Type1|         551.2824| new|3875.1670000000004|\n",
            "|          FDT03|      21.25|         Low Fat|     0.01001904|                Meat|184.6608|           OUT045|                     2002|       NULL|              Tier 2|Supermarket Type1|         367.5216| new|          3924.042|\n",
            "+---------------+-----------+----------------+---------------+--------------------+--------+-----------------+-------------------------+-----------+--------------------+-----------------+-----------------+----+------------------+\n",
            "\n"
          ]
        }
      ],
      "source": [
        "df.sort(['Item_Weight','Item_Visibility'],ascending=[0,1]).limit(10) .show()"
      ]
    },
    {
      "cell_type": "markdown",
      "metadata": {
        "id": "bk4xsXmeLKBx"
      },
      "source": [
        "\n",
        "#Drop"
      ]
    },
    {
      "cell_type": "code",
      "execution_count": 31,
      "metadata": {
        "colab": {
          "base_uri": "https://localhost:8080/"
        },
        "id": "mNkp-VPrLJ23",
        "outputId": "33b31784-0e99-49dd-ec35-e5d6daf1748c"
      },
      "outputs": [
        {
          "name": "stdout",
          "output_type": "stream",
          "text": [
            "+---------------+-----------+----------------+---------------+--------------------+--------+-----------------+-------------------------+-----------+--------------------+-----------------+----+------------------+\n",
            "|Item_Identifier|Item_Weight|Item_Fat_Content|Item_Visibility|           Item_Type|Item_MRP|Outlet_Identifier|Outlet_Establishment_Year|Outlet_Size|Outlet_Location_Type|Item_Outlet_Sales|flag|        multiplied|\n",
            "+---------------+-----------+----------------+---------------+--------------------+--------+-----------------+-------------------------+-----------+--------------------+-----------------+----+------------------+\n",
            "|          FDA15|        9.3|         Low Fat|    0.016047301|               Dairy|249.8092|           OUT049|                     1999|     Medium|              Tier 1|         3735.138| new|2323.2255600000003|\n",
            "|          DRC01|       5.92|         Regular|    0.019278216|         Soft Drinks| 48.2692|           OUT018|                     2009|     Medium|              Tier 3|         443.4228| new|285.75366399999996|\n",
            "|          FDN15|       17.5|         Low Fat|    0.016760075|                Meat| 141.618|           OUT049|                     1999|     Medium|              Tier 1|          2097.27| new|          2478.315|\n",
            "|          FDX07|       19.2|         Regular|            0.0|Fruits and Vegeta...| 182.095|           OUT010|                     1998|       NULL|              Tier 3|           732.38| new|3496.2239999999997|\n",
            "|          NCD19|       8.93|         Low Fat|            0.0|           Household| 53.8614|           OUT013|                     1987|       High|              Tier 3|         994.7052| new|        480.982302|\n",
            "|          FDP36|     10.395|         Regular|            0.0|        Baking Goods| 51.4008|           OUT018|                     2009|     Medium|              Tier 3|         556.6088| new| 534.3113159999999|\n",
            "|          FDO10|      13.65|         Regular|    0.012741089|         Snack Foods| 57.6588|           OUT013|                     1987|       High|              Tier 3|         343.5528| new|         787.04262|\n",
            "|          FDP10|       NULL|         Low Fat|    0.127469857|         Snack Foods|107.7622|           OUT027|                     1985|     Medium|              Tier 3|        4022.7636| new|              NULL|\n",
            "|          FDH17|       16.2|         Regular|    0.016687114|        Frozen Foods| 96.9726|           OUT045|                     2002|       NULL|              Tier 2|        1076.5986| new|1570.9561199999998|\n",
            "|          FDU28|       19.2|         Regular|     0.09444959|        Frozen Foods|187.8214|           OUT017|                     2007|       NULL|              Tier 2|         4710.535| new|        3606.17088|\n",
            "|          FDY07|       11.8|         Low Fat|            0.0|Fruits and Vegeta...| 45.5402|           OUT049|                     1999|     Medium|              Tier 1|        1516.0266| new|         537.37436|\n",
            "|          FDA03|       18.5|         Regular|    0.045463773|               Dairy|144.1102|           OUT046|                     1997|      Small|              Tier 1|         2187.153| new|         2666.0387|\n",
            "|          FDX32|       15.1|         Regular|      0.1000135|Fruits and Vegeta...|145.4786|           OUT049|                     1999|     Medium|              Tier 1|        1589.2646| new|2196.7268599999998|\n",
            "|          FDS46|       17.6|         Regular|    0.047257328|         Snack Foods|119.6782|           OUT046|                     1997|      Small|              Tier 1|        2145.2076| new|2106.3363200000003|\n",
            "|          FDF32|      16.35|         Low Fat|      0.0680243|Fruits and Vegeta...|196.4426|           OUT013|                     1987|       High|              Tier 3|         1977.426| new|        3211.83651|\n",
            "|          FDP49|        9.0|         Regular|    0.069088961|           Breakfast| 56.3614|           OUT046|                     1997|      Small|              Tier 1|        1547.3192| new|507.25260000000003|\n",
            "|          NCB42|       11.8|         Low Fat|    0.008596051|  Health and Hygiene|115.3492|           OUT018|                     2009|     Medium|              Tier 3|        1621.8888| new|        1361.12056|\n",
            "|          FDP49|        9.0|         Regular|    0.069196376|           Breakfast| 54.3614|           OUT049|                     1999|     Medium|              Tier 1|         718.3982| new|489.25260000000003|\n",
            "|          DRI11|       NULL|         Low Fat|    0.034237682|         Hard Drinks|113.2834|           OUT027|                     1985|     Medium|              Tier 3|         2303.668| new|              NULL|\n",
            "|          FDU02|      13.35|         Low Fat|     0.10249212|               Dairy|230.5352|           OUT035|                     2004|      Small|              Tier 2|        2748.4224| new|        3077.64492|\n",
            "+---------------+-----------+----------------+---------------+--------------------+--------+-----------------+-------------------------+-----------+--------------------+-----------------+----+------------------+\n",
            "only showing top 20 rows\n",
            "\n"
          ]
        }
      ],
      "source": [
        "df.drop('Outlet_Type') .show()"
      ]
    },
    {
      "cell_type": "code",
      "execution_count": 32,
      "metadata": {
        "colab": {
          "base_uri": "https://localhost:8080/"
        },
        "id": "D84CRpGwLlxZ",
        "outputId": "eb6692fb-24bd-4962-ce0a-7ba6f8030315"
      },
      "outputs": [
        {
          "name": "stdout",
          "output_type": "stream",
          "text": [
            "root\n",
            " |-- Item_Identifier: string (nullable = true)\n",
            " |-- Item_Weight: float (nullable = true)\n",
            " |-- Item_Fat_Content: string (nullable = true)\n",
            " |-- Item_Visibility: double (nullable = true)\n",
            " |-- Item_Type: string (nullable = true)\n",
            " |-- Item_MRP: double (nullable = true)\n",
            " |-- Outlet_Identifier: string (nullable = true)\n",
            " |-- Outlet_Establishment_Year: integer (nullable = true)\n",
            " |-- Outlet_Size: string (nullable = true)\n",
            " |-- Outlet_Location_Type: string (nullable = true)\n",
            " |-- Outlet_Type: string (nullable = true)\n",
            " |-- Item_Outlet_Sales: double (nullable = true)\n",
            " |-- flag: string (nullable = false)\n",
            " |-- multiplied: double (nullable = true)\n",
            "\n"
          ]
        }
      ],
      "source": [
        "df.printSchema()"
      ]
    },
    {
      "cell_type": "markdown",
      "metadata": {
        "id": "6abOznYDLlt3"
      },
      "source": [
        "\n",
        "# Drop Duplicates"
      ]
    },
    {
      "cell_type": "code",
      "execution_count": 33,
      "metadata": {
        "colab": {
          "base_uri": "https://localhost:8080/"
        },
        "id": "XXNitS5yLoq4",
        "outputId": "121c0f94-d386-4d3f-ce00-9ea3830778fc"
      },
      "outputs": [
        {
          "name": "stdout",
          "output_type": "stream",
          "text": [
            "+---------------+-----------+----------------+---------------+--------------------+--------+-----------------+-------------------------+-----------+--------------------+-----------------+-----------------+----+------------------+\n",
            "|Item_Identifier|Item_Weight|Item_Fat_Content|Item_Visibility|           Item_Type|Item_MRP|Outlet_Identifier|Outlet_Establishment_Year|Outlet_Size|Outlet_Location_Type|      Outlet_Type|Item_Outlet_Sales|flag|        multiplied|\n",
            "+---------------+-----------+----------------+---------------+--------------------+--------+-----------------+-------------------------+-----------+--------------------+-----------------+-----------------+----+------------------+\n",
            "|          FDW28|      18.25|         Low Fat|            0.0|        Frozen Foods|196.8452|           OUT046|                     1997|      Small|              Tier 1|Supermarket Type1|        3327.6684| new|         3592.4249|\n",
            "|          DRE27|      11.85|         Low Fat|     0.13267058|               Dairy| 96.4726|           OUT046|                     1997|      Small|              Tier 1|Supermarket Type1|          978.726| new|        1143.20031|\n",
            "|          FDW09|      13.65|             reg|    0.025899245|         Snack Foods| 81.1302|           OUT013|                     1987|       High|              Tier 3|Supermarket Type1|          792.302| new|        1107.42723|\n",
            "|          FDC51|     10.895|         Regular|    0.009613854|               Dairy| 122.973|           OUT013|                     1987|       High|              Tier 3|Supermarket Type1|          1231.73| new|       1339.790835|\n",
            "|          NCL18|      18.85|         Low Fat|     0.16758389|           Household|194.6136|           OUT046|                     1997|      Small|              Tier 1|Supermarket Type1|        2721.7904| new|        3668.46636|\n",
            "|          FDD35|      12.15|         Low Fat|            0.0|       Starchy Foods| 119.244|           OUT035|                     2004|      Small|              Tier 2|Supermarket Type1|         2636.568| new|         1448.8146|\n",
            "|          FDV52|       20.7|         Regular|    0.122015744|        Frozen Foods|117.7466|           OUT018|                     2009|     Medium|              Tier 3|Supermarket Type2|        2828.3184| new|        2437.35462|\n",
            "|          FDF11|     10.195|             reg|    0.017703044|       Starchy Foods|239.4538|           OUT018|                     2009|     Medium|              Tier 3|Supermarket Type2|         3605.307| new|       2441.231491|\n",
            "|          FDL56|       14.1|         Low Fat|    0.125756824|Fruits and Vegeta...| 87.1198|           OUT035|                     2004|      Small|              Tier 2|Supermarket Type1|        2529.3742| new|        1228.38918|\n",
            "|          FDE35|       7.06|         Regular|    0.043968652|       Starchy Foods| 57.6904|           OUT049|                     1999|     Medium|              Tier 1|Supermarket Type1|          585.904| new|407.29422399999993|\n",
            "|          FDG31|      12.15|         Low Fat|    0.037864854|                Meat| 63.0826|           OUT013|                     1987|       High|              Tier 3|Supermarket Type1|          322.913| new|         766.45359|\n",
            "|          NCD07|        9.1|         Low Fat|    0.055382616|           Household|115.0518|           OUT013|                     1987|       High|              Tier 3|Supermarket Type1|         683.1108| new|        1046.97138|\n",
            "|          FDV03|       17.6|         Low Fat|    0.058091269|                Meat|156.2314|           OUT046|                     1997|      Small|              Tier 1|Supermarket Type1|        2947.4966| new|2749.6726400000002|\n",
            "|          FDS50|       17.0|         Low Fat|    0.055433377|               Dairy|221.1114|           OUT046|                     1997|      Small|              Tier 1|Supermarket Type1|         4434.228| new|         3758.8938|\n",
            "|          FDW09|      13.65|         Regular|    0.025920816|         Snack Foods| 81.2302|           OUT046|                     1997|      Small|              Tier 1|Supermarket Type1|        2059.9852| new|        1108.79223|\n",
            "|          FDF26|      6.825|         Regular|    0.046824729|              Canned|155.1998|           OUT018|                     2009|     Medium|              Tier 3|Supermarket Type2|        2460.7968| new|1059.2386350000002|\n",
            "|          FDF59|       12.5|         Low Fat|    0.071354774|       Starchy Foods| 125.702|           OUT049|                     1999|     Medium|              Tier 1|Supermarket Type1|          2530.04| new|          1571.275|\n",
            "|          FDV35|       19.5|         Low Fat|    0.128728258|              Breads|155.3314|           OUT018|                     2009|     Medium|              Tier 3|Supermarket Type2|        3412.8908| new|         3028.9623|\n",
            "|          NCI55|       18.6|         Low Fat|    0.012673238|           Household|121.5414|           OUT049|                     1999|     Medium|              Tier 1|Supermarket Type1|        4020.7662| new|        2260.67004|\n",
            "|          FDW45|       18.0|         Low Fat|    0.039071642|         Snack Foods|145.3418|           OUT049|                     1999|     Medium|              Tier 1|Supermarket Type1|         882.8508| new|         2616.1524|\n",
            "+---------------+-----------+----------------+---------------+--------------------+--------+-----------------+-------------------------+-----------+--------------------+-----------------+-----------------+----+------------------+\n",
            "only showing top 20 rows\n",
            "\n"
          ]
        }
      ],
      "source": [
        "df.drop_duplicates() .show()"
      ]
    },
    {
      "cell_type": "code",
      "execution_count": 34,
      "metadata": {
        "colab": {
          "base_uri": "https://localhost:8080/"
        },
        "id": "DDDsmLWZLlq_",
        "outputId": "cf8daf63-7633-4401-bd88-f80480256799"
      },
      "outputs": [
        {
          "name": "stdout",
          "output_type": "stream",
          "text": [
            "+---------------+-----------+----------------+---------------+--------------------+--------+-----------------+-------------------------+-----------+--------------------+-----------------+-----------------+----+------------------+\n",
            "|Item_Identifier|Item_Weight|Item_Fat_Content|Item_Visibility|           Item_Type|Item_MRP|Outlet_Identifier|Outlet_Establishment_Year|Outlet_Size|Outlet_Location_Type|      Outlet_Type|Item_Outlet_Sales|flag|        multiplied|\n",
            "+---------------+-----------+----------------+---------------+--------------------+--------+-----------------+-------------------------+-----------+--------------------+-----------------+-----------------+----+------------------+\n",
            "|          FDP36|     10.395|         Regular|            0.0|        Baking Goods| 51.4008|           OUT018|                     2009|     Medium|              Tier 3|Supermarket Type2|         556.6088| new| 534.3113159999999|\n",
            "|          FDO23|      17.85|         Low Fat|            0.0|              Breads| 93.1436|           OUT045|                     2002|       NULL|              Tier 2|Supermarket Type1|        2174.5028| new|1662.6132600000003|\n",
            "|          FDP49|        9.0|         Regular|    0.069088961|           Breakfast| 56.3614|           OUT046|                     1997|      Small|              Tier 1|Supermarket Type1|        1547.3192| new|507.25260000000003|\n",
            "|          FDC14|       NULL|         Regular|    0.072221801|              Canned| 43.6454|           OUT019|                     1985|      Small|              Tier 1|    Grocery Store|         125.8362| new|              NULL|\n",
            "|          FDA15|        9.3|         Low Fat|    0.016047301|               Dairy|249.8092|           OUT049|                     1999|     Medium|              Tier 1|Supermarket Type1|         3735.138| new|2323.2255600000003|\n",
            "|          FDH17|       16.2|         Regular|    0.016687114|        Frozen Foods| 96.9726|           OUT045|                     2002|       NULL|              Tier 2|Supermarket Type1|        1076.5986| new|1570.9561199999998|\n",
            "|          FDX07|       19.2|         Regular|            0.0|Fruits and Vegeta...| 182.095|           OUT010|                     1998|       NULL|              Tier 3|    Grocery Store|           732.38| new|3496.2239999999997|\n",
            "|          DRI11|       NULL|         Low Fat|    0.034237682|         Hard Drinks|113.2834|           OUT027|                     1985|     Medium|              Tier 3|Supermarket Type3|         2303.668| new|              NULL|\n",
            "|          NCB42|       11.8|         Low Fat|    0.008596051|  Health and Hygiene|115.3492|           OUT018|                     2009|     Medium|              Tier 3|Supermarket Type2|        1621.8888| new|        1361.12056|\n",
            "|          NCD19|       8.93|         Low Fat|            0.0|           Household| 53.8614|           OUT013|                     1987|       High|              Tier 3|Supermarket Type1|         994.7052| new|        480.982302|\n",
            "|          FDN15|       17.5|         Low Fat|    0.016760075|                Meat| 141.618|           OUT049|                     1999|     Medium|              Tier 1|Supermarket Type1|          2097.27| new|          2478.315|\n",
            "|          NCN07|       18.5|         Low Fat|    0.056816465|              Others|132.1284|           OUT010|                     1998|       NULL|              Tier 3|    Grocery Store|         263.6568| new|         2444.3754|\n",
            "|          FDG33|       NULL|         Regular|     0.13956116|             Seafood|170.4764|           OUT027|                     1985|     Medium|              Tier 3|Supermarket Type3|         3435.528| new|              NULL|\n",
            "|          FDO10|      13.65|         Regular|    0.012741089|         Snack Foods| 57.6588|           OUT013|                     1987|       High|              Tier 3|Supermarket Type1|         343.5528| new|         787.04262|\n",
            "|          DRC01|       5.92|         Regular|    0.019278216|         Soft Drinks| 48.2692|           OUT018|                     2009|     Medium|              Tier 3|Supermarket Type2|         443.4228| new|285.75366399999996|\n",
            "|          FDH35|      18.25|         Low Fat|            0.0|       Starchy Foods|164.7526|           OUT045|                     2002|       NULL|              Tier 2|Supermarket Type1|        4604.6728| new|        3006.73495|\n",
            "+---------------+-----------+----------------+---------------+--------------------+--------+-----------------+-------------------------+-----------+--------------------+-----------------+-----------------+----+------------------+\n",
            "\n"
          ]
        }
      ],
      "source": [
        "df.drop_duplicates(subset =['Item_Type']) .show()"
      ]
    },
    {
      "cell_type": "markdown",
      "metadata": {
        "id": "e_xnj4eHLw4y"
      },
      "source": [
        "\n",
        "# Union and Union byName"
      ]
    },
    {
      "cell_type": "code",
      "execution_count": 35,
      "metadata": {
        "id": "da2CEwYfLln4"
      },
      "outputs": [],
      "source": [
        "data1 = [('1','kad'),('2','sid')]\n",
        "schema1 = 'id String , name String'\n",
        "df1 = spark.createDataFrame(data = data1,schema = schema1)\n",
        "data2 =[('3','Hello'),('4','World')]\n",
        "df2 = spark.createDataFrame(data = data2,schema = schema1)\n"
      ]
    },
    {
      "cell_type": "code",
      "execution_count": 36,
      "metadata": {
        "colab": {
          "base_uri": "https://localhost:8080/"
        },
        "id": "1aWYdZUtLvJQ",
        "outputId": "8313ec89-3bcf-4be7-82ff-e2ec089e01da"
      },
      "outputs": [
        {
          "name": "stdout",
          "output_type": "stream",
          "text": [
            "+---+-----+\n",
            "| id| name|\n",
            "+---+-----+\n",
            "|  1|  kad|\n",
            "|  2|  sid|\n",
            "|  3|Hello|\n",
            "|  4|World|\n",
            "+---+-----+\n",
            "\n"
          ]
        }
      ],
      "source": [
        "df1.union(df2) .show()"
      ]
    },
    {
      "cell_type": "markdown",
      "metadata": {
        "id": "G5bdSqxEL4To"
      },
      "source": [
        "\n",
        "When both columns have different schema we use unionByName"
      ]
    },
    {
      "cell_type": "markdown",
      "metadata": {
        "id": "hVhYs8blLlkl"
      },
      "source": [
        "\n",
        "# String Functions"
      ]
    },
    {
      "cell_type": "code",
      "execution_count": 37,
      "metadata": {
        "colab": {
          "base_uri": "https://localhost:8080/"
        },
        "id": "A3xoPtAWLlh0",
        "outputId": "12835c1a-04bc-4efc-c830-3c68eff1fd82"
      },
      "outputs": [
        {
          "name": "stdout",
          "output_type": "stream",
          "text": [
            "+--------------------+\n",
            "|  initcap(Item_Type)|\n",
            "+--------------------+\n",
            "|               Dairy|\n",
            "|         Soft Drinks|\n",
            "|                Meat|\n",
            "|Fruits And Vegeta...|\n",
            "|           Household|\n",
            "|        Baking Goods|\n",
            "|         Snack Foods|\n",
            "|         Snack Foods|\n",
            "|        Frozen Foods|\n",
            "|        Frozen Foods|\n",
            "|Fruits And Vegeta...|\n",
            "|               Dairy|\n",
            "|Fruits And Vegeta...|\n",
            "|         Snack Foods|\n",
            "|Fruits And Vegeta...|\n",
            "|           Breakfast|\n",
            "|  Health And Hygiene|\n",
            "|           Breakfast|\n",
            "|         Hard Drinks|\n",
            "|               Dairy|\n",
            "+--------------------+\n",
            "only showing top 20 rows\n",
            "\n"
          ]
        }
      ],
      "source": [
        "df.select(initcap('Item_Type')) .show()"
      ]
    },
    {
      "cell_type": "markdown",
      "metadata": {
        "id": "wO8ieVPmL65y"
      },
      "source": []
    },
    {
      "cell_type": "code",
      "execution_count": 38,
      "metadata": {
        "colab": {
          "base_uri": "https://localhost:8080/"
        },
        "id": "imsLZaglLlfd",
        "outputId": "ae9bbfa7-f7d6-4de5-954b-397cbe0507a5"
      },
      "outputs": [
        {
          "name": "stdout",
          "output_type": "stream",
          "text": [
            "+--------------------+\n",
            "|    upper(Item_Type)|\n",
            "+--------------------+\n",
            "|               DAIRY|\n",
            "|         SOFT DRINKS|\n",
            "|                MEAT|\n",
            "|FRUITS AND VEGETA...|\n",
            "|           HOUSEHOLD|\n",
            "|        BAKING GOODS|\n",
            "|         SNACK FOODS|\n",
            "|         SNACK FOODS|\n",
            "|        FROZEN FOODS|\n",
            "|        FROZEN FOODS|\n",
            "|FRUITS AND VEGETA...|\n",
            "|               DAIRY|\n",
            "|FRUITS AND VEGETA...|\n",
            "|         SNACK FOODS|\n",
            "|FRUITS AND VEGETA...|\n",
            "|           BREAKFAST|\n",
            "|  HEALTH AND HYGIENE|\n",
            "|           BREAKFAST|\n",
            "|         HARD DRINKS|\n",
            "|               DAIRY|\n",
            "+--------------------+\n",
            "only showing top 20 rows\n",
            "\n"
          ]
        }
      ],
      "source": [
        "df.select(upper('Item_Type')) .show()"
      ]
    },
    {
      "cell_type": "code",
      "execution_count": 39,
      "metadata": {
        "colab": {
          "base_uri": "https://localhost:8080/"
        },
        "id": "pz-x_LHvLlcR",
        "outputId": "b1de6ca5-ac9a-4a63-cb80-960c69f586e0"
      },
      "outputs": [
        {
          "name": "stdout",
          "output_type": "stream",
          "text": [
            "+--------------------+\n",
            "|    lower(Item_Type)|\n",
            "+--------------------+\n",
            "|               dairy|\n",
            "|         soft drinks|\n",
            "|                meat|\n",
            "|fruits and vegeta...|\n",
            "|           household|\n",
            "|        baking goods|\n",
            "|         snack foods|\n",
            "|         snack foods|\n",
            "|        frozen foods|\n",
            "|        frozen foods|\n",
            "|fruits and vegeta...|\n",
            "|               dairy|\n",
            "|fruits and vegeta...|\n",
            "|         snack foods|\n",
            "|fruits and vegeta...|\n",
            "|           breakfast|\n",
            "|  health and hygiene|\n",
            "|           breakfast|\n",
            "|         hard drinks|\n",
            "|               dairy|\n",
            "+--------------------+\n",
            "only showing top 20 rows\n",
            "\n"
          ]
        }
      ],
      "source": [
        "df.select(lower('Item_Type')) .show()"
      ]
    },
    {
      "cell_type": "markdown",
      "metadata": {
        "id": "wL6B4zwOMKh-"
      },
      "source": [
        "\n",
        "# Date Functions"
      ]
    },
    {
      "cell_type": "code",
      "execution_count": 40,
      "metadata": {
        "colab": {
          "base_uri": "https://localhost:8080/"
        },
        "id": "tPoi1IRMLlZS",
        "outputId": "1fb74e81-cf93-46bb-d3d4-7fd836c65c75"
      },
      "outputs": [
        {
          "name": "stdout",
          "output_type": "stream",
          "text": [
            "+---------------+-----------+----------------+---------------+--------------------+--------+-----------------+-------------------------+-----------+--------------------+-----------------+-----------------+----+------------------+----------+\n",
            "|Item_Identifier|Item_Weight|Item_Fat_Content|Item_Visibility|           Item_Type|Item_MRP|Outlet_Identifier|Outlet_Establishment_Year|Outlet_Size|Outlet_Location_Type|      Outlet_Type|Item_Outlet_Sales|flag|        multiplied| curr_date|\n",
            "+---------------+-----------+----------------+---------------+--------------------+--------+-----------------+-------------------------+-----------+--------------------+-----------------+-----------------+----+------------------+----------+\n",
            "|          FDA15|        9.3|         Low Fat|    0.016047301|               Dairy|249.8092|           OUT049|                     1999|     Medium|              Tier 1|Supermarket Type1|         3735.138| new|2323.2255600000003|2025-06-17|\n",
            "|          DRC01|       5.92|         Regular|    0.019278216|         Soft Drinks| 48.2692|           OUT018|                     2009|     Medium|              Tier 3|Supermarket Type2|         443.4228| new|285.75366399999996|2025-06-17|\n",
            "|          FDN15|       17.5|         Low Fat|    0.016760075|                Meat| 141.618|           OUT049|                     1999|     Medium|              Tier 1|Supermarket Type1|          2097.27| new|          2478.315|2025-06-17|\n",
            "|          FDX07|       19.2|         Regular|            0.0|Fruits and Vegeta...| 182.095|           OUT010|                     1998|       NULL|              Tier 3|    Grocery Store|           732.38| new|3496.2239999999997|2025-06-17|\n",
            "|          NCD19|       8.93|         Low Fat|            0.0|           Household| 53.8614|           OUT013|                     1987|       High|              Tier 3|Supermarket Type1|         994.7052| new|        480.982302|2025-06-17|\n",
            "|          FDP36|     10.395|         Regular|            0.0|        Baking Goods| 51.4008|           OUT018|                     2009|     Medium|              Tier 3|Supermarket Type2|         556.6088| new| 534.3113159999999|2025-06-17|\n",
            "|          FDO10|      13.65|         Regular|    0.012741089|         Snack Foods| 57.6588|           OUT013|                     1987|       High|              Tier 3|Supermarket Type1|         343.5528| new|         787.04262|2025-06-17|\n",
            "|          FDP10|       NULL|         Low Fat|    0.127469857|         Snack Foods|107.7622|           OUT027|                     1985|     Medium|              Tier 3|Supermarket Type3|        4022.7636| new|              NULL|2025-06-17|\n",
            "|          FDH17|       16.2|         Regular|    0.016687114|        Frozen Foods| 96.9726|           OUT045|                     2002|       NULL|              Tier 2|Supermarket Type1|        1076.5986| new|1570.9561199999998|2025-06-17|\n",
            "|          FDU28|       19.2|         Regular|     0.09444959|        Frozen Foods|187.8214|           OUT017|                     2007|       NULL|              Tier 2|Supermarket Type1|         4710.535| new|        3606.17088|2025-06-17|\n",
            "|          FDY07|       11.8|         Low Fat|            0.0|Fruits and Vegeta...| 45.5402|           OUT049|                     1999|     Medium|              Tier 1|Supermarket Type1|        1516.0266| new|         537.37436|2025-06-17|\n",
            "|          FDA03|       18.5|         Regular|    0.045463773|               Dairy|144.1102|           OUT046|                     1997|      Small|              Tier 1|Supermarket Type1|         2187.153| new|         2666.0387|2025-06-17|\n",
            "|          FDX32|       15.1|         Regular|      0.1000135|Fruits and Vegeta...|145.4786|           OUT049|                     1999|     Medium|              Tier 1|Supermarket Type1|        1589.2646| new|2196.7268599999998|2025-06-17|\n",
            "|          FDS46|       17.6|         Regular|    0.047257328|         Snack Foods|119.6782|           OUT046|                     1997|      Small|              Tier 1|Supermarket Type1|        2145.2076| new|2106.3363200000003|2025-06-17|\n",
            "|          FDF32|      16.35|         Low Fat|      0.0680243|Fruits and Vegeta...|196.4426|           OUT013|                     1987|       High|              Tier 3|Supermarket Type1|         1977.426| new|        3211.83651|2025-06-17|\n",
            "|          FDP49|        9.0|         Regular|    0.069088961|           Breakfast| 56.3614|           OUT046|                     1997|      Small|              Tier 1|Supermarket Type1|        1547.3192| new|507.25260000000003|2025-06-17|\n",
            "|          NCB42|       11.8|         Low Fat|    0.008596051|  Health and Hygiene|115.3492|           OUT018|                     2009|     Medium|              Tier 3|Supermarket Type2|        1621.8888| new|        1361.12056|2025-06-17|\n",
            "|          FDP49|        9.0|         Regular|    0.069196376|           Breakfast| 54.3614|           OUT049|                     1999|     Medium|              Tier 1|Supermarket Type1|         718.3982| new|489.25260000000003|2025-06-17|\n",
            "|          DRI11|       NULL|         Low Fat|    0.034237682|         Hard Drinks|113.2834|           OUT027|                     1985|     Medium|              Tier 3|Supermarket Type3|         2303.668| new|              NULL|2025-06-17|\n",
            "|          FDU02|      13.35|         Low Fat|     0.10249212|               Dairy|230.5352|           OUT035|                     2004|      Small|              Tier 2|Supermarket Type1|        2748.4224| new|        3077.64492|2025-06-17|\n",
            "+---------------+-----------+----------------+---------------+--------------------+--------+-----------------+-------------------------+-----------+--------------------+-----------------+-----------------+----+------------------+----------+\n",
            "only showing top 20 rows\n",
            "\n"
          ]
        }
      ],
      "source": [
        "df = df.withColumn('curr_date',current_date())\n",
        "df .show()"
      ]
    },
    {
      "cell_type": "code",
      "execution_count": 41,
      "metadata": {
        "colab": {
          "base_uri": "https://localhost:8080/"
        },
        "id": "CXxyNPWCLlWS",
        "outputId": "dc5ce7fb-d949-4420-bfad-c3d56e3f15cb"
      },
      "outputs": [
        {
          "name": "stdout",
          "output_type": "stream",
          "text": [
            "+---------------+-----------+----------------+---------------+--------------------+--------+-----------------+-------------------------+-----------+--------------------+-----------------+-----------------+----+------------------+----------+------------+\n",
            "|Item_Identifier|Item_Weight|Item_Fat_Content|Item_Visibility|           Item_Type|Item_MRP|Outlet_Identifier|Outlet_Establishment_Year|Outlet_Size|Outlet_Location_Type|      Outlet_Type|Item_Outlet_Sales|flag|        multiplied| curr_date|a_week_after|\n",
            "+---------------+-----------+----------------+---------------+--------------------+--------+-----------------+-------------------------+-----------+--------------------+-----------------+-----------------+----+------------------+----------+------------+\n",
            "|          FDA15|        9.3|         Low Fat|    0.016047301|               Dairy|249.8092|           OUT049|                     1999|     Medium|              Tier 1|Supermarket Type1|         3735.138| new|2323.2255600000003|2025-06-17|  2025-06-24|\n",
            "|          DRC01|       5.92|         Regular|    0.019278216|         Soft Drinks| 48.2692|           OUT018|                     2009|     Medium|              Tier 3|Supermarket Type2|         443.4228| new|285.75366399999996|2025-06-17|  2025-06-24|\n",
            "|          FDN15|       17.5|         Low Fat|    0.016760075|                Meat| 141.618|           OUT049|                     1999|     Medium|              Tier 1|Supermarket Type1|          2097.27| new|          2478.315|2025-06-17|  2025-06-24|\n",
            "|          FDX07|       19.2|         Regular|            0.0|Fruits and Vegeta...| 182.095|           OUT010|                     1998|       NULL|              Tier 3|    Grocery Store|           732.38| new|3496.2239999999997|2025-06-17|  2025-06-24|\n",
            "|          NCD19|       8.93|         Low Fat|            0.0|           Household| 53.8614|           OUT013|                     1987|       High|              Tier 3|Supermarket Type1|         994.7052| new|        480.982302|2025-06-17|  2025-06-24|\n",
            "|          FDP36|     10.395|         Regular|            0.0|        Baking Goods| 51.4008|           OUT018|                     2009|     Medium|              Tier 3|Supermarket Type2|         556.6088| new| 534.3113159999999|2025-06-17|  2025-06-24|\n",
            "|          FDO10|      13.65|         Regular|    0.012741089|         Snack Foods| 57.6588|           OUT013|                     1987|       High|              Tier 3|Supermarket Type1|         343.5528| new|         787.04262|2025-06-17|  2025-06-24|\n",
            "|          FDP10|       NULL|         Low Fat|    0.127469857|         Snack Foods|107.7622|           OUT027|                     1985|     Medium|              Tier 3|Supermarket Type3|        4022.7636| new|              NULL|2025-06-17|  2025-06-24|\n",
            "|          FDH17|       16.2|         Regular|    0.016687114|        Frozen Foods| 96.9726|           OUT045|                     2002|       NULL|              Tier 2|Supermarket Type1|        1076.5986| new|1570.9561199999998|2025-06-17|  2025-06-24|\n",
            "|          FDU28|       19.2|         Regular|     0.09444959|        Frozen Foods|187.8214|           OUT017|                     2007|       NULL|              Tier 2|Supermarket Type1|         4710.535| new|        3606.17088|2025-06-17|  2025-06-24|\n",
            "|          FDY07|       11.8|         Low Fat|            0.0|Fruits and Vegeta...| 45.5402|           OUT049|                     1999|     Medium|              Tier 1|Supermarket Type1|        1516.0266| new|         537.37436|2025-06-17|  2025-06-24|\n",
            "|          FDA03|       18.5|         Regular|    0.045463773|               Dairy|144.1102|           OUT046|                     1997|      Small|              Tier 1|Supermarket Type1|         2187.153| new|         2666.0387|2025-06-17|  2025-06-24|\n",
            "|          FDX32|       15.1|         Regular|      0.1000135|Fruits and Vegeta...|145.4786|           OUT049|                     1999|     Medium|              Tier 1|Supermarket Type1|        1589.2646| new|2196.7268599999998|2025-06-17|  2025-06-24|\n",
            "|          FDS46|       17.6|         Regular|    0.047257328|         Snack Foods|119.6782|           OUT046|                     1997|      Small|              Tier 1|Supermarket Type1|        2145.2076| new|2106.3363200000003|2025-06-17|  2025-06-24|\n",
            "|          FDF32|      16.35|         Low Fat|      0.0680243|Fruits and Vegeta...|196.4426|           OUT013|                     1987|       High|              Tier 3|Supermarket Type1|         1977.426| new|        3211.83651|2025-06-17|  2025-06-24|\n",
            "|          FDP49|        9.0|         Regular|    0.069088961|           Breakfast| 56.3614|           OUT046|                     1997|      Small|              Tier 1|Supermarket Type1|        1547.3192| new|507.25260000000003|2025-06-17|  2025-06-24|\n",
            "|          NCB42|       11.8|         Low Fat|    0.008596051|  Health and Hygiene|115.3492|           OUT018|                     2009|     Medium|              Tier 3|Supermarket Type2|        1621.8888| new|        1361.12056|2025-06-17|  2025-06-24|\n",
            "|          FDP49|        9.0|         Regular|    0.069196376|           Breakfast| 54.3614|           OUT049|                     1999|     Medium|              Tier 1|Supermarket Type1|         718.3982| new|489.25260000000003|2025-06-17|  2025-06-24|\n",
            "|          DRI11|       NULL|         Low Fat|    0.034237682|         Hard Drinks|113.2834|           OUT027|                     1985|     Medium|              Tier 3|Supermarket Type3|         2303.668| new|              NULL|2025-06-17|  2025-06-24|\n",
            "|          FDU02|      13.35|         Low Fat|     0.10249212|               Dairy|230.5352|           OUT035|                     2004|      Small|              Tier 2|Supermarket Type1|        2748.4224| new|        3077.64492|2025-06-17|  2025-06-24|\n",
            "+---------------+-----------+----------------+---------------+--------------------+--------+-----------------+-------------------------+-----------+--------------------+-----------------+-----------------+----+------------------+----------+------------+\n",
            "only showing top 20 rows\n",
            "\n",
            "+---------------+-----------+----------------+---------------+--------------------+--------+-----------------+-------------------------+-----------+--------------------+-----------------+-----------------+----+------------------+----------+------------+-------------+\n",
            "|Item_Identifier|Item_Weight|Item_Fat_Content|Item_Visibility|           Item_Type|Item_MRP|Outlet_Identifier|Outlet_Establishment_Year|Outlet_Size|Outlet_Location_Type|      Outlet_Type|Item_Outlet_Sales|flag|        multiplied| curr_date|a_week_after|a_week_before|\n",
            "+---------------+-----------+----------------+---------------+--------------------+--------+-----------------+-------------------------+-----------+--------------------+-----------------+-----------------+----+------------------+----------+------------+-------------+\n",
            "|          FDA15|        9.3|         Low Fat|    0.016047301|               Dairy|249.8092|           OUT049|                     1999|     Medium|              Tier 1|Supermarket Type1|         3735.138| new|2323.2255600000003|2025-06-17|  2025-06-24|   2025-06-10|\n",
            "|          DRC01|       5.92|         Regular|    0.019278216|         Soft Drinks| 48.2692|           OUT018|                     2009|     Medium|              Tier 3|Supermarket Type2|         443.4228| new|285.75366399999996|2025-06-17|  2025-06-24|   2025-06-10|\n",
            "|          FDN15|       17.5|         Low Fat|    0.016760075|                Meat| 141.618|           OUT049|                     1999|     Medium|              Tier 1|Supermarket Type1|          2097.27| new|          2478.315|2025-06-17|  2025-06-24|   2025-06-10|\n",
            "|          FDX07|       19.2|         Regular|            0.0|Fruits and Vegeta...| 182.095|           OUT010|                     1998|       NULL|              Tier 3|    Grocery Store|           732.38| new|3496.2239999999997|2025-06-17|  2025-06-24|   2025-06-10|\n",
            "|          NCD19|       8.93|         Low Fat|            0.0|           Household| 53.8614|           OUT013|                     1987|       High|              Tier 3|Supermarket Type1|         994.7052| new|        480.982302|2025-06-17|  2025-06-24|   2025-06-10|\n",
            "|          FDP36|     10.395|         Regular|            0.0|        Baking Goods| 51.4008|           OUT018|                     2009|     Medium|              Tier 3|Supermarket Type2|         556.6088| new| 534.3113159999999|2025-06-17|  2025-06-24|   2025-06-10|\n",
            "|          FDO10|      13.65|         Regular|    0.012741089|         Snack Foods| 57.6588|           OUT013|                     1987|       High|              Tier 3|Supermarket Type1|         343.5528| new|         787.04262|2025-06-17|  2025-06-24|   2025-06-10|\n",
            "|          FDP10|       NULL|         Low Fat|    0.127469857|         Snack Foods|107.7622|           OUT027|                     1985|     Medium|              Tier 3|Supermarket Type3|        4022.7636| new|              NULL|2025-06-17|  2025-06-24|   2025-06-10|\n",
            "|          FDH17|       16.2|         Regular|    0.016687114|        Frozen Foods| 96.9726|           OUT045|                     2002|       NULL|              Tier 2|Supermarket Type1|        1076.5986| new|1570.9561199999998|2025-06-17|  2025-06-24|   2025-06-10|\n",
            "|          FDU28|       19.2|         Regular|     0.09444959|        Frozen Foods|187.8214|           OUT017|                     2007|       NULL|              Tier 2|Supermarket Type1|         4710.535| new|        3606.17088|2025-06-17|  2025-06-24|   2025-06-10|\n",
            "|          FDY07|       11.8|         Low Fat|            0.0|Fruits and Vegeta...| 45.5402|           OUT049|                     1999|     Medium|              Tier 1|Supermarket Type1|        1516.0266| new|         537.37436|2025-06-17|  2025-06-24|   2025-06-10|\n",
            "|          FDA03|       18.5|         Regular|    0.045463773|               Dairy|144.1102|           OUT046|                     1997|      Small|              Tier 1|Supermarket Type1|         2187.153| new|         2666.0387|2025-06-17|  2025-06-24|   2025-06-10|\n",
            "|          FDX32|       15.1|         Regular|      0.1000135|Fruits and Vegeta...|145.4786|           OUT049|                     1999|     Medium|              Tier 1|Supermarket Type1|        1589.2646| new|2196.7268599999998|2025-06-17|  2025-06-24|   2025-06-10|\n",
            "|          FDS46|       17.6|         Regular|    0.047257328|         Snack Foods|119.6782|           OUT046|                     1997|      Small|              Tier 1|Supermarket Type1|        2145.2076| new|2106.3363200000003|2025-06-17|  2025-06-24|   2025-06-10|\n",
            "|          FDF32|      16.35|         Low Fat|      0.0680243|Fruits and Vegeta...|196.4426|           OUT013|                     1987|       High|              Tier 3|Supermarket Type1|         1977.426| new|        3211.83651|2025-06-17|  2025-06-24|   2025-06-10|\n",
            "|          FDP49|        9.0|         Regular|    0.069088961|           Breakfast| 56.3614|           OUT046|                     1997|      Small|              Tier 1|Supermarket Type1|        1547.3192| new|507.25260000000003|2025-06-17|  2025-06-24|   2025-06-10|\n",
            "|          NCB42|       11.8|         Low Fat|    0.008596051|  Health and Hygiene|115.3492|           OUT018|                     2009|     Medium|              Tier 3|Supermarket Type2|        1621.8888| new|        1361.12056|2025-06-17|  2025-06-24|   2025-06-10|\n",
            "|          FDP49|        9.0|         Regular|    0.069196376|           Breakfast| 54.3614|           OUT049|                     1999|     Medium|              Tier 1|Supermarket Type1|         718.3982| new|489.25260000000003|2025-06-17|  2025-06-24|   2025-06-10|\n",
            "|          DRI11|       NULL|         Low Fat|    0.034237682|         Hard Drinks|113.2834|           OUT027|                     1985|     Medium|              Tier 3|Supermarket Type3|         2303.668| new|              NULL|2025-06-17|  2025-06-24|   2025-06-10|\n",
            "|          FDU02|      13.35|         Low Fat|     0.10249212|               Dairy|230.5352|           OUT035|                     2004|      Small|              Tier 2|Supermarket Type1|        2748.4224| new|        3077.64492|2025-06-17|  2025-06-24|   2025-06-10|\n",
            "+---------------+-----------+----------------+---------------+--------------------+--------+-----------------+-------------------------+-----------+--------------------+-----------------+-----------------+----+------------------+----------+------------+-------------+\n",
            "only showing top 20 rows\n",
            "\n"
          ]
        }
      ],
      "source": [
        "df = df.withColumn('a_week_after',date_add('curr_date',7))\n",
        "df .show()\n",
        "df = df.withColumn('a_week_before',date_sub('curr_date',7))\n",
        "df .show()"
      ]
    },
    {
      "cell_type": "markdown",
      "metadata": {
        "id": "3_IKk1E4LlTe"
      },
      "source": [
        "\n",
        "# Date_Format"
      ]
    },
    {
      "cell_type": "code",
      "execution_count": 42,
      "metadata": {
        "colab": {
          "base_uri": "https://localhost:8080/"
        },
        "id": "J0k-A7M4LlQm",
        "outputId": "4e5affe2-1501-4558-8526-cdfd21a32cc4"
      },
      "outputs": [
        {
          "name": "stdout",
          "output_type": "stream",
          "text": [
            "+---------------+-----------+----------------+---------------+--------------------+--------+-----------------+-------------------------+-----------+--------------------+-----------------+-----------------+----+------------------+----------+------------+-------------+\n",
            "|Item_Identifier|Item_Weight|Item_Fat_Content|Item_Visibility|           Item_Type|Item_MRP|Outlet_Identifier|Outlet_Establishment_Year|Outlet_Size|Outlet_Location_Type|      Outlet_Type|Item_Outlet_Sales|flag|        multiplied| curr_date|a_week_after|a_week_before|\n",
            "+---------------+-----------+----------------+---------------+--------------------+--------+-----------------+-------------------------+-----------+--------------------+-----------------+-----------------+----+------------------+----------+------------+-------------+\n",
            "|          FDA15|        9.3|         Low Fat|    0.016047301|               Dairy|249.8092|           OUT049|                     1999|     Medium|              Tier 1|Supermarket Type1|         3735.138| new|2323.2255600000003|17-06-2025|  2025-06-24|   2025-06-10|\n",
            "|          DRC01|       5.92|         Regular|    0.019278216|         Soft Drinks| 48.2692|           OUT018|                     2009|     Medium|              Tier 3|Supermarket Type2|         443.4228| new|285.75366399999996|17-06-2025|  2025-06-24|   2025-06-10|\n",
            "|          FDN15|       17.5|         Low Fat|    0.016760075|                Meat| 141.618|           OUT049|                     1999|     Medium|              Tier 1|Supermarket Type1|          2097.27| new|          2478.315|17-06-2025|  2025-06-24|   2025-06-10|\n",
            "|          FDX07|       19.2|         Regular|            0.0|Fruits and Vegeta...| 182.095|           OUT010|                     1998|       NULL|              Tier 3|    Grocery Store|           732.38| new|3496.2239999999997|17-06-2025|  2025-06-24|   2025-06-10|\n",
            "|          NCD19|       8.93|         Low Fat|            0.0|           Household| 53.8614|           OUT013|                     1987|       High|              Tier 3|Supermarket Type1|         994.7052| new|        480.982302|17-06-2025|  2025-06-24|   2025-06-10|\n",
            "|          FDP36|     10.395|         Regular|            0.0|        Baking Goods| 51.4008|           OUT018|                     2009|     Medium|              Tier 3|Supermarket Type2|         556.6088| new| 534.3113159999999|17-06-2025|  2025-06-24|   2025-06-10|\n",
            "|          FDO10|      13.65|         Regular|    0.012741089|         Snack Foods| 57.6588|           OUT013|                     1987|       High|              Tier 3|Supermarket Type1|         343.5528| new|         787.04262|17-06-2025|  2025-06-24|   2025-06-10|\n",
            "|          FDP10|       NULL|         Low Fat|    0.127469857|         Snack Foods|107.7622|           OUT027|                     1985|     Medium|              Tier 3|Supermarket Type3|        4022.7636| new|              NULL|17-06-2025|  2025-06-24|   2025-06-10|\n",
            "|          FDH17|       16.2|         Regular|    0.016687114|        Frozen Foods| 96.9726|           OUT045|                     2002|       NULL|              Tier 2|Supermarket Type1|        1076.5986| new|1570.9561199999998|17-06-2025|  2025-06-24|   2025-06-10|\n",
            "|          FDU28|       19.2|         Regular|     0.09444959|        Frozen Foods|187.8214|           OUT017|                     2007|       NULL|              Tier 2|Supermarket Type1|         4710.535| new|        3606.17088|17-06-2025|  2025-06-24|   2025-06-10|\n",
            "+---------------+-----------+----------------+---------------+--------------------+--------+-----------------+-------------------------+-----------+--------------------+-----------------+-----------------+----+------------------+----------+------------+-------------+\n",
            "\n"
          ]
        }
      ],
      "source": [
        "df = df.withColumn('curr_date',date_format('curr_date','dd-MM-yyyy'))\n",
        "df.limit(10) .show()"
      ]
    },
    {
      "cell_type": "markdown",
      "metadata": {
        "id": "Q-CY6WlhLlNX"
      },
      "source": [
        "\n",
        "# Handling null values"
      ]
    },
    {
      "cell_type": "code",
      "execution_count": 43,
      "metadata": {
        "colab": {
          "base_uri": "https://localhost:8080/"
        },
        "id": "S6-sBBznLlKR",
        "outputId": "dae82735-3842-445a-cd9a-b748b08959d2"
      },
      "outputs": [
        {
          "name": "stdout",
          "output_type": "stream",
          "text": [
            "+---------------+-----------+----------------+---------------+--------------------+--------+-----------------+-------------------------+-----------+--------------------+-----------------+-----------------+----+------------------+----------+------------+-------------+\n",
            "|Item_Identifier|Item_Weight|Item_Fat_Content|Item_Visibility|           Item_Type|Item_MRP|Outlet_Identifier|Outlet_Establishment_Year|Outlet_Size|Outlet_Location_Type|      Outlet_Type|Item_Outlet_Sales|flag|        multiplied| curr_date|a_week_after|a_week_before|\n",
            "+---------------+-----------+----------------+---------------+--------------------+--------+-----------------+-------------------------+-----------+--------------------+-----------------+-----------------+----+------------------+----------+------------+-------------+\n",
            "|          FDA15|        9.3|         Low Fat|    0.016047301|               Dairy|249.8092|           OUT049|                     1999|     Medium|              Tier 1|Supermarket Type1|         3735.138| new|2323.2255600000003|17-06-2025|  2025-06-24|   2025-06-10|\n",
            "|          DRC01|       5.92|         Regular|    0.019278216|         Soft Drinks| 48.2692|           OUT018|                     2009|     Medium|              Tier 3|Supermarket Type2|         443.4228| new|285.75366399999996|17-06-2025|  2025-06-24|   2025-06-10|\n",
            "|          FDN15|       17.5|         Low Fat|    0.016760075|                Meat| 141.618|           OUT049|                     1999|     Medium|              Tier 1|Supermarket Type1|          2097.27| new|          2478.315|17-06-2025|  2025-06-24|   2025-06-10|\n",
            "|          FDX07|       19.2|         Regular|            0.0|Fruits and Vegeta...| 182.095|           OUT010|                     1998|       NULL|              Tier 3|    Grocery Store|           732.38| new|3496.2239999999997|17-06-2025|  2025-06-24|   2025-06-10|\n",
            "|          NCD19|       8.93|         Low Fat|            0.0|           Household| 53.8614|           OUT013|                     1987|       High|              Tier 3|Supermarket Type1|         994.7052| new|        480.982302|17-06-2025|  2025-06-24|   2025-06-10|\n",
            "|          FDP36|     10.395|         Regular|            0.0|        Baking Goods| 51.4008|           OUT018|                     2009|     Medium|              Tier 3|Supermarket Type2|         556.6088| new| 534.3113159999999|17-06-2025|  2025-06-24|   2025-06-10|\n",
            "|          FDO10|      13.65|         Regular|    0.012741089|         Snack Foods| 57.6588|           OUT013|                     1987|       High|              Tier 3|Supermarket Type1|         343.5528| new|         787.04262|17-06-2025|  2025-06-24|   2025-06-10|\n",
            "|          FDP10|       NULL|         Low Fat|    0.127469857|         Snack Foods|107.7622|           OUT027|                     1985|     Medium|              Tier 3|Supermarket Type3|        4022.7636| new|              NULL|17-06-2025|  2025-06-24|   2025-06-10|\n",
            "|          FDH17|       16.2|         Regular|    0.016687114|        Frozen Foods| 96.9726|           OUT045|                     2002|       NULL|              Tier 2|Supermarket Type1|        1076.5986| new|1570.9561199999998|17-06-2025|  2025-06-24|   2025-06-10|\n",
            "|          FDU28|       19.2|         Regular|     0.09444959|        Frozen Foods|187.8214|           OUT017|                     2007|       NULL|              Tier 2|Supermarket Type1|         4710.535| new|        3606.17088|17-06-2025|  2025-06-24|   2025-06-10|\n",
            "|          FDY07|       11.8|         Low Fat|            0.0|Fruits and Vegeta...| 45.5402|           OUT049|                     1999|     Medium|              Tier 1|Supermarket Type1|        1516.0266| new|         537.37436|17-06-2025|  2025-06-24|   2025-06-10|\n",
            "|          FDA03|       18.5|         Regular|    0.045463773|               Dairy|144.1102|           OUT046|                     1997|      Small|              Tier 1|Supermarket Type1|         2187.153| new|         2666.0387|17-06-2025|  2025-06-24|   2025-06-10|\n",
            "|          FDX32|       15.1|         Regular|      0.1000135|Fruits and Vegeta...|145.4786|           OUT049|                     1999|     Medium|              Tier 1|Supermarket Type1|        1589.2646| new|2196.7268599999998|17-06-2025|  2025-06-24|   2025-06-10|\n",
            "|          FDS46|       17.6|         Regular|    0.047257328|         Snack Foods|119.6782|           OUT046|                     1997|      Small|              Tier 1|Supermarket Type1|        2145.2076| new|2106.3363200000003|17-06-2025|  2025-06-24|   2025-06-10|\n",
            "|          FDF32|      16.35|         Low Fat|      0.0680243|Fruits and Vegeta...|196.4426|           OUT013|                     1987|       High|              Tier 3|Supermarket Type1|         1977.426| new|        3211.83651|17-06-2025|  2025-06-24|   2025-06-10|\n",
            "|          FDP49|        9.0|         Regular|    0.069088961|           Breakfast| 56.3614|           OUT046|                     1997|      Small|              Tier 1|Supermarket Type1|        1547.3192| new|507.25260000000003|17-06-2025|  2025-06-24|   2025-06-10|\n",
            "|          NCB42|       11.8|         Low Fat|    0.008596051|  Health and Hygiene|115.3492|           OUT018|                     2009|     Medium|              Tier 3|Supermarket Type2|        1621.8888| new|        1361.12056|17-06-2025|  2025-06-24|   2025-06-10|\n",
            "|          FDP49|        9.0|         Regular|    0.069196376|           Breakfast| 54.3614|           OUT049|                     1999|     Medium|              Tier 1|Supermarket Type1|         718.3982| new|489.25260000000003|17-06-2025|  2025-06-24|   2025-06-10|\n",
            "|          DRI11|       NULL|         Low Fat|    0.034237682|         Hard Drinks|113.2834|           OUT027|                     1985|     Medium|              Tier 3|Supermarket Type3|         2303.668| new|              NULL|17-06-2025|  2025-06-24|   2025-06-10|\n",
            "|          FDU02|      13.35|         Low Fat|     0.10249212|               Dairy|230.5352|           OUT035|                     2004|      Small|              Tier 2|Supermarket Type1|        2748.4224| new|        3077.64492|17-06-2025|  2025-06-24|   2025-06-10|\n",
            "+---------------+-----------+----------------+---------------+--------------------+--------+-----------------+-------------------------+-----------+--------------------+-----------------+-----------------+----+------------------+----------+------------+-------------+\n",
            "only showing top 20 rows\n",
            "\n"
          ]
        }
      ],
      "source": [
        "df.dropna('all') .show()"
      ]
    },
    {
      "cell_type": "code",
      "execution_count": 44,
      "metadata": {
        "colab": {
          "base_uri": "https://localhost:8080/"
        },
        "id": "ecATQAKSMYGH",
        "outputId": "b217db88-9283-4564-f323-b64c4548569d"
      },
      "outputs": [
        {
          "name": "stdout",
          "output_type": "stream",
          "text": [
            "+---------------+-----------+----------------+---------------+--------------------+--------+-----------------+-------------------------+-----------+--------------------+-----------------+-----------------+----+------------------+----------+------------+-------------+\n",
            "|Item_Identifier|Item_Weight|Item_Fat_Content|Item_Visibility|           Item_Type|Item_MRP|Outlet_Identifier|Outlet_Establishment_Year|Outlet_Size|Outlet_Location_Type|      Outlet_Type|Item_Outlet_Sales|flag|        multiplied| curr_date|a_week_after|a_week_before|\n",
            "+---------------+-----------+----------------+---------------+--------------------+--------+-----------------+-------------------------+-----------+--------------------+-----------------+-----------------+----+------------------+----------+------------+-------------+\n",
            "|          FDA15|        9.3|         Low Fat|    0.016047301|               Dairy|249.8092|           OUT049|                     1999|     Medium|              Tier 1|Supermarket Type1|         3735.138| new|2323.2255600000003|17-06-2025|  2025-06-24|   2025-06-10|\n",
            "|          DRC01|       5.92|         Regular|    0.019278216|         Soft Drinks| 48.2692|           OUT018|                     2009|     Medium|              Tier 3|Supermarket Type2|         443.4228| new|285.75366399999996|17-06-2025|  2025-06-24|   2025-06-10|\n",
            "|          FDN15|       17.5|         Low Fat|    0.016760075|                Meat| 141.618|           OUT049|                     1999|     Medium|              Tier 1|Supermarket Type1|          2097.27| new|          2478.315|17-06-2025|  2025-06-24|   2025-06-10|\n",
            "|          NCD19|       8.93|         Low Fat|            0.0|           Household| 53.8614|           OUT013|                     1987|       High|              Tier 3|Supermarket Type1|         994.7052| new|        480.982302|17-06-2025|  2025-06-24|   2025-06-10|\n",
            "|          FDP36|     10.395|         Regular|            0.0|        Baking Goods| 51.4008|           OUT018|                     2009|     Medium|              Tier 3|Supermarket Type2|         556.6088| new| 534.3113159999999|17-06-2025|  2025-06-24|   2025-06-10|\n",
            "|          FDO10|      13.65|         Regular|    0.012741089|         Snack Foods| 57.6588|           OUT013|                     1987|       High|              Tier 3|Supermarket Type1|         343.5528| new|         787.04262|17-06-2025|  2025-06-24|   2025-06-10|\n",
            "|          FDP10|       NULL|         Low Fat|    0.127469857|         Snack Foods|107.7622|           OUT027|                     1985|     Medium|              Tier 3|Supermarket Type3|        4022.7636| new|              NULL|17-06-2025|  2025-06-24|   2025-06-10|\n",
            "|          FDY07|       11.8|         Low Fat|            0.0|Fruits and Vegeta...| 45.5402|           OUT049|                     1999|     Medium|              Tier 1|Supermarket Type1|        1516.0266| new|         537.37436|17-06-2025|  2025-06-24|   2025-06-10|\n",
            "|          FDA03|       18.5|         Regular|    0.045463773|               Dairy|144.1102|           OUT046|                     1997|      Small|              Tier 1|Supermarket Type1|         2187.153| new|         2666.0387|17-06-2025|  2025-06-24|   2025-06-10|\n",
            "|          FDX32|       15.1|         Regular|      0.1000135|Fruits and Vegeta...|145.4786|           OUT049|                     1999|     Medium|              Tier 1|Supermarket Type1|        1589.2646| new|2196.7268599999998|17-06-2025|  2025-06-24|   2025-06-10|\n",
            "|          FDS46|       17.6|         Regular|    0.047257328|         Snack Foods|119.6782|           OUT046|                     1997|      Small|              Tier 1|Supermarket Type1|        2145.2076| new|2106.3363200000003|17-06-2025|  2025-06-24|   2025-06-10|\n",
            "|          FDF32|      16.35|         Low Fat|      0.0680243|Fruits and Vegeta...|196.4426|           OUT013|                     1987|       High|              Tier 3|Supermarket Type1|         1977.426| new|        3211.83651|17-06-2025|  2025-06-24|   2025-06-10|\n",
            "|          FDP49|        9.0|         Regular|    0.069088961|           Breakfast| 56.3614|           OUT046|                     1997|      Small|              Tier 1|Supermarket Type1|        1547.3192| new|507.25260000000003|17-06-2025|  2025-06-24|   2025-06-10|\n",
            "|          NCB42|       11.8|         Low Fat|    0.008596051|  Health and Hygiene|115.3492|           OUT018|                     2009|     Medium|              Tier 3|Supermarket Type2|        1621.8888| new|        1361.12056|17-06-2025|  2025-06-24|   2025-06-10|\n",
            "|          FDP49|        9.0|         Regular|    0.069196376|           Breakfast| 54.3614|           OUT049|                     1999|     Medium|              Tier 1|Supermarket Type1|         718.3982| new|489.25260000000003|17-06-2025|  2025-06-24|   2025-06-10|\n",
            "|          DRI11|       NULL|         Low Fat|    0.034237682|         Hard Drinks|113.2834|           OUT027|                     1985|     Medium|              Tier 3|Supermarket Type3|         2303.668| new|              NULL|17-06-2025|  2025-06-24|   2025-06-10|\n",
            "|          FDU02|      13.35|         Low Fat|     0.10249212|               Dairy|230.5352|           OUT035|                     2004|      Small|              Tier 2|Supermarket Type1|        2748.4224| new|        3077.64492|17-06-2025|  2025-06-24|   2025-06-10|\n",
            "|          FDN22|      18.85|         Regular|    0.138190277|         Snack Foods|250.8724|           OUT013|                     1987|       High|              Tier 3|Supermarket Type1|         3775.086| new|        4728.94474|17-06-2025|  2025-06-24|   2025-06-10|\n",
            "|          FDW12|       NULL|         Regular|    0.035399923|        Baking Goods|144.5444|           OUT027|                     1985|     Medium|              Tier 3|Supermarket Type3|        4064.0432| new|              NULL|17-06-2025|  2025-06-24|   2025-06-10|\n",
            "|          NCB30|       14.6|         Low Fat|    0.025698134|           Household|196.5084|           OUT035|                     2004|      Small|              Tier 2|Supermarket Type1|        1587.2672| new|2869.0226399999997|17-06-2025|  2025-06-24|   2025-06-10|\n",
            "+---------------+-----------+----------------+---------------+--------------------+--------+-----------------+-------------------------+-----------+--------------------+-----------------+-----------------+----+------------------+----------+------------+-------------+\n",
            "only showing top 20 rows\n",
            "\n"
          ]
        }
      ],
      "source": [
        "df.dropna(subset='Outlet_Size') .show()"
      ]
    },
    {
      "cell_type": "markdown",
      "metadata": {
        "id": "Q6yH_RfAMbG9"
      },
      "source": [
        "\n",
        "# Fill Na"
      ]
    },
    {
      "cell_type": "code",
      "execution_count": 45,
      "metadata": {
        "colab": {
          "base_uri": "https://localhost:8080/"
        },
        "id": "2xA1Xc66Ma40",
        "outputId": "a3cd1cb1-ed42-48c5-d2e1-efb38bebc296"
      },
      "outputs": [
        {
          "name": "stdout",
          "output_type": "stream",
          "text": [
            "+---------------+-----------+----------------+---------------+--------------------+--------+-----------------+-------------------------+-------------+--------------------+-----------------+-----------------+----+------------------+----------+------------+-------------+\n",
            "|Item_Identifier|Item_Weight|Item_Fat_Content|Item_Visibility|           Item_Type|Item_MRP|Outlet_Identifier|Outlet_Establishment_Year|  Outlet_Size|Outlet_Location_Type|      Outlet_Type|Item_Outlet_Sales|flag|        multiplied| curr_date|a_week_after|a_week_before|\n",
            "+---------------+-----------+----------------+---------------+--------------------+--------+-----------------+-------------------------+-------------+--------------------+-----------------+-----------------+----+------------------+----------+------------+-------------+\n",
            "|          FDA15|        9.3|         Low Fat|    0.016047301|               Dairy|249.8092|           OUT049|                     1999|       Medium|              Tier 1|Supermarket Type1|         3735.138| new|2323.2255600000003|17-06-2025|  2025-06-24|   2025-06-10|\n",
            "|          DRC01|       5.92|         Regular|    0.019278216|         Soft Drinks| 48.2692|           OUT018|                     2009|       Medium|              Tier 3|Supermarket Type2|         443.4228| new|285.75366399999996|17-06-2025|  2025-06-24|   2025-06-10|\n",
            "|          FDN15|       17.5|         Low Fat|    0.016760075|                Meat| 141.618|           OUT049|                     1999|       Medium|              Tier 1|Supermarket Type1|          2097.27| new|          2478.315|17-06-2025|  2025-06-24|   2025-06-10|\n",
            "|          FDX07|       19.2|         Regular|            0.0|Fruits and Vegeta...| 182.095|           OUT010|                     1998|Not Available|              Tier 3|    Grocery Store|           732.38| new|3496.2239999999997|17-06-2025|  2025-06-24|   2025-06-10|\n",
            "|          NCD19|       8.93|         Low Fat|            0.0|           Household| 53.8614|           OUT013|                     1987|         High|              Tier 3|Supermarket Type1|         994.7052| new|        480.982302|17-06-2025|  2025-06-24|   2025-06-10|\n",
            "|          FDP36|     10.395|         Regular|            0.0|        Baking Goods| 51.4008|           OUT018|                     2009|       Medium|              Tier 3|Supermarket Type2|         556.6088| new| 534.3113159999999|17-06-2025|  2025-06-24|   2025-06-10|\n",
            "|          FDO10|      13.65|         Regular|    0.012741089|         Snack Foods| 57.6588|           OUT013|                     1987|         High|              Tier 3|Supermarket Type1|         343.5528| new|         787.04262|17-06-2025|  2025-06-24|   2025-06-10|\n",
            "|          FDP10|       NULL|         Low Fat|    0.127469857|         Snack Foods|107.7622|           OUT027|                     1985|       Medium|              Tier 3|Supermarket Type3|        4022.7636| new|              NULL|17-06-2025|  2025-06-24|   2025-06-10|\n",
            "|          FDH17|       16.2|         Regular|    0.016687114|        Frozen Foods| 96.9726|           OUT045|                     2002|Not Available|              Tier 2|Supermarket Type1|        1076.5986| new|1570.9561199999998|17-06-2025|  2025-06-24|   2025-06-10|\n",
            "|          FDU28|       19.2|         Regular|     0.09444959|        Frozen Foods|187.8214|           OUT017|                     2007|Not Available|              Tier 2|Supermarket Type1|         4710.535| new|        3606.17088|17-06-2025|  2025-06-24|   2025-06-10|\n",
            "|          FDY07|       11.8|         Low Fat|            0.0|Fruits and Vegeta...| 45.5402|           OUT049|                     1999|       Medium|              Tier 1|Supermarket Type1|        1516.0266| new|         537.37436|17-06-2025|  2025-06-24|   2025-06-10|\n",
            "|          FDA03|       18.5|         Regular|    0.045463773|               Dairy|144.1102|           OUT046|                     1997|        Small|              Tier 1|Supermarket Type1|         2187.153| new|         2666.0387|17-06-2025|  2025-06-24|   2025-06-10|\n",
            "|          FDX32|       15.1|         Regular|      0.1000135|Fruits and Vegeta...|145.4786|           OUT049|                     1999|       Medium|              Tier 1|Supermarket Type1|        1589.2646| new|2196.7268599999998|17-06-2025|  2025-06-24|   2025-06-10|\n",
            "|          FDS46|       17.6|         Regular|    0.047257328|         Snack Foods|119.6782|           OUT046|                     1997|        Small|              Tier 1|Supermarket Type1|        2145.2076| new|2106.3363200000003|17-06-2025|  2025-06-24|   2025-06-10|\n",
            "|          FDF32|      16.35|         Low Fat|      0.0680243|Fruits and Vegeta...|196.4426|           OUT013|                     1987|         High|              Tier 3|Supermarket Type1|         1977.426| new|        3211.83651|17-06-2025|  2025-06-24|   2025-06-10|\n",
            "|          FDP49|        9.0|         Regular|    0.069088961|           Breakfast| 56.3614|           OUT046|                     1997|        Small|              Tier 1|Supermarket Type1|        1547.3192| new|507.25260000000003|17-06-2025|  2025-06-24|   2025-06-10|\n",
            "|          NCB42|       11.8|         Low Fat|    0.008596051|  Health and Hygiene|115.3492|           OUT018|                     2009|       Medium|              Tier 3|Supermarket Type2|        1621.8888| new|        1361.12056|17-06-2025|  2025-06-24|   2025-06-10|\n",
            "|          FDP49|        9.0|         Regular|    0.069196376|           Breakfast| 54.3614|           OUT049|                     1999|       Medium|              Tier 1|Supermarket Type1|         718.3982| new|489.25260000000003|17-06-2025|  2025-06-24|   2025-06-10|\n",
            "|          DRI11|       NULL|         Low Fat|    0.034237682|         Hard Drinks|113.2834|           OUT027|                     1985|       Medium|              Tier 3|Supermarket Type3|         2303.668| new|              NULL|17-06-2025|  2025-06-24|   2025-06-10|\n",
            "|          FDU02|      13.35|         Low Fat|     0.10249212|               Dairy|230.5352|           OUT035|                     2004|        Small|              Tier 2|Supermarket Type1|        2748.4224| new|        3077.64492|17-06-2025|  2025-06-24|   2025-06-10|\n",
            "+---------------+-----------+----------------+---------------+--------------------+--------+-----------------+-------------------------+-------------+--------------------+-----------------+-----------------+----+------------------+----------+------------+-------------+\n",
            "only showing top 20 rows\n",
            "\n"
          ]
        }
      ],
      "source": [
        "df.fillna('Not Available') .show()"
      ]
    },
    {
      "cell_type": "code",
      "execution_count": 46,
      "metadata": {
        "colab": {
          "base_uri": "https://localhost:8080/"
        },
        "id": "0rqWHAHgMYCj",
        "outputId": "e7703cb2-d793-4c76-e439-3ff07b2b56c3"
      },
      "outputs": [
        {
          "name": "stdout",
          "output_type": "stream",
          "text": [
            "+---------------+-----------+----------------+---------------+--------------------+--------+-----------------+-------------------------+-------------+--------------------+-----------------+-----------------+----+------------------+----------+------------+-------------+\n",
            "|Item_Identifier|Item_Weight|Item_Fat_Content|Item_Visibility|           Item_Type|Item_MRP|Outlet_Identifier|Outlet_Establishment_Year|  Outlet_Size|Outlet_Location_Type|      Outlet_Type|Item_Outlet_Sales|flag|        multiplied| curr_date|a_week_after|a_week_before|\n",
            "+---------------+-----------+----------------+---------------+--------------------+--------+-----------------+-------------------------+-------------+--------------------+-----------------+-----------------+----+------------------+----------+------------+-------------+\n",
            "|          FDA15|        9.3|         Low Fat|    0.016047301|               Dairy|249.8092|           OUT049|                     1999|       Medium|              Tier 1|Supermarket Type1|         3735.138| new|2323.2255600000003|17-06-2025|  2025-06-24|   2025-06-10|\n",
            "|          DRC01|       5.92|         Regular|    0.019278216|         Soft Drinks| 48.2692|           OUT018|                     2009|       Medium|              Tier 3|Supermarket Type2|         443.4228| new|285.75366399999996|17-06-2025|  2025-06-24|   2025-06-10|\n",
            "|          FDN15|       17.5|         Low Fat|    0.016760075|                Meat| 141.618|           OUT049|                     1999|       Medium|              Tier 1|Supermarket Type1|          2097.27| new|          2478.315|17-06-2025|  2025-06-24|   2025-06-10|\n",
            "|          FDX07|       19.2|         Regular|            0.0|Fruits and Vegeta...| 182.095|           OUT010|                     1998|Not Available|              Tier 3|    Grocery Store|           732.38| new|3496.2239999999997|17-06-2025|  2025-06-24|   2025-06-10|\n",
            "|          NCD19|       8.93|         Low Fat|            0.0|           Household| 53.8614|           OUT013|                     1987|         High|              Tier 3|Supermarket Type1|         994.7052| new|        480.982302|17-06-2025|  2025-06-24|   2025-06-10|\n",
            "|          FDP36|     10.395|         Regular|            0.0|        Baking Goods| 51.4008|           OUT018|                     2009|       Medium|              Tier 3|Supermarket Type2|         556.6088| new| 534.3113159999999|17-06-2025|  2025-06-24|   2025-06-10|\n",
            "|          FDO10|      13.65|         Regular|    0.012741089|         Snack Foods| 57.6588|           OUT013|                     1987|         High|              Tier 3|Supermarket Type1|         343.5528| new|         787.04262|17-06-2025|  2025-06-24|   2025-06-10|\n",
            "|          FDP10|       NULL|         Low Fat|    0.127469857|         Snack Foods|107.7622|           OUT027|                     1985|       Medium|              Tier 3|Supermarket Type3|        4022.7636| new|              NULL|17-06-2025|  2025-06-24|   2025-06-10|\n",
            "|          FDH17|       16.2|         Regular|    0.016687114|        Frozen Foods| 96.9726|           OUT045|                     2002|Not Available|              Tier 2|Supermarket Type1|        1076.5986| new|1570.9561199999998|17-06-2025|  2025-06-24|   2025-06-10|\n",
            "|          FDU28|       19.2|         Regular|     0.09444959|        Frozen Foods|187.8214|           OUT017|                     2007|Not Available|              Tier 2|Supermarket Type1|         4710.535| new|        3606.17088|17-06-2025|  2025-06-24|   2025-06-10|\n",
            "|          FDY07|       11.8|         Low Fat|            0.0|Fruits and Vegeta...| 45.5402|           OUT049|                     1999|       Medium|              Tier 1|Supermarket Type1|        1516.0266| new|         537.37436|17-06-2025|  2025-06-24|   2025-06-10|\n",
            "|          FDA03|       18.5|         Regular|    0.045463773|               Dairy|144.1102|           OUT046|                     1997|        Small|              Tier 1|Supermarket Type1|         2187.153| new|         2666.0387|17-06-2025|  2025-06-24|   2025-06-10|\n",
            "|          FDX32|       15.1|         Regular|      0.1000135|Fruits and Vegeta...|145.4786|           OUT049|                     1999|       Medium|              Tier 1|Supermarket Type1|        1589.2646| new|2196.7268599999998|17-06-2025|  2025-06-24|   2025-06-10|\n",
            "|          FDS46|       17.6|         Regular|    0.047257328|         Snack Foods|119.6782|           OUT046|                     1997|        Small|              Tier 1|Supermarket Type1|        2145.2076| new|2106.3363200000003|17-06-2025|  2025-06-24|   2025-06-10|\n",
            "|          FDF32|      16.35|         Low Fat|      0.0680243|Fruits and Vegeta...|196.4426|           OUT013|                     1987|         High|              Tier 3|Supermarket Type1|         1977.426| new|        3211.83651|17-06-2025|  2025-06-24|   2025-06-10|\n",
            "|          FDP49|        9.0|         Regular|    0.069088961|           Breakfast| 56.3614|           OUT046|                     1997|        Small|              Tier 1|Supermarket Type1|        1547.3192| new|507.25260000000003|17-06-2025|  2025-06-24|   2025-06-10|\n",
            "|          NCB42|       11.8|         Low Fat|    0.008596051|  Health and Hygiene|115.3492|           OUT018|                     2009|       Medium|              Tier 3|Supermarket Type2|        1621.8888| new|        1361.12056|17-06-2025|  2025-06-24|   2025-06-10|\n",
            "|          FDP49|        9.0|         Regular|    0.069196376|           Breakfast| 54.3614|           OUT049|                     1999|       Medium|              Tier 1|Supermarket Type1|         718.3982| new|489.25260000000003|17-06-2025|  2025-06-24|   2025-06-10|\n",
            "|          DRI11|       NULL|         Low Fat|    0.034237682|         Hard Drinks|113.2834|           OUT027|                     1985|       Medium|              Tier 3|Supermarket Type3|         2303.668| new|              NULL|17-06-2025|  2025-06-24|   2025-06-10|\n",
            "|          FDU02|      13.35|         Low Fat|     0.10249212|               Dairy|230.5352|           OUT035|                     2004|        Small|              Tier 2|Supermarket Type1|        2748.4224| new|        3077.64492|17-06-2025|  2025-06-24|   2025-06-10|\n",
            "+---------------+-----------+----------------+---------------+--------------------+--------+-----------------+-------------------------+-------------+--------------------+-----------------+-----------------+----+------------------+----------+------------+-------------+\n",
            "only showing top 20 rows\n",
            "\n"
          ]
        }
      ],
      "source": [
        "df.fillna('Not Available',subset=['Outlet_Size']) .show()"
      ]
    },
    {
      "cell_type": "markdown",
      "metadata": {
        "id": "qKkgIWZnMeC-"
      },
      "source": [
        "\n",
        "# Splitting and Indexing"
      ]
    },
    {
      "cell_type": "code",
      "execution_count": 47,
      "metadata": {
        "colab": {
          "base_uri": "https://localhost:8080/"
        },
        "id": "QOIgJSosMX-l",
        "outputId": "b49164fd-197a-43a2-ac39-bd9bf117ecaa"
      },
      "outputs": [
        {
          "name": "stdout",
          "output_type": "stream",
          "text": [
            "+---------------+-----------+----------------+---------------+--------------------+--------+-----------------+-------------------------+-----------+--------------------+--------------------+-----------------+----+------------------+----------+------------+-------------+\n",
            "|Item_Identifier|Item_Weight|Item_Fat_Content|Item_Visibility|           Item_Type|Item_MRP|Outlet_Identifier|Outlet_Establishment_Year|Outlet_Size|Outlet_Location_Type|         Outlet_Type|Item_Outlet_Sales|flag|        multiplied| curr_date|a_week_after|a_week_before|\n",
            "+---------------+-----------+----------------+---------------+--------------------+--------+-----------------+-------------------------+-----------+--------------------+--------------------+-----------------+----+------------------+----------+------------+-------------+\n",
            "|          FDA15|        9.3|         Low Fat|    0.016047301|               Dairy|249.8092|           OUT049|                     1999|     Medium|              Tier 1|[Supermarket, Type1]|         3735.138| new|2323.2255600000003|17-06-2025|  2025-06-24|   2025-06-10|\n",
            "|          DRC01|       5.92|         Regular|    0.019278216|         Soft Drinks| 48.2692|           OUT018|                     2009|     Medium|              Tier 3|[Supermarket, Type2]|         443.4228| new|285.75366399999996|17-06-2025|  2025-06-24|   2025-06-10|\n",
            "|          FDN15|       17.5|         Low Fat|    0.016760075|                Meat| 141.618|           OUT049|                     1999|     Medium|              Tier 1|[Supermarket, Type1]|          2097.27| new|          2478.315|17-06-2025|  2025-06-24|   2025-06-10|\n",
            "|          FDX07|       19.2|         Regular|            0.0|Fruits and Vegeta...| 182.095|           OUT010|                     1998|       NULL|              Tier 3|    [Grocery, Store]|           732.38| new|3496.2239999999997|17-06-2025|  2025-06-24|   2025-06-10|\n",
            "|          NCD19|       8.93|         Low Fat|            0.0|           Household| 53.8614|           OUT013|                     1987|       High|              Tier 3|[Supermarket, Type1]|         994.7052| new|        480.982302|17-06-2025|  2025-06-24|   2025-06-10|\n",
            "|          FDP36|     10.395|         Regular|            0.0|        Baking Goods| 51.4008|           OUT018|                     2009|     Medium|              Tier 3|[Supermarket, Type2]|         556.6088| new| 534.3113159999999|17-06-2025|  2025-06-24|   2025-06-10|\n",
            "|          FDO10|      13.65|         Regular|    0.012741089|         Snack Foods| 57.6588|           OUT013|                     1987|       High|              Tier 3|[Supermarket, Type1]|         343.5528| new|         787.04262|17-06-2025|  2025-06-24|   2025-06-10|\n",
            "|          FDP10|       NULL|         Low Fat|    0.127469857|         Snack Foods|107.7622|           OUT027|                     1985|     Medium|              Tier 3|[Supermarket, Type3]|        4022.7636| new|              NULL|17-06-2025|  2025-06-24|   2025-06-10|\n",
            "|          FDH17|       16.2|         Regular|    0.016687114|        Frozen Foods| 96.9726|           OUT045|                     2002|       NULL|              Tier 2|[Supermarket, Type1]|        1076.5986| new|1570.9561199999998|17-06-2025|  2025-06-24|   2025-06-10|\n",
            "|          FDU28|       19.2|         Regular|     0.09444959|        Frozen Foods|187.8214|           OUT017|                     2007|       NULL|              Tier 2|[Supermarket, Type1]|         4710.535| new|        3606.17088|17-06-2025|  2025-06-24|   2025-06-10|\n",
            "|          FDY07|       11.8|         Low Fat|            0.0|Fruits and Vegeta...| 45.5402|           OUT049|                     1999|     Medium|              Tier 1|[Supermarket, Type1]|        1516.0266| new|         537.37436|17-06-2025|  2025-06-24|   2025-06-10|\n",
            "|          FDA03|       18.5|         Regular|    0.045463773|               Dairy|144.1102|           OUT046|                     1997|      Small|              Tier 1|[Supermarket, Type1]|         2187.153| new|         2666.0387|17-06-2025|  2025-06-24|   2025-06-10|\n",
            "|          FDX32|       15.1|         Regular|      0.1000135|Fruits and Vegeta...|145.4786|           OUT049|                     1999|     Medium|              Tier 1|[Supermarket, Type1]|        1589.2646| new|2196.7268599999998|17-06-2025|  2025-06-24|   2025-06-10|\n",
            "|          FDS46|       17.6|         Regular|    0.047257328|         Snack Foods|119.6782|           OUT046|                     1997|      Small|              Tier 1|[Supermarket, Type1]|        2145.2076| new|2106.3363200000003|17-06-2025|  2025-06-24|   2025-06-10|\n",
            "|          FDF32|      16.35|         Low Fat|      0.0680243|Fruits and Vegeta...|196.4426|           OUT013|                     1987|       High|              Tier 3|[Supermarket, Type1]|         1977.426| new|        3211.83651|17-06-2025|  2025-06-24|   2025-06-10|\n",
            "|          FDP49|        9.0|         Regular|    0.069088961|           Breakfast| 56.3614|           OUT046|                     1997|      Small|              Tier 1|[Supermarket, Type1]|        1547.3192| new|507.25260000000003|17-06-2025|  2025-06-24|   2025-06-10|\n",
            "|          NCB42|       11.8|         Low Fat|    0.008596051|  Health and Hygiene|115.3492|           OUT018|                     2009|     Medium|              Tier 3|[Supermarket, Type2]|        1621.8888| new|        1361.12056|17-06-2025|  2025-06-24|   2025-06-10|\n",
            "|          FDP49|        9.0|         Regular|    0.069196376|           Breakfast| 54.3614|           OUT049|                     1999|     Medium|              Tier 1|[Supermarket, Type1]|         718.3982| new|489.25260000000003|17-06-2025|  2025-06-24|   2025-06-10|\n",
            "|          DRI11|       NULL|         Low Fat|    0.034237682|         Hard Drinks|113.2834|           OUT027|                     1985|     Medium|              Tier 3|[Supermarket, Type3]|         2303.668| new|              NULL|17-06-2025|  2025-06-24|   2025-06-10|\n",
            "|          FDU02|      13.35|         Low Fat|     0.10249212|               Dairy|230.5352|           OUT035|                     2004|      Small|              Tier 2|[Supermarket, Type1]|        2748.4224| new|        3077.64492|17-06-2025|  2025-06-24|   2025-06-10|\n",
            "+---------------+-----------+----------------+---------------+--------------------+--------+-----------------+-------------------------+-----------+--------------------+--------------------+-----------------+----+------------------+----------+------------+-------------+\n",
            "only showing top 20 rows\n",
            "\n"
          ]
        }
      ],
      "source": [
        "df.withColumn('Outlet_Type',split('Outlet_Type',\" \")) .show()"
      ]
    },
    {
      "cell_type": "markdown",
      "metadata": {
        "id": "t3dTWjirMnbn"
      },
      "source": [
        "\n",
        "# Explode"
      ]
    },
    {
      "cell_type": "code",
      "execution_count": 48,
      "metadata": {
        "id": "QGlgauHnMX7v"
      },
      "outputs": [],
      "source": [
        "exp = df.withColumn('Outlet_Type',split('Outlet_Type',\" \"))"
      ]
    },
    {
      "cell_type": "code",
      "execution_count": 49,
      "metadata": {
        "colab": {
          "base_uri": "https://localhost:8080/"
        },
        "id": "_5t-t-A5MX5G",
        "outputId": "3c7f8d52-2318-486b-d8ad-f7abe1ccefc7"
      },
      "outputs": [
        {
          "name": "stdout",
          "output_type": "stream",
          "text": [
            "+---------------+-----------+----------------+---------------+--------------------+--------+-----------------+-------------------------+-----------+--------------------+-----------+-----------------+----+------------------+----------+------------+-------------+\n",
            "|Item_Identifier|Item_Weight|Item_Fat_Content|Item_Visibility|           Item_Type|Item_MRP|Outlet_Identifier|Outlet_Establishment_Year|Outlet_Size|Outlet_Location_Type|Outlet_Type|Item_Outlet_Sales|flag|        multiplied| curr_date|a_week_after|a_week_before|\n",
            "+---------------+-----------+----------------+---------------+--------------------+--------+-----------------+-------------------------+-----------+--------------------+-----------+-----------------+----+------------------+----------+------------+-------------+\n",
            "|          FDA15|        9.3|         Low Fat|    0.016047301|               Dairy|249.8092|           OUT049|                     1999|     Medium|              Tier 1|Supermarket|         3735.138| new|2323.2255600000003|17-06-2025|  2025-06-24|   2025-06-10|\n",
            "|          FDA15|        9.3|         Low Fat|    0.016047301|               Dairy|249.8092|           OUT049|                     1999|     Medium|              Tier 1|      Type1|         3735.138| new|2323.2255600000003|17-06-2025|  2025-06-24|   2025-06-10|\n",
            "|          DRC01|       5.92|         Regular|    0.019278216|         Soft Drinks| 48.2692|           OUT018|                     2009|     Medium|              Tier 3|Supermarket|         443.4228| new|285.75366399999996|17-06-2025|  2025-06-24|   2025-06-10|\n",
            "|          DRC01|       5.92|         Regular|    0.019278216|         Soft Drinks| 48.2692|           OUT018|                     2009|     Medium|              Tier 3|      Type2|         443.4228| new|285.75366399999996|17-06-2025|  2025-06-24|   2025-06-10|\n",
            "|          FDN15|       17.5|         Low Fat|    0.016760075|                Meat| 141.618|           OUT049|                     1999|     Medium|              Tier 1|Supermarket|          2097.27| new|          2478.315|17-06-2025|  2025-06-24|   2025-06-10|\n",
            "|          FDN15|       17.5|         Low Fat|    0.016760075|                Meat| 141.618|           OUT049|                     1999|     Medium|              Tier 1|      Type1|          2097.27| new|          2478.315|17-06-2025|  2025-06-24|   2025-06-10|\n",
            "|          FDX07|       19.2|         Regular|            0.0|Fruits and Vegeta...| 182.095|           OUT010|                     1998|       NULL|              Tier 3|    Grocery|           732.38| new|3496.2239999999997|17-06-2025|  2025-06-24|   2025-06-10|\n",
            "|          FDX07|       19.2|         Regular|            0.0|Fruits and Vegeta...| 182.095|           OUT010|                     1998|       NULL|              Tier 3|      Store|           732.38| new|3496.2239999999997|17-06-2025|  2025-06-24|   2025-06-10|\n",
            "|          NCD19|       8.93|         Low Fat|            0.0|           Household| 53.8614|           OUT013|                     1987|       High|              Tier 3|Supermarket|         994.7052| new|        480.982302|17-06-2025|  2025-06-24|   2025-06-10|\n",
            "|          NCD19|       8.93|         Low Fat|            0.0|           Household| 53.8614|           OUT013|                     1987|       High|              Tier 3|      Type1|         994.7052| new|        480.982302|17-06-2025|  2025-06-24|   2025-06-10|\n",
            "|          FDP36|     10.395|         Regular|            0.0|        Baking Goods| 51.4008|           OUT018|                     2009|     Medium|              Tier 3|Supermarket|         556.6088| new| 534.3113159999999|17-06-2025|  2025-06-24|   2025-06-10|\n",
            "|          FDP36|     10.395|         Regular|            0.0|        Baking Goods| 51.4008|           OUT018|                     2009|     Medium|              Tier 3|      Type2|         556.6088| new| 534.3113159999999|17-06-2025|  2025-06-24|   2025-06-10|\n",
            "|          FDO10|      13.65|         Regular|    0.012741089|         Snack Foods| 57.6588|           OUT013|                     1987|       High|              Tier 3|Supermarket|         343.5528| new|         787.04262|17-06-2025|  2025-06-24|   2025-06-10|\n",
            "|          FDO10|      13.65|         Regular|    0.012741089|         Snack Foods| 57.6588|           OUT013|                     1987|       High|              Tier 3|      Type1|         343.5528| new|         787.04262|17-06-2025|  2025-06-24|   2025-06-10|\n",
            "|          FDP10|       NULL|         Low Fat|    0.127469857|         Snack Foods|107.7622|           OUT027|                     1985|     Medium|              Tier 3|Supermarket|        4022.7636| new|              NULL|17-06-2025|  2025-06-24|   2025-06-10|\n",
            "|          FDP10|       NULL|         Low Fat|    0.127469857|         Snack Foods|107.7622|           OUT027|                     1985|     Medium|              Tier 3|      Type3|        4022.7636| new|              NULL|17-06-2025|  2025-06-24|   2025-06-10|\n",
            "|          FDH17|       16.2|         Regular|    0.016687114|        Frozen Foods| 96.9726|           OUT045|                     2002|       NULL|              Tier 2|Supermarket|        1076.5986| new|1570.9561199999998|17-06-2025|  2025-06-24|   2025-06-10|\n",
            "|          FDH17|       16.2|         Regular|    0.016687114|        Frozen Foods| 96.9726|           OUT045|                     2002|       NULL|              Tier 2|      Type1|        1076.5986| new|1570.9561199999998|17-06-2025|  2025-06-24|   2025-06-10|\n",
            "|          FDU28|       19.2|         Regular|     0.09444959|        Frozen Foods|187.8214|           OUT017|                     2007|       NULL|              Tier 2|Supermarket|         4710.535| new|        3606.17088|17-06-2025|  2025-06-24|   2025-06-10|\n",
            "|          FDU28|       19.2|         Regular|     0.09444959|        Frozen Foods|187.8214|           OUT017|                     2007|       NULL|              Tier 2|      Type1|         4710.535| new|        3606.17088|17-06-2025|  2025-06-24|   2025-06-10|\n",
            "+---------------+-----------+----------------+---------------+--------------------+--------+-----------------+-------------------------+-----------+--------------------+-----------+-----------------+----+------------------+----------+------------+-------------+\n",
            "only showing top 20 rows\n",
            "\n"
          ]
        }
      ],
      "source": [
        "new_exp =exp.withColumn('Outlet_Type',explode('Outlet_Type'))\n",
        "new_exp .show()"
      ]
    },
    {
      "cell_type": "markdown",
      "metadata": {
        "id": "DOU9C2qeMs5K"
      },
      "source": [
        "# Array Contains"
      ]
    },
    {
      "cell_type": "code",
      "execution_count": 50,
      "metadata": {
        "colab": {
          "base_uri": "https://localhost:8080/"
        },
        "id": "Sj3oat0zMX2Y",
        "outputId": "4ddc60d5-3c8e-42eb-c25c-4df3f84c1f4a"
      },
      "outputs": [
        {
          "name": "stdout",
          "output_type": "stream",
          "text": [
            "+---------------+-----------+----------------+---------------+--------------------+--------+-----------------+-------------------------+-----------+--------------------+--------------------+-----------------+----+------------------+----------+------------+-------------+-----------+\n",
            "|Item_Identifier|Item_Weight|Item_Fat_Content|Item_Visibility|           Item_Type|Item_MRP|Outlet_Identifier|Outlet_Establishment_Year|Outlet_Size|Outlet_Location_Type|         Outlet_Type|Item_Outlet_Sales|flag|        multiplied| curr_date|a_week_after|a_week_before|Type_1_flag|\n",
            "+---------------+-----------+----------------+---------------+--------------------+--------+-----------------+-------------------------+-----------+--------------------+--------------------+-----------------+----+------------------+----------+------------+-------------+-----------+\n",
            "|          FDA15|        9.3|         Low Fat|    0.016047301|               Dairy|249.8092|           OUT049|                     1999|     Medium|              Tier 1|[Supermarket, Type1]|         3735.138| new|2323.2255600000003|17-06-2025|  2025-06-24|   2025-06-10|       true|\n",
            "|          DRC01|       5.92|         Regular|    0.019278216|         Soft Drinks| 48.2692|           OUT018|                     2009|     Medium|              Tier 3|[Supermarket, Type2]|         443.4228| new|285.75366399999996|17-06-2025|  2025-06-24|   2025-06-10|      false|\n",
            "|          FDN15|       17.5|         Low Fat|    0.016760075|                Meat| 141.618|           OUT049|                     1999|     Medium|              Tier 1|[Supermarket, Type1]|          2097.27| new|          2478.315|17-06-2025|  2025-06-24|   2025-06-10|       true|\n",
            "|          FDX07|       19.2|         Regular|            0.0|Fruits and Vegeta...| 182.095|           OUT010|                     1998|       NULL|              Tier 3|    [Grocery, Store]|           732.38| new|3496.2239999999997|17-06-2025|  2025-06-24|   2025-06-10|      false|\n",
            "|          NCD19|       8.93|         Low Fat|            0.0|           Household| 53.8614|           OUT013|                     1987|       High|              Tier 3|[Supermarket, Type1]|         994.7052| new|        480.982302|17-06-2025|  2025-06-24|   2025-06-10|       true|\n",
            "|          FDP36|     10.395|         Regular|            0.0|        Baking Goods| 51.4008|           OUT018|                     2009|     Medium|              Tier 3|[Supermarket, Type2]|         556.6088| new| 534.3113159999999|17-06-2025|  2025-06-24|   2025-06-10|      false|\n",
            "|          FDO10|      13.65|         Regular|    0.012741089|         Snack Foods| 57.6588|           OUT013|                     1987|       High|              Tier 3|[Supermarket, Type1]|         343.5528| new|         787.04262|17-06-2025|  2025-06-24|   2025-06-10|       true|\n",
            "|          FDP10|       NULL|         Low Fat|    0.127469857|         Snack Foods|107.7622|           OUT027|                     1985|     Medium|              Tier 3|[Supermarket, Type3]|        4022.7636| new|              NULL|17-06-2025|  2025-06-24|   2025-06-10|      false|\n",
            "|          FDH17|       16.2|         Regular|    0.016687114|        Frozen Foods| 96.9726|           OUT045|                     2002|       NULL|              Tier 2|[Supermarket, Type1]|        1076.5986| new|1570.9561199999998|17-06-2025|  2025-06-24|   2025-06-10|       true|\n",
            "|          FDU28|       19.2|         Regular|     0.09444959|        Frozen Foods|187.8214|           OUT017|                     2007|       NULL|              Tier 2|[Supermarket, Type1]|         4710.535| new|        3606.17088|17-06-2025|  2025-06-24|   2025-06-10|       true|\n",
            "|          FDY07|       11.8|         Low Fat|            0.0|Fruits and Vegeta...| 45.5402|           OUT049|                     1999|     Medium|              Tier 1|[Supermarket, Type1]|        1516.0266| new|         537.37436|17-06-2025|  2025-06-24|   2025-06-10|       true|\n",
            "|          FDA03|       18.5|         Regular|    0.045463773|               Dairy|144.1102|           OUT046|                     1997|      Small|              Tier 1|[Supermarket, Type1]|         2187.153| new|         2666.0387|17-06-2025|  2025-06-24|   2025-06-10|       true|\n",
            "|          FDX32|       15.1|         Regular|      0.1000135|Fruits and Vegeta...|145.4786|           OUT049|                     1999|     Medium|              Tier 1|[Supermarket, Type1]|        1589.2646| new|2196.7268599999998|17-06-2025|  2025-06-24|   2025-06-10|       true|\n",
            "|          FDS46|       17.6|         Regular|    0.047257328|         Snack Foods|119.6782|           OUT046|                     1997|      Small|              Tier 1|[Supermarket, Type1]|        2145.2076| new|2106.3363200000003|17-06-2025|  2025-06-24|   2025-06-10|       true|\n",
            "|          FDF32|      16.35|         Low Fat|      0.0680243|Fruits and Vegeta...|196.4426|           OUT013|                     1987|       High|              Tier 3|[Supermarket, Type1]|         1977.426| new|        3211.83651|17-06-2025|  2025-06-24|   2025-06-10|       true|\n",
            "|          FDP49|        9.0|         Regular|    0.069088961|           Breakfast| 56.3614|           OUT046|                     1997|      Small|              Tier 1|[Supermarket, Type1]|        1547.3192| new|507.25260000000003|17-06-2025|  2025-06-24|   2025-06-10|       true|\n",
            "|          NCB42|       11.8|         Low Fat|    0.008596051|  Health and Hygiene|115.3492|           OUT018|                     2009|     Medium|              Tier 3|[Supermarket, Type2]|        1621.8888| new|        1361.12056|17-06-2025|  2025-06-24|   2025-06-10|      false|\n",
            "|          FDP49|        9.0|         Regular|    0.069196376|           Breakfast| 54.3614|           OUT049|                     1999|     Medium|              Tier 1|[Supermarket, Type1]|         718.3982| new|489.25260000000003|17-06-2025|  2025-06-24|   2025-06-10|       true|\n",
            "|          DRI11|       NULL|         Low Fat|    0.034237682|         Hard Drinks|113.2834|           OUT027|                     1985|     Medium|              Tier 3|[Supermarket, Type3]|         2303.668| new|              NULL|17-06-2025|  2025-06-24|   2025-06-10|      false|\n",
            "|          FDU02|      13.35|         Low Fat|     0.10249212|               Dairy|230.5352|           OUT035|                     2004|      Small|              Tier 2|[Supermarket, Type1]|        2748.4224| new|        3077.64492|17-06-2025|  2025-06-24|   2025-06-10|       true|\n",
            "+---------------+-----------+----------------+---------------+--------------------+--------+-----------------+-------------------------+-----------+--------------------+--------------------+-----------------+----+------------------+----------+------------+-------------+-----------+\n",
            "only showing top 20 rows\n",
            "\n"
          ]
        }
      ],
      "source": [
        "exp.withColumn('Type_1_flag',array_contains('Outlet_Type','Type1')) .show()"
      ]
    },
    {
      "cell_type": "markdown",
      "metadata": {
        "id": "t2CI4v52MxjI"
      },
      "source": [
        "\n",
        "# Group by"
      ]
    },
    {
      "cell_type": "code",
      "execution_count": 51,
      "metadata": {
        "colab": {
          "base_uri": "https://localhost:8080/"
        },
        "id": "5FZTPGlPMXzt",
        "outputId": "7ac52543-75cb-4034-e387-ea9b554bb39c"
      },
      "outputs": [
        {
          "name": "stdout",
          "output_type": "stream",
          "text": [
            "+--------------------+------------------+\n",
            "|           Item_Type|     sum(Item_MRP)|\n",
            "+--------------------+------------------+\n",
            "|       Starchy Foods|21880.027399999995|\n",
            "|        Baking Goods| 81894.73640000001|\n",
            "|              Breads| 35379.11979999999|\n",
            "|Fruits and Vegeta...|178124.08099999998|\n",
            "|                Meat|59449.863799999956|\n",
            "|         Hard Drinks|29334.676599999995|\n",
            "|         Soft Drinks|58514.164999999964|\n",
            "|           Household|135976.52539999998|\n",
            "|           Breakfast|        15596.6966|\n",
            "|               Dairy|101276.45959999996|\n",
            "|         Snack Foods|175433.92040000003|\n",
            "|              Others|22451.891600000006|\n",
            "|             Seafood| 9077.870000000003|\n",
            "|              Canned|  90706.7269999999|\n",
            "|        Frozen Foods|118558.88140000001|\n",
            "|  Health and Hygiene|        68025.8388|\n",
            "+--------------------+------------------+\n",
            "\n"
          ]
        }
      ],
      "source": [
        "df.groupBy('Item_Type').agg(sum('Item_MRP')) .show()"
      ]
    },
    {
      "cell_type": "code",
      "execution_count": 52,
      "metadata": {
        "colab": {
          "base_uri": "https://localhost:8080/"
        },
        "id": "3-5B5KwJMXw1",
        "outputId": "4d145082-0798-448f-93ce-103d1dbb11cf"
      },
      "outputs": [
        {
          "name": "stdout",
          "output_type": "stream",
          "text": [
            "+--------------------+------------------+\n",
            "|           Item_Type|     avg(Item_MRP)|\n",
            "+--------------------+------------------+\n",
            "|       Starchy Foods|147.83802297297294|\n",
            "|        Baking Goods|126.38076604938273|\n",
            "|              Breads| 140.9526685258964|\n",
            "|Fruits and Vegeta...|144.58123457792206|\n",
            "|                Meat|139.88203247058814|\n",
            "|         Hard Drinks|137.07792803738315|\n",
            "|         Soft Drinks|131.49250561797746|\n",
            "|           Household|149.42475318681318|\n",
            "|           Breakfast|141.78815090909092|\n",
            "|               Dairy|148.49920762463336|\n",
            "|         Snack Foods|146.19493366666669|\n",
            "|              Others|132.85142958579885|\n",
            "|             Seafood|141.84171875000004|\n",
            "|              Canned|139.76383204930647|\n",
            "|        Frozen Foods|138.50336612149533|\n",
            "|  Health and Hygiene|130.81892076923077|\n",
            "+--------------------+------------------+\n",
            "\n"
          ]
        }
      ],
      "source": [
        "df.groupBy('Item_Type').agg(avg('Item_MRP')) .show()"
      ]
    },
    {
      "cell_type": "code",
      "execution_count": 53,
      "metadata": {
        "colab": {
          "base_uri": "https://localhost:8080/"
        },
        "id": "5hq3VWgCMXuI",
        "outputId": "0f47040b-595a-4734-9ca5-55ca404e1075"
      },
      "outputs": [
        {
          "name": "stdout",
          "output_type": "stream",
          "text": [
            "+--------------------+-----------+------------------+\n",
            "|           Item_Type|Outlet_Size|           Average|\n",
            "+--------------------+-----------+------------------+\n",
            "|       Starchy Foods|     Medium| 148.4195041666666|\n",
            "|Fruits and Vegeta...|     Medium| 142.9714702179177|\n",
            "|       Starchy Foods|       NULL|140.48000465116277|\n",
            "|              Breads|       NULL|139.04861666666667|\n",
            "|        Baking Goods|       NULL|126.66939891891889|\n",
            "|Fruits and Vegeta...|       NULL|142.57516045845267|\n",
            "|        Frozen Foods|       High|         136.82925|\n",
            "|         Soft Drinks|       High|131.75847346938772|\n",
            "|           Breakfast|      Small|130.56802666666667|\n",
            "|                Meat|     Medium|136.41913154362408|\n",
            "|Fruits and Vegeta...|       High|145.57287042253515|\n",
            "|                Meat|       High| 137.2447902439025|\n",
            "|        Baking Goods|       High|129.20204383561642|\n",
            "|           Household|     Medium|147.71133010380618|\n",
            "|                Meat|       NULL|139.29453448275865|\n",
            "|         Hard Drinks|       NULL| 134.3875333333333|\n",
            "|         Hard Drinks|      Small|        129.758784|\n",
            "|         Soft Drinks|       NULL|133.42344360902257|\n",
            "|           Household|       NULL|147.76930421455944|\n",
            "|               Dairy|       High|153.50917249999995|\n",
            "+--------------------+-----------+------------------+\n",
            "only showing top 20 rows\n",
            "\n"
          ]
        }
      ],
      "source": [
        "df.groupBy('Item_Type','Outlet_Size').agg(avg('Item_MRP').alias('Average')) .show()"
      ]
    },
    {
      "cell_type": "code",
      "execution_count": 54,
      "metadata": {
        "colab": {
          "base_uri": "https://localhost:8080/"
        },
        "id": "CLzZNqKHMXrJ",
        "outputId": "51fcd391-34bb-4c82-d44f-ce5e5fc17aa0"
      },
      "outputs": [
        {
          "name": "stdout",
          "output_type": "stream",
          "text": [
            "+--------------------+-----------+------------------+------------------+\n",
            "|           Item_Type|Outlet_Size|     sum(Item_MRP)|     avg(Item_MRP)|\n",
            "+--------------------+-----------+------------------+------------------+\n",
            "|       Starchy Foods|     Medium| 7124.136199999997| 148.4195041666666|\n",
            "|Fruits and Vegeta...|     Medium|59047.217200000014| 142.9714702179177|\n",
            "|       Starchy Foods|       NULL|         6040.6402|140.48000465116277|\n",
            "|              Breads|       NULL|        10011.5004|139.04861666666667|\n",
            "|        Baking Goods|       NULL|23433.838799999994|126.66939891891889|\n",
            "|Fruits and Vegeta...|       NULL|49758.730999999985|142.57516045845267|\n",
            "|        Frozen Foods|       High|12588.291000000001|         136.82925|\n",
            "|         Soft Drinks|       High| 6456.165199999999|131.75847346938772|\n",
            "|           Breakfast|      Small|3917.0407999999998|130.56802666666667|\n",
            "|                Meat|     Medium| 20326.45059999999|136.41913154362408|\n",
            "|Fruits and Vegeta...|       High| 20671.34759999999|145.57287042253515|\n",
            "|                Meat|       High| 5627.036400000002| 137.2447902439025|\n",
            "|        Baking Goods|       High| 9431.749199999998|129.20204383561642|\n",
            "|           Household|     Medium| 42688.57439999998|147.71133010380618|\n",
            "|                Meat|       NULL|16158.166000000005|139.29453448275865|\n",
            "|         Hard Drinks|       NULL| 8869.577199999998| 134.3875333333333|\n",
            "|         Hard Drinks|      Small|         6487.9392|        129.758784|\n",
            "|         Soft Drinks|       NULL|17745.318000000003|133.42344360902257|\n",
            "|           Household|       NULL| 38567.78840000001|147.76930421455944|\n",
            "|               Dairy|       High|12280.733799999996|153.50917249999995|\n",
            "+--------------------+-----------+------------------+------------------+\n",
            "only showing top 20 rows\n",
            "\n"
          ]
        }
      ],
      "source": [
        "df.groupBy('Item_Type','Outlet_Size').agg(sum('Item_MRP'),avg('Item_MRP')) .show()"
      ]
    },
    {
      "cell_type": "markdown",
      "metadata": {
        "id": "66PmJ4sAM-LX"
      },
      "source": [
        "\n",
        "# Collect List\n"
      ]
    },
    {
      "cell_type": "code",
      "execution_count": 55,
      "metadata": {
        "colab": {
          "base_uri": "https://localhost:8080/"
        },
        "id": "xGppvSpANAV9",
        "outputId": "64557668-9524-4c0d-8ab9-edc099829f59"
      },
      "outputs": [
        {
          "name": "stdout",
          "output_type": "stream",
          "text": [
            "+-----+-----+\n",
            "| user| book|\n",
            "+-----+-----+\n",
            "|user1|book1|\n",
            "|user1|book2|\n",
            "|user2|book2|\n",
            "|user2|book4|\n",
            "|user3|book1|\n",
            "|user3|book2|\n",
            "+-----+-----+\n",
            "\n"
          ]
        }
      ],
      "source": [
        "data = [('user1','book1'),\n",
        "        ('user1','book2'),\n",
        "        ('user2','book2'),\n",
        "        ('user2','book4'),\n",
        "        ('user3','book1'),\n",
        "        ('user3','book2')]\n",
        "schema = 'user string,book string'\n",
        "books = spark.createDataFrame(data,schema)\n",
        "books .show()"
      ]
    },
    {
      "cell_type": "markdown",
      "metadata": {
        "id": "Qu4SOOiVNEQM"
      },
      "source": [
        "# Pivot"
      ]
    },
    {
      "cell_type": "code",
      "execution_count": 56,
      "metadata": {
        "colab": {
          "base_uri": "https://localhost:8080/"
        },
        "id": "aIZh5KP_NASZ",
        "outputId": "3725fac6-3a78-4449-f0e2-0d4be7de0f5c"
      },
      "outputs": [
        {
          "name": "stdout",
          "output_type": "stream",
          "text": [
            "+-----------+------------------+------------------+------------------+------------------+------------------+------------------+---------------------+------------------+------------------+------------------+------------------+------------------+------------------+------------------+------------------+------------------+\n",
            "|Outlet_Size|      Baking Goods|            Breads|         Breakfast|            Canned|             Dairy|      Frozen Foods|Fruits and Vegetables|       Hard Drinks|Health and Hygiene|         Household|              Meat|            Others|           Seafood|       Snack Foods|       Soft Drinks|     Starchy Foods|\n",
            "+-----------+------------------+------------------+------------------+------------------+------------------+------------------+---------------------+------------------+------------------+------------------+------------------+------------------+------------------+------------------+------------------+------------------+\n",
            "|       High|129.20204383561642|         133.75896|147.49058461538462| 135.4427076923077|153.50917249999995|         136.82925|   145.57287042253515| 141.9275217391304|135.11098032786884|147.09752233009704| 137.2447902439025|       132.5766125|134.86424000000002|145.84708639999994|131.75847346938772|158.15707368421053|\n",
            "|       NULL|126.66939891891889|139.04861666666667| 158.6750903225807|140.65181123595508| 149.0512677419355|137.49448464730293|   142.57516045845267| 134.3875333333333|130.55989019607844|147.76930421455944|139.29453448275865|132.59299565217393|142.21686666666668| 145.0097524096384|133.42344360902257|140.48000465116277|\n",
            "|     Medium|126.17856847290639| 140.8610385542169|134.53751111111112|138.12485069124423|148.51217431192666|140.55701532846714|    142.9714702179177|142.83769599999994|128.70186470588237|147.71133010380618|136.41913154362408|127.83618076923078|  140.857619047619|148.77919509803917| 128.2696817518248| 148.4195041666666|\n",
            "|      Small|125.21336363636368| 145.5236507042254|130.56802666666667|142.29542857142857|145.94210101010103|137.83854377510033|   148.31336951219507|        129.758784|131.83153529411757| 153.9654389105058|145.69925042016808|137.88921090909088|         144.28176|144.35189611940308| 132.8550428571429| 150.2701736842105|\n",
            "+-----------+------------------+------------------+------------------+------------------+------------------+------------------+---------------------+------------------+------------------+------------------+------------------+------------------+------------------+------------------+------------------+------------------+\n",
            "\n"
          ]
        }
      ],
      "source": [
        "df.groupBy('Outlet_Size').pivot('Item_type').agg(avg('Item_MRP')) .show()"
      ]
    },
    {
      "cell_type": "markdown",
      "metadata": {
        "id": "wj2E34-uNOVd"
      },
      "source": [
        "# When-Otherwise"
      ]
    },
    {
      "cell_type": "code",
      "execution_count": 57,
      "metadata": {
        "colab": {
          "base_uri": "https://localhost:8080/"
        },
        "id": "ISyu0kCpNAP4",
        "outputId": "1c1f888d-6ef8-4623-da57-b79c8da7367a"
      },
      "outputs": [
        {
          "name": "stdout",
          "output_type": "stream",
          "text": [
            "+---------------+-----------+----------------+---------------+--------------------+--------+-----------------+-------------------------+-----------+--------------------+-----------------+-----------------+----+------------------+----------+------------+-------------+-------+\n",
            "|Item_Identifier|Item_Weight|Item_Fat_Content|Item_Visibility|           Item_Type|Item_MRP|Outlet_Identifier|Outlet_Establishment_Year|Outlet_Size|Outlet_Location_Type|      Outlet_Type|Item_Outlet_Sales|flag|        multiplied| curr_date|a_week_after|a_week_before|Non_Veg|\n",
            "+---------------+-----------+----------------+---------------+--------------------+--------+-----------------+-------------------------+-----------+--------------------+-----------------+-----------------+----+------------------+----------+------------+-------------+-------+\n",
            "|          FDA15|        9.3|         Low Fat|    0.016047301|               Dairy|249.8092|           OUT049|                     1999|     Medium|              Tier 1|Supermarket Type1|         3735.138| new|2323.2255600000003|17-06-2025|  2025-06-24|   2025-06-10|  False|\n",
            "|          DRC01|       5.92|         Regular|    0.019278216|         Soft Drinks| 48.2692|           OUT018|                     2009|     Medium|              Tier 3|Supermarket Type2|         443.4228| new|285.75366399999996|17-06-2025|  2025-06-24|   2025-06-10|  False|\n",
            "|          FDN15|       17.5|         Low Fat|    0.016760075|                Meat| 141.618|           OUT049|                     1999|     Medium|              Tier 1|Supermarket Type1|          2097.27| new|          2478.315|17-06-2025|  2025-06-24|   2025-06-10|   True|\n",
            "|          FDX07|       19.2|         Regular|            0.0|Fruits and Vegeta...| 182.095|           OUT010|                     1998|       NULL|              Tier 3|    Grocery Store|           732.38| new|3496.2239999999997|17-06-2025|  2025-06-24|   2025-06-10|  False|\n",
            "|          NCD19|       8.93|         Low Fat|            0.0|           Household| 53.8614|           OUT013|                     1987|       High|              Tier 3|Supermarket Type1|         994.7052| new|        480.982302|17-06-2025|  2025-06-24|   2025-06-10|  False|\n",
            "|          FDP36|     10.395|         Regular|            0.0|        Baking Goods| 51.4008|           OUT018|                     2009|     Medium|              Tier 3|Supermarket Type2|         556.6088| new| 534.3113159999999|17-06-2025|  2025-06-24|   2025-06-10|  False|\n",
            "|          FDO10|      13.65|         Regular|    0.012741089|         Snack Foods| 57.6588|           OUT013|                     1987|       High|              Tier 3|Supermarket Type1|         343.5528| new|         787.04262|17-06-2025|  2025-06-24|   2025-06-10|  False|\n",
            "|          FDP10|       NULL|         Low Fat|    0.127469857|         Snack Foods|107.7622|           OUT027|                     1985|     Medium|              Tier 3|Supermarket Type3|        4022.7636| new|              NULL|17-06-2025|  2025-06-24|   2025-06-10|  False|\n",
            "|          FDH17|       16.2|         Regular|    0.016687114|        Frozen Foods| 96.9726|           OUT045|                     2002|       NULL|              Tier 2|Supermarket Type1|        1076.5986| new|1570.9561199999998|17-06-2025|  2025-06-24|   2025-06-10|  False|\n",
            "|          FDU28|       19.2|         Regular|     0.09444959|        Frozen Foods|187.8214|           OUT017|                     2007|       NULL|              Tier 2|Supermarket Type1|         4710.535| new|        3606.17088|17-06-2025|  2025-06-24|   2025-06-10|  False|\n",
            "|          FDY07|       11.8|         Low Fat|            0.0|Fruits and Vegeta...| 45.5402|           OUT049|                     1999|     Medium|              Tier 1|Supermarket Type1|        1516.0266| new|         537.37436|17-06-2025|  2025-06-24|   2025-06-10|  False|\n",
            "|          FDA03|       18.5|         Regular|    0.045463773|               Dairy|144.1102|           OUT046|                     1997|      Small|              Tier 1|Supermarket Type1|         2187.153| new|         2666.0387|17-06-2025|  2025-06-24|   2025-06-10|  False|\n",
            "|          FDX32|       15.1|         Regular|      0.1000135|Fruits and Vegeta...|145.4786|           OUT049|                     1999|     Medium|              Tier 1|Supermarket Type1|        1589.2646| new|2196.7268599999998|17-06-2025|  2025-06-24|   2025-06-10|  False|\n",
            "|          FDS46|       17.6|         Regular|    0.047257328|         Snack Foods|119.6782|           OUT046|                     1997|      Small|              Tier 1|Supermarket Type1|        2145.2076| new|2106.3363200000003|17-06-2025|  2025-06-24|   2025-06-10|  False|\n",
            "|          FDF32|      16.35|         Low Fat|      0.0680243|Fruits and Vegeta...|196.4426|           OUT013|                     1987|       High|              Tier 3|Supermarket Type1|         1977.426| new|        3211.83651|17-06-2025|  2025-06-24|   2025-06-10|  False|\n",
            "|          FDP49|        9.0|         Regular|    0.069088961|           Breakfast| 56.3614|           OUT046|                     1997|      Small|              Tier 1|Supermarket Type1|        1547.3192| new|507.25260000000003|17-06-2025|  2025-06-24|   2025-06-10|  False|\n",
            "|          NCB42|       11.8|         Low Fat|    0.008596051|  Health and Hygiene|115.3492|           OUT018|                     2009|     Medium|              Tier 3|Supermarket Type2|        1621.8888| new|        1361.12056|17-06-2025|  2025-06-24|   2025-06-10|  False|\n",
            "|          FDP49|        9.0|         Regular|    0.069196376|           Breakfast| 54.3614|           OUT049|                     1999|     Medium|              Tier 1|Supermarket Type1|         718.3982| new|489.25260000000003|17-06-2025|  2025-06-24|   2025-06-10|  False|\n",
            "|          DRI11|       NULL|         Low Fat|    0.034237682|         Hard Drinks|113.2834|           OUT027|                     1985|     Medium|              Tier 3|Supermarket Type3|         2303.668| new|              NULL|17-06-2025|  2025-06-24|   2025-06-10|  False|\n",
            "|          FDU02|      13.35|         Low Fat|     0.10249212|               Dairy|230.5352|           OUT035|                     2004|      Small|              Tier 2|Supermarket Type1|        2748.4224| new|        3077.64492|17-06-2025|  2025-06-24|   2025-06-10|  False|\n",
            "+---------------+-----------+----------------+---------------+--------------------+--------+-----------------+-------------------------+-----------+--------------------+-----------------+-----------------+----+------------------+----------+------------+-------------+-------+\n",
            "only showing top 20 rows\n",
            "\n"
          ]
        }
      ],
      "source": [
        "nv = df.withColumn('Non_Veg',when(col('Item_Type')=='Meat','True').otherwise('False'))\n",
        "nv .show()"
      ]
    },
    {
      "cell_type": "code",
      "execution_count": 58,
      "metadata": {
        "colab": {
          "base_uri": "https://localhost:8080/"
        },
        "id": "i1f-jdZoNANK",
        "outputId": "9c1014c1-5477-4c2c-903e-6cb88738bd6a"
      },
      "outputs": [
        {
          "name": "stdout",
          "output_type": "stream",
          "text": [
            "+---------------+-----------+----------------+---------------+--------------------+--------+-----------------+-------------------------+-----------+--------------------+-----------------+-----------------+----+------------------+----------+------------+-------------+-------+-----------------+\n",
            "|Item_Identifier|Item_Weight|Item_Fat_Content|Item_Visibility|           Item_Type|Item_MRP|Outlet_Identifier|Outlet_Establishment_Year|Outlet_Size|Outlet_Location_Type|      Outlet_Type|Item_Outlet_Sales|flag|        multiplied| curr_date|a_week_after|a_week_before|Non_Veg| Non_Veg_exp_Flag|\n",
            "+---------------+-----------+----------------+---------------+--------------------+--------+-----------------+-------------------------+-----------+--------------------+-----------------+-----------------+----+------------------+----------+------------+-------------+-------+-----------------+\n",
            "|          FDA15|        9.3|         Low Fat|    0.016047301|               Dairy|249.8092|           OUT049|                     1999|     Medium|              Tier 1|Supermarket Type1|         3735.138| new|2323.2255600000003|17-06-2025|  2025-06-24|   2025-06-10|  False|Non Veg Expensive|\n",
            "|          DRC01|       5.92|         Regular|    0.019278216|         Soft Drinks| 48.2692|           OUT018|                     2009|     Medium|              Tier 3|Supermarket Type2|         443.4228| new|285.75366399999996|17-06-2025|  2025-06-24|   2025-06-10|  False|Non Veg Expensive|\n",
            "|          FDN15|       17.5|         Low Fat|    0.016760075|                Meat| 141.618|           OUT049|                     1999|     Medium|              Tier 1|Supermarket Type1|          2097.27| new|          2478.315|17-06-2025|  2025-06-24|   2025-06-10|   True|Non Veg Expensive|\n",
            "|          FDX07|       19.2|         Regular|            0.0|Fruits and Vegeta...| 182.095|           OUT010|                     1998|       NULL|              Tier 3|    Grocery Store|           732.38| new|3496.2239999999997|17-06-2025|  2025-06-24|   2025-06-10|  False|Non Veg Expensive|\n",
            "|          NCD19|       8.93|         Low Fat|            0.0|           Household| 53.8614|           OUT013|                     1987|       High|              Tier 3|Supermarket Type1|         994.7052| new|        480.982302|17-06-2025|  2025-06-24|   2025-06-10|  False|Non Veg Expensive|\n",
            "|          FDP36|     10.395|         Regular|            0.0|        Baking Goods| 51.4008|           OUT018|                     2009|     Medium|              Tier 3|Supermarket Type2|         556.6088| new| 534.3113159999999|17-06-2025|  2025-06-24|   2025-06-10|  False|Non Veg Expensive|\n",
            "|          FDO10|      13.65|         Regular|    0.012741089|         Snack Foods| 57.6588|           OUT013|                     1987|       High|              Tier 3|Supermarket Type1|         343.5528| new|         787.04262|17-06-2025|  2025-06-24|   2025-06-10|  False|Non Veg Expensive|\n",
            "|          FDP10|       NULL|         Low Fat|    0.127469857|         Snack Foods|107.7622|           OUT027|                     1985|     Medium|              Tier 3|Supermarket Type3|        4022.7636| new|              NULL|17-06-2025|  2025-06-24|   2025-06-10|  False|Non Veg Expensive|\n",
            "|          FDH17|       16.2|         Regular|    0.016687114|        Frozen Foods| 96.9726|           OUT045|                     2002|       NULL|              Tier 2|Supermarket Type1|        1076.5986| new|1570.9561199999998|17-06-2025|  2025-06-24|   2025-06-10|  False|Non Veg Expensive|\n",
            "|          FDU28|       19.2|         Regular|     0.09444959|        Frozen Foods|187.8214|           OUT017|                     2007|       NULL|              Tier 2|Supermarket Type1|         4710.535| new|        3606.17088|17-06-2025|  2025-06-24|   2025-06-10|  False|Non Veg Expensive|\n",
            "|          FDY07|       11.8|         Low Fat|            0.0|Fruits and Vegeta...| 45.5402|           OUT049|                     1999|     Medium|              Tier 1|Supermarket Type1|        1516.0266| new|         537.37436|17-06-2025|  2025-06-24|   2025-06-10|  False|Non Veg Expensive|\n",
            "|          FDA03|       18.5|         Regular|    0.045463773|               Dairy|144.1102|           OUT046|                     1997|      Small|              Tier 1|Supermarket Type1|         2187.153| new|         2666.0387|17-06-2025|  2025-06-24|   2025-06-10|  False|Non Veg Expensive|\n",
            "|          FDX32|       15.1|         Regular|      0.1000135|Fruits and Vegeta...|145.4786|           OUT049|                     1999|     Medium|              Tier 1|Supermarket Type1|        1589.2646| new|2196.7268599999998|17-06-2025|  2025-06-24|   2025-06-10|  False|Non Veg Expensive|\n",
            "|          FDS46|       17.6|         Regular|    0.047257328|         Snack Foods|119.6782|           OUT046|                     1997|      Small|              Tier 1|Supermarket Type1|        2145.2076| new|2106.3363200000003|17-06-2025|  2025-06-24|   2025-06-10|  False|Non Veg Expensive|\n",
            "|          FDF32|      16.35|         Low Fat|      0.0680243|Fruits and Vegeta...|196.4426|           OUT013|                     1987|       High|              Tier 3|Supermarket Type1|         1977.426| new|        3211.83651|17-06-2025|  2025-06-24|   2025-06-10|  False|Non Veg Expensive|\n",
            "|          FDP49|        9.0|         Regular|    0.069088961|           Breakfast| 56.3614|           OUT046|                     1997|      Small|              Tier 1|Supermarket Type1|        1547.3192| new|507.25260000000003|17-06-2025|  2025-06-24|   2025-06-10|  False|Non Veg Expensive|\n",
            "|          NCB42|       11.8|         Low Fat|    0.008596051|  Health and Hygiene|115.3492|           OUT018|                     2009|     Medium|              Tier 3|Supermarket Type2|        1621.8888| new|        1361.12056|17-06-2025|  2025-06-24|   2025-06-10|  False|Non Veg Expensive|\n",
            "|          FDP49|        9.0|         Regular|    0.069196376|           Breakfast| 54.3614|           OUT049|                     1999|     Medium|              Tier 1|Supermarket Type1|         718.3982| new|489.25260000000003|17-06-2025|  2025-06-24|   2025-06-10|  False|Non Veg Expensive|\n",
            "|          DRI11|       NULL|         Low Fat|    0.034237682|         Hard Drinks|113.2834|           OUT027|                     1985|     Medium|              Tier 3|Supermarket Type3|         2303.668| new|              NULL|17-06-2025|  2025-06-24|   2025-06-10|  False|Non Veg Expensive|\n",
            "|          FDU02|      13.35|         Low Fat|     0.10249212|               Dairy|230.5352|           OUT035|                     2004|      Small|              Tier 2|Supermarket Type1|        2748.4224| new|        3077.64492|17-06-2025|  2025-06-24|   2025-06-10|  False|Non Veg Expensive|\n",
            "+---------------+-----------+----------------+---------------+--------------------+--------+-----------------+-------------------------+-----------+--------------------+-----------------+-----------------+----+------------------+----------+------------+-------------+-------+-----------------+\n",
            "only showing top 20 rows\n",
            "\n"
          ]
        }
      ],
      "source": [
        "nv.withColumn('Non_Veg_exp_Flag',when(((col('Non_Veg')=='True')&(col('Item_MRP')<100)),'Non Veg Not Expensive').otherwise('Non Veg Expensive')) .show()"
      ]
    },
    {
      "cell_type": "code",
      "execution_count": 59,
      "metadata": {
        "id": "1ZKnB5O9NAKS"
      },
      "outputs": [],
      "source": [
        "dataj1 = [('1','gaur','d01'),\n",
        "          ('2','kit','d02'),\n",
        "          ('3','sam','d03'),\n",
        "          ('4','tim','d03'),\n",
        "          ('5','aman','d05'),\n",
        "          ('6','nad','d06')]\n",
        "\n",
        "schemaj1 = 'emp_id STRING, emp_name STRING, dept_id STRING'\n",
        "\n",
        "df1 = spark.createDataFrame(dataj1,schemaj1)\n",
        "\n",
        "dataj2 = [('d01','HR'),\n",
        "          ('d02','Marketing'),\n",
        "          ('d03','Accounts'),\n",
        "          ('d04','IT'),\n",
        "          ('d05','Finance')]\n",
        "\n",
        "schemaj2 = 'dept_id STRING, department STRING'\n",
        "\n",
        "df2 = spark.createDataFrame(dataj2,schemaj2)"
      ]
    },
    {
      "cell_type": "code",
      "execution_count": 60,
      "metadata": {
        "colab": {
          "base_uri": "https://localhost:8080/"
        },
        "id": "sqnP-3nZNAHX",
        "outputId": "ffdebaf6-b901-4777-b8f8-f1deb08cde0a"
      },
      "outputs": [
        {
          "name": "stdout",
          "output_type": "stream",
          "text": [
            "+------+--------+-------+\n",
            "|emp_id|emp_name|dept_id|\n",
            "+------+--------+-------+\n",
            "|     1|    gaur|    d01|\n",
            "|     2|     kit|    d02|\n",
            "|     3|     sam|    d03|\n",
            "|     4|     tim|    d03|\n",
            "|     5|    aman|    d05|\n",
            "|     6|     nad|    d06|\n",
            "+------+--------+-------+\n",
            "\n",
            "+-------+----------+\n",
            "|dept_id|department|\n",
            "+-------+----------+\n",
            "|    d01|        HR|\n",
            "|    d02| Marketing|\n",
            "|    d03|  Accounts|\n",
            "|    d04|        IT|\n",
            "|    d05|   Finance|\n",
            "+-------+----------+\n",
            "\n"
          ]
        }
      ],
      "source": [
        "df1 .show()\n",
        "df2 .show()"
      ]
    },
    {
      "cell_type": "markdown",
      "metadata": {
        "id": "K5qN4P66Nazy"
      },
      "source": [
        "# Joins"
      ]
    },
    {
      "cell_type": "markdown",
      "metadata": {
        "id": "I0W5qBvQNdgd"
      },
      "source": [
        "## Inner and outer"
      ]
    },
    {
      "cell_type": "code",
      "execution_count": 61,
      "metadata": {
        "colab": {
          "base_uri": "https://localhost:8080/"
        },
        "id": "ne0fFv60NAEs",
        "outputId": "ff3abd13-e0f2-411a-ff0c-f198c0907da0"
      },
      "outputs": [
        {
          "name": "stdout",
          "output_type": "stream",
          "text": [
            "+------+--------+-------+-------+----------+\n",
            "|emp_id|emp_name|dept_id|dept_id|department|\n",
            "+------+--------+-------+-------+----------+\n",
            "|     1|    gaur|    d01|    d01|        HR|\n",
            "|     2|     kit|    d02|    d02| Marketing|\n",
            "|     3|     sam|    d03|    d03|  Accounts|\n",
            "|     4|     tim|    d03|    d03|  Accounts|\n",
            "|     5|    aman|    d05|    d05|   Finance|\n",
            "+------+--------+-------+-------+----------+\n",
            "\n",
            "+------+--------+-------+-------+----------+\n",
            "|emp_id|emp_name|dept_id|dept_id|department|\n",
            "+------+--------+-------+-------+----------+\n",
            "|     1|    gaur|    d01|    d01|        HR|\n",
            "|     2|     kit|    d02|    d02| Marketing|\n",
            "|     3|     sam|    d03|    d03|  Accounts|\n",
            "|     4|     tim|    d03|    d03|  Accounts|\n",
            "|  NULL|    NULL|   NULL|    d04|        IT|\n",
            "|     5|    aman|    d05|    d05|   Finance|\n",
            "|     6|     nad|    d06|   NULL|      NULL|\n",
            "+------+--------+-------+-------+----------+\n",
            "\n"
          ]
        }
      ],
      "source": [
        "df1.join(df2,df1['dept_id']==df2['dept_id'],'inner') .show()\n",
        "\n",
        "df1.join(df2,df1['dept_id']==df2['dept_id'],'outer') .show()\n",
        "\n",
        "\n"
      ]
    },
    {
      "cell_type": "markdown",
      "metadata": {
        "id": "pshDZIioNguP"
      },
      "source": [
        "## Right and Left"
      ]
    },
    {
      "cell_type": "code",
      "execution_count": 62,
      "metadata": {
        "colab": {
          "base_uri": "https://localhost:8080/"
        },
        "id": "r0Dbvf5FNAB6",
        "outputId": "9f04b43f-b9a3-4b01-b3ea-eac5bd546fa9"
      },
      "outputs": [
        {
          "name": "stdout",
          "output_type": "stream",
          "text": [
            "+------+--------+-------+-------+----------+\n",
            "|emp_id|emp_name|dept_id|dept_id|department|\n",
            "+------+--------+-------+-------+----------+\n",
            "|     1|    gaur|    d01|    d01|        HR|\n",
            "|     3|     sam|    d03|    d03|  Accounts|\n",
            "|     2|     kit|    d02|    d02| Marketing|\n",
            "|     4|     tim|    d03|    d03|  Accounts|\n",
            "|     6|     nad|    d06|   NULL|      NULL|\n",
            "|     5|    aman|    d05|    d05|   Finance|\n",
            "+------+--------+-------+-------+----------+\n",
            "\n",
            "+------+--------+-------+-------+----------+\n",
            "|emp_id|emp_name|dept_id|dept_id|department|\n",
            "+------+--------+-------+-------+----------+\n",
            "|     1|    gaur|    d01|    d01|        HR|\n",
            "|     2|     kit|    d02|    d02| Marketing|\n",
            "|     4|     tim|    d03|    d03|  Accounts|\n",
            "|     3|     sam|    d03|    d03|  Accounts|\n",
            "|  NULL|    NULL|   NULL|    d04|        IT|\n",
            "|     5|    aman|    d05|    d05|   Finance|\n",
            "+------+--------+-------+-------+----------+\n",
            "\n"
          ]
        }
      ],
      "source": [
        "df1.join(df2,df1['dept_id']==df2['dept_id'],'left') .show()\n",
        "df1.join(df2,df1['dept_id']==df2['dept_id'],'right') .show()"
      ]
    },
    {
      "cell_type": "markdown",
      "metadata": {
        "id": "gX2gsHVGNkFE"
      },
      "source": [
        "## Left anti and semi"
      ]
    },
    {
      "cell_type": "code",
      "execution_count": 63,
      "metadata": {
        "colab": {
          "base_uri": "https://localhost:8080/"
        },
        "id": "uLKHOifIM__D",
        "outputId": "f4082353-7fa1-43b1-e885-e8ac6d182ca5"
      },
      "outputs": [
        {
          "name": "stdout",
          "output_type": "stream",
          "text": [
            "+------+--------+-------+\n",
            "|emp_id|emp_name|dept_id|\n",
            "+------+--------+-------+\n",
            "|     6|     nad|    d06|\n",
            "+------+--------+-------+\n",
            "\n",
            "+------+--------+-------+\n",
            "|emp_id|emp_name|dept_id|\n",
            "+------+--------+-------+\n",
            "|     1|    gaur|    d01|\n",
            "|     2|     kit|    d02|\n",
            "|     3|     sam|    d03|\n",
            "|     4|     tim|    d03|\n",
            "|     5|    aman|    d05|\n",
            "+------+--------+-------+\n",
            "\n"
          ]
        }
      ],
      "source": [
        "df1.join(df2,df1['dept_id']==df2['dept_id'],'leftanti') .show()\n",
        "df1.join(df2,df1['dept_id']==df2['dept_id'],'leftsemi') .show()"
      ]
    },
    {
      "cell_type": "markdown",
      "metadata": {
        "id": "qJEdJTzeNr8K"
      },
      "source": [
        "## Cross Join"
      ]
    },
    {
      "cell_type": "code",
      "execution_count": 64,
      "metadata": {
        "colab": {
          "base_uri": "https://localhost:8080/"
        },
        "id": "FKORy0MFM_7_",
        "outputId": "0bee13b6-a879-4082-def3-9715fa44ff89"
      },
      "outputs": [
        {
          "name": "stdout",
          "output_type": "stream",
          "text": [
            "+------+--------+-------+-------+----------+\n",
            "|emp_id|emp_name|dept_id|dept_id|department|\n",
            "+------+--------+-------+-------+----------+\n",
            "|     1|    gaur|    d01|    d01|        HR|\n",
            "|     2|     kit|    d02|    d02| Marketing|\n",
            "|     3|     sam|    d03|    d03|  Accounts|\n",
            "|     4|     tim|    d03|    d03|  Accounts|\n",
            "|     5|    aman|    d05|    d05|   Finance|\n",
            "+------+--------+-------+-------+----------+\n",
            "\n"
          ]
        }
      ],
      "source": [
        "df1.join(df2,df1['dept_id']==df2['dept_id'],'cross') .show()"
      ]
    },
    {
      "cell_type": "markdown",
      "metadata": {
        "id": "UsDUzDDUNu8R"
      },
      "source": [
        "\n",
        "# Window Functions"
      ]
    },
    {
      "cell_type": "code",
      "execution_count": 65,
      "metadata": {
        "id": "cUOrq-t_M_5S"
      },
      "outputs": [],
      "source": [
        "from pyspark.sql.window import Window"
      ]
    },
    {
      "cell_type": "markdown",
      "metadata": {
        "id": "-74QOJ3EN0go"
      },
      "source": [
        "## Row Number"
      ]
    },
    {
      "cell_type": "code",
      "execution_count": 66,
      "metadata": {
        "colab": {
          "base_uri": "https://localhost:8080/"
        },
        "id": "ByYuW7YMM-5D",
        "outputId": "70286074-f036-48de-d8f2-2acf3d5afac9"
      },
      "outputs": [
        {
          "name": "stdout",
          "output_type": "stream",
          "text": [
            "+---------------+-----------+----------------+---------------+------------------+--------+-----------------+-------------------------+-----------+--------------------+-----------------+-----------------+----+------------------+----------+------------+-------------+----------+\n",
            "|Item_Identifier|Item_Weight|Item_Fat_Content|Item_Visibility|         Item_Type|Item_MRP|Outlet_Identifier|Outlet_Establishment_Year|Outlet_Size|Outlet_Location_Type|      Outlet_Type|Item_Outlet_Sales|flag|        multiplied| curr_date|a_week_after|a_week_before|row_number|\n",
            "+---------------+-----------+----------------+---------------+------------------+--------+-----------------+-------------------------+-----------+--------------------+-----------------+-----------------+----+------------------+----------+------------+-------------+----------+\n",
            "|          FDS13|      6.465|         Low Fat|    0.125210375|            Canned|266.8884|           OUT017|                     2007|       NULL|              Tier 2|Supermarket Type1|        1059.9536| new|1725.4335059999999|17-06-2025|  2025-06-24|   2025-06-10|         1|\n",
            "|          FDR25|       17.0|         Regular|    0.139521931|            Canned|266.8884|           OUT046|                     1997|      Small|              Tier 1|Supermarket Type1|        5034.7796| new|         4537.1028|17-06-2025|  2025-06-24|   2025-06-10|         2|\n",
            "|          FDK51|      19.85|         Low Fat|    0.008762556|             Dairy|266.6884|           OUT010|                     1998|       NULL|              Tier 3|    Grocery Store|         264.9884| new|5293.7647400000005|17-06-2025|  2025-06-24|   2025-06-10|         3|\n",
            "|          NCS29|        9.0|         Low Fat|    0.069487587|Health and Hygiene|266.6884|           OUT013|                     1987|       High|              Tier 3|Supermarket Type1|         3974.826| new|         2400.1956|17-06-2025|  2025-06-24|   2025-06-10|         4|\n",
            "|          FDS13|       NULL|         Low Fat|     0.21799414|            Canned|266.5884|           OUT019|                     1985|      Small|              Tier 1|    Grocery Store|         1324.942| new|              NULL|17-06-2025|  2025-06-24|   2025-06-10|         5|\n",
            "|          NCS29|        9.0|         Low Fat|     0.06953231|Health and Hygiene|266.5884|           OUT035|                     2004|      Small|              Tier 2|Supermarket Type1|          6624.71| new|         2399.2956|17-06-2025|  2025-06-24|   2025-06-10|         6|\n",
            "|          NCS29|        9.0|         Low Fat|    0.069653585|Health and Hygiene|266.2884|           OUT049|                     1999|     Medium|              Tier 1|Supermarket Type1|        2914.8724| new|         2396.5956|17-06-2025|  2025-06-24|   2025-06-10|         7|\n",
            "|          FDK51|      19.85|         Low Fat|    0.005243282|             Dairy|266.1884|           OUT049|                     1999|     Medium|              Tier 1|Supermarket Type1|        3179.8608| new|        5283.83974|17-06-2025|  2025-06-24|   2025-06-10|         8|\n",
            "|          FDS13|      6.465|         Low Fat|    0.124402507|            Canned|266.1884|           OUT013|                     1987|       High|              Tier 3|Supermarket Type1|         5299.768| new|       1720.908006|17-06-2025|  2025-06-24|   2025-06-10|         9|\n",
            "|          NCM05|       NULL|         Low Fat|    0.104784329|Health and Hygiene|266.0226|           OUT019|                     1985|      Small|              Tier 1|    Grocery Store|         528.6452| new|              NULL|17-06-2025|  2025-06-24|   2025-06-10|        10|\n",
            "|          FDK51|      19.85|         Low Fat|    0.005235143|             Dairy|265.8884|           OUT046|                     1997|      Small|              Tier 1|Supermarket Type1|         2649.884| new|        5277.88474|17-06-2025|  2025-06-24|   2025-06-10|        11|\n",
            "|          FDR25|       17.0|         Regular|    0.139804885|            Canned|265.7884|           OUT045|                     2002|       NULL|              Tier 2|Supermarket Type1|         3974.826| new| 4518.402800000001|17-06-2025|  2025-06-24|   2025-06-10|        12|\n",
            "|          FDR25|       17.0|         Regular|    0.140311123|            Canned|265.6884|           OUT017|                     2007|       NULL|              Tier 2|Supermarket Type1|         2649.884| new|         4516.7028|17-06-2025|  2025-06-24|   2025-06-10|        13|\n",
            "|          FDU12|       15.5|         Regular|    0.075736746|      Baking Goods|265.5568|           OUT035|                     2004|      Small|              Tier 2|Supermarket Type1|        4482.1656| new|         4116.1304|17-06-2025|  2025-06-24|   2025-06-10|        14|\n",
            "|          FDK51|       NULL|         Low Fat|    0.005209791|             Dairy|265.2884|           OUT027|                     1985|     Medium|              Tier 3|Supermarket Type3|        3179.8608| new|              NULL|17-06-2025|  2025-06-24|   2025-06-10|        15|\n",
            "|          FDS13|      6.465|         Low Fat|    0.208397715|            Canned|265.2884|           OUT010|                     1998|       NULL|              Tier 3|    Grocery Store|         264.9884| new|       1715.089506|17-06-2025|  2025-06-24|   2025-06-10|        16|\n",
            "|          FDB15|     10.895|         Low Fat|    0.136784873|             Dairy|265.2568|           OUT035|                     2004|      Small|              Tier 2|Supermarket Type1|        4218.5088| new|       2889.972836|17-06-2025|  2025-06-24|   2025-06-10|        17|\n",
            "|          FDV49|       10.0|         Low Fat|    0.025879577|            Canned|265.2226|           OUT045|                     2002|       NULL|              Tier 2|Supermarket Type1|        5815.0972| new|          2652.226|17-06-2025|  2025-06-24|   2025-06-10|        18|\n",
            "|          FDR25|       17.0|         Regular|    0.140090284|            Canned|265.1884|           OUT018|                     2009|     Medium|              Tier 3|Supermarket Type2|        6359.7216| new|         4508.2028|17-06-2025|  2025-06-24|   2025-06-10|        19|\n",
            "|          FDK51|      19.85|         Low Fat|    0.005230786|             Dairy|265.1884|           OUT013|                     1987|       High|              Tier 3|Supermarket Type1|        5034.7796| new|        5263.98974|17-06-2025|  2025-06-24|   2025-06-10|        20|\n",
            "+---------------+-----------+----------------+---------------+------------------+--------+-----------------+-------------------------+-----------+--------------------+-----------------+-----------------+----+------------------+----------+------------+-------------+----------+\n",
            "only showing top 20 rows\n",
            "\n"
          ]
        }
      ],
      "source": [
        "df.withColumn('row_number',row_number().over(Window.orderBy(col('Item_MRP').desc()))) .show()"
      ]
    },
    {
      "cell_type": "markdown",
      "metadata": {
        "id": "Z5IS6QkBN_pk"
      },
      "source": [
        "## Rank"
      ]
    },
    {
      "cell_type": "code",
      "execution_count": 67,
      "metadata": {
        "colab": {
          "base_uri": "https://localhost:8080/"
        },
        "id": "6vgXjGxvN0VI",
        "outputId": "7b71be73-9e2b-4a00-d0da-0d222f86dce3"
      },
      "outputs": [
        {
          "name": "stdout",
          "output_type": "stream",
          "text": [
            "+---------------+-----------+----------------+---------------+------------------+--------+-----------------+-------------------------+-----------+--------------------+-----------------+-----------------+----+------------------+----------+------------+-------------+-----------+\n",
            "|Item_Identifier|Item_Weight|Item_Fat_Content|Item_Visibility|         Item_Type|Item_MRP|Outlet_Identifier|Outlet_Establishment_Year|Outlet_Size|Outlet_Location_Type|      Outlet_Type|Item_Outlet_Sales|flag|        multiplied| curr_date|a_week_after|a_week_before|rank_number|\n",
            "+---------------+-----------+----------------+---------------+------------------+--------+-----------------+-------------------------+-----------+--------------------+-----------------+-----------------+----+------------------+----------+------------+-------------+-----------+\n",
            "|          FDS13|      6.465|         Low Fat|    0.125210375|            Canned|266.8884|           OUT017|                     2007|       NULL|              Tier 2|Supermarket Type1|        1059.9536| new|1725.4335059999999|17-06-2025|  2025-06-24|   2025-06-10|          1|\n",
            "|          FDR25|       17.0|         Regular|    0.139521931|            Canned|266.8884|           OUT046|                     1997|      Small|              Tier 1|Supermarket Type1|        5034.7796| new|         4537.1028|17-06-2025|  2025-06-24|   2025-06-10|          2|\n",
            "|          FDK51|      19.85|         Low Fat|    0.008762556|             Dairy|266.6884|           OUT010|                     1998|       NULL|              Tier 3|    Grocery Store|         264.9884| new|5293.7647400000005|17-06-2025|  2025-06-24|   2025-06-10|          3|\n",
            "|          NCS29|        9.0|         Low Fat|    0.069487587|Health and Hygiene|266.6884|           OUT013|                     1987|       High|              Tier 3|Supermarket Type1|         3974.826| new|         2400.1956|17-06-2025|  2025-06-24|   2025-06-10|          4|\n",
            "|          FDS13|       NULL|         Low Fat|     0.21799414|            Canned|266.5884|           OUT019|                     1985|      Small|              Tier 1|    Grocery Store|         1324.942| new|              NULL|17-06-2025|  2025-06-24|   2025-06-10|          5|\n",
            "|          NCS29|        9.0|         Low Fat|     0.06953231|Health and Hygiene|266.5884|           OUT035|                     2004|      Small|              Tier 2|Supermarket Type1|          6624.71| new|         2399.2956|17-06-2025|  2025-06-24|   2025-06-10|          6|\n",
            "|          NCS29|        9.0|         Low Fat|    0.069653585|Health and Hygiene|266.2884|           OUT049|                     1999|     Medium|              Tier 1|Supermarket Type1|        2914.8724| new|         2396.5956|17-06-2025|  2025-06-24|   2025-06-10|          7|\n",
            "|          FDK51|      19.85|         Low Fat|    0.005243282|             Dairy|266.1884|           OUT049|                     1999|     Medium|              Tier 1|Supermarket Type1|        3179.8608| new|        5283.83974|17-06-2025|  2025-06-24|   2025-06-10|          8|\n",
            "|          FDS13|      6.465|         Low Fat|    0.124402507|            Canned|266.1884|           OUT013|                     1987|       High|              Tier 3|Supermarket Type1|         5299.768| new|       1720.908006|17-06-2025|  2025-06-24|   2025-06-10|          9|\n",
            "|          NCM05|       NULL|         Low Fat|    0.104784329|Health and Hygiene|266.0226|           OUT019|                     1985|      Small|              Tier 1|    Grocery Store|         528.6452| new|              NULL|17-06-2025|  2025-06-24|   2025-06-10|         10|\n",
            "|          FDK51|      19.85|         Low Fat|    0.005235143|             Dairy|265.8884|           OUT046|                     1997|      Small|              Tier 1|Supermarket Type1|         2649.884| new|        5277.88474|17-06-2025|  2025-06-24|   2025-06-10|         11|\n",
            "|          FDR25|       17.0|         Regular|    0.139804885|            Canned|265.7884|           OUT045|                     2002|       NULL|              Tier 2|Supermarket Type1|         3974.826| new| 4518.402800000001|17-06-2025|  2025-06-24|   2025-06-10|         12|\n",
            "|          FDR25|       17.0|         Regular|    0.140311123|            Canned|265.6884|           OUT017|                     2007|       NULL|              Tier 2|Supermarket Type1|         2649.884| new|         4516.7028|17-06-2025|  2025-06-24|   2025-06-10|         13|\n",
            "|          FDU12|       15.5|         Regular|    0.075736746|      Baking Goods|265.5568|           OUT035|                     2004|      Small|              Tier 2|Supermarket Type1|        4482.1656| new|         4116.1304|17-06-2025|  2025-06-24|   2025-06-10|         14|\n",
            "|          FDK51|       NULL|         Low Fat|    0.005209791|             Dairy|265.2884|           OUT027|                     1985|     Medium|              Tier 3|Supermarket Type3|        3179.8608| new|              NULL|17-06-2025|  2025-06-24|   2025-06-10|         15|\n",
            "|          FDS13|      6.465|         Low Fat|    0.208397715|            Canned|265.2884|           OUT010|                     1998|       NULL|              Tier 3|    Grocery Store|         264.9884| new|       1715.089506|17-06-2025|  2025-06-24|   2025-06-10|         16|\n",
            "|          FDB15|     10.895|         Low Fat|    0.136784873|             Dairy|265.2568|           OUT035|                     2004|      Small|              Tier 2|Supermarket Type1|        4218.5088| new|       2889.972836|17-06-2025|  2025-06-24|   2025-06-10|         17|\n",
            "|          FDV49|       10.0|         Low Fat|    0.025879577|            Canned|265.2226|           OUT045|                     2002|       NULL|              Tier 2|Supermarket Type1|        5815.0972| new|          2652.226|17-06-2025|  2025-06-24|   2025-06-10|         18|\n",
            "|          FDR25|       17.0|         Regular|    0.140090284|            Canned|265.1884|           OUT018|                     2009|     Medium|              Tier 3|Supermarket Type2|        6359.7216| new|         4508.2028|17-06-2025|  2025-06-24|   2025-06-10|         19|\n",
            "|          FDK51|      19.85|         Low Fat|    0.005230786|             Dairy|265.1884|           OUT013|                     1987|       High|              Tier 3|Supermarket Type1|        5034.7796| new|        5263.98974|17-06-2025|  2025-06-24|   2025-06-10|         20|\n",
            "+---------------+-----------+----------------+---------------+------------------+--------+-----------------+-------------------------+-----------+--------------------+-----------------+-----------------+----+------------------+----------+------------+-------------+-----------+\n",
            "only showing top 20 rows\n",
            "\n"
          ]
        }
      ],
      "source": [
        "df.withColumn('rank_number',row_number().over(Window.orderBy(col('Item_MRP').desc()))) .show()"
      ]
    },
    {
      "cell_type": "markdown",
      "metadata": {
        "id": "b7QAza45OFAn"
      },
      "source": [
        "## Dense_rank"
      ]
    },
    {
      "cell_type": "code",
      "execution_count": 68,
      "metadata": {
        "colab": {
          "base_uri": "https://localhost:8080/"
        },
        "id": "_098pFWLN0Ro",
        "outputId": "b2620998-6cb0-473a-c83a-cf69af3fb866"
      },
      "outputs": [
        {
          "name": "stdout",
          "output_type": "stream",
          "text": [
            "+---------------+-----------+----------------+---------------+------------------+--------+-----------------+-------------------------+-----------+--------------------+-----------------+-----------------+----+------------------+----------+------------+-------------+----------+\n",
            "|Item_Identifier|Item_Weight|Item_Fat_Content|Item_Visibility|         Item_Type|Item_MRP|Outlet_Identifier|Outlet_Establishment_Year|Outlet_Size|Outlet_Location_Type|      Outlet_Type|Item_Outlet_Sales|flag|        multiplied| curr_date|a_week_after|a_week_before|dense_rank|\n",
            "+---------------+-----------+----------------+---------------+------------------+--------+-----------------+-------------------------+-----------+--------------------+-----------------+-----------------+----+------------------+----------+------------+-------------+----------+\n",
            "|          FDS13|      6.465|         Low Fat|    0.125210375|            Canned|266.8884|           OUT017|                     2007|       NULL|              Tier 2|Supermarket Type1|        1059.9536| new|1725.4335059999999|17-06-2025|  2025-06-24|   2025-06-10|         1|\n",
            "|          FDR25|       17.0|         Regular|    0.139521931|            Canned|266.8884|           OUT046|                     1997|      Small|              Tier 1|Supermarket Type1|        5034.7796| new|         4537.1028|17-06-2025|  2025-06-24|   2025-06-10|         2|\n",
            "|          FDK51|      19.85|         Low Fat|    0.008762556|             Dairy|266.6884|           OUT010|                     1998|       NULL|              Tier 3|    Grocery Store|         264.9884| new|5293.7647400000005|17-06-2025|  2025-06-24|   2025-06-10|         3|\n",
            "|          NCS29|        9.0|         Low Fat|    0.069487587|Health and Hygiene|266.6884|           OUT013|                     1987|       High|              Tier 3|Supermarket Type1|         3974.826| new|         2400.1956|17-06-2025|  2025-06-24|   2025-06-10|         4|\n",
            "|          FDS13|       NULL|         Low Fat|     0.21799414|            Canned|266.5884|           OUT019|                     1985|      Small|              Tier 1|    Grocery Store|         1324.942| new|              NULL|17-06-2025|  2025-06-24|   2025-06-10|         5|\n",
            "|          NCS29|        9.0|         Low Fat|     0.06953231|Health and Hygiene|266.5884|           OUT035|                     2004|      Small|              Tier 2|Supermarket Type1|          6624.71| new|         2399.2956|17-06-2025|  2025-06-24|   2025-06-10|         6|\n",
            "|          NCS29|        9.0|         Low Fat|    0.069653585|Health and Hygiene|266.2884|           OUT049|                     1999|     Medium|              Tier 1|Supermarket Type1|        2914.8724| new|         2396.5956|17-06-2025|  2025-06-24|   2025-06-10|         7|\n",
            "|          FDK51|      19.85|         Low Fat|    0.005243282|             Dairy|266.1884|           OUT049|                     1999|     Medium|              Tier 1|Supermarket Type1|        3179.8608| new|        5283.83974|17-06-2025|  2025-06-24|   2025-06-10|         8|\n",
            "|          FDS13|      6.465|         Low Fat|    0.124402507|            Canned|266.1884|           OUT013|                     1987|       High|              Tier 3|Supermarket Type1|         5299.768| new|       1720.908006|17-06-2025|  2025-06-24|   2025-06-10|         9|\n",
            "|          NCM05|       NULL|         Low Fat|    0.104784329|Health and Hygiene|266.0226|           OUT019|                     1985|      Small|              Tier 1|    Grocery Store|         528.6452| new|              NULL|17-06-2025|  2025-06-24|   2025-06-10|        10|\n",
            "|          FDK51|      19.85|         Low Fat|    0.005235143|             Dairy|265.8884|           OUT046|                     1997|      Small|              Tier 1|Supermarket Type1|         2649.884| new|        5277.88474|17-06-2025|  2025-06-24|   2025-06-10|        11|\n",
            "|          FDR25|       17.0|         Regular|    0.139804885|            Canned|265.7884|           OUT045|                     2002|       NULL|              Tier 2|Supermarket Type1|         3974.826| new| 4518.402800000001|17-06-2025|  2025-06-24|   2025-06-10|        12|\n",
            "|          FDR25|       17.0|         Regular|    0.140311123|            Canned|265.6884|           OUT017|                     2007|       NULL|              Tier 2|Supermarket Type1|         2649.884| new|         4516.7028|17-06-2025|  2025-06-24|   2025-06-10|        13|\n",
            "|          FDU12|       15.5|         Regular|    0.075736746|      Baking Goods|265.5568|           OUT035|                     2004|      Small|              Tier 2|Supermarket Type1|        4482.1656| new|         4116.1304|17-06-2025|  2025-06-24|   2025-06-10|        14|\n",
            "|          FDK51|       NULL|         Low Fat|    0.005209791|             Dairy|265.2884|           OUT027|                     1985|     Medium|              Tier 3|Supermarket Type3|        3179.8608| new|              NULL|17-06-2025|  2025-06-24|   2025-06-10|        15|\n",
            "|          FDS13|      6.465|         Low Fat|    0.208397715|            Canned|265.2884|           OUT010|                     1998|       NULL|              Tier 3|    Grocery Store|         264.9884| new|       1715.089506|17-06-2025|  2025-06-24|   2025-06-10|        16|\n",
            "|          FDB15|     10.895|         Low Fat|    0.136784873|             Dairy|265.2568|           OUT035|                     2004|      Small|              Tier 2|Supermarket Type1|        4218.5088| new|       2889.972836|17-06-2025|  2025-06-24|   2025-06-10|        17|\n",
            "|          FDV49|       10.0|         Low Fat|    0.025879577|            Canned|265.2226|           OUT045|                     2002|       NULL|              Tier 2|Supermarket Type1|        5815.0972| new|          2652.226|17-06-2025|  2025-06-24|   2025-06-10|        18|\n",
            "|          FDR25|       17.0|         Regular|    0.140090284|            Canned|265.1884|           OUT018|                     2009|     Medium|              Tier 3|Supermarket Type2|        6359.7216| new|         4508.2028|17-06-2025|  2025-06-24|   2025-06-10|        19|\n",
            "|          FDK51|      19.85|         Low Fat|    0.005230786|             Dairy|265.1884|           OUT013|                     1987|       High|              Tier 3|Supermarket Type1|        5034.7796| new|        5263.98974|17-06-2025|  2025-06-24|   2025-06-10|        20|\n",
            "+---------------+-----------+----------------+---------------+------------------+--------+-----------------+-------------------------+-----------+--------------------+-----------------+-----------------+----+------------------+----------+------------+-------------+----------+\n",
            "only showing top 20 rows\n",
            "\n"
          ]
        }
      ],
      "source": [
        "df.withColumn('dense_rank',row_number().over(Window.orderBy(col('Item_MRP').desc()))) .show()"
      ]
    },
    {
      "cell_type": "markdown",
      "metadata": {
        "id": "y7HKJs2XOLyA"
      },
      "source": [
        "## Cumulative Sum"
      ]
    },
    {
      "cell_type": "code",
      "execution_count": 69,
      "metadata": {
        "colab": {
          "base_uri": "https://localhost:8080/"
        },
        "id": "zeKeGZ-hN0O8",
        "outputId": "13aad02b-4513-4ff5-9521-339de04ba504"
      },
      "outputs": [
        {
          "name": "stdout",
          "output_type": "stream",
          "text": [
            "+---------------+-----------+----------------+---------------+------------+--------+-----------------+-------------------------+-----------+--------------------+-----------------+-----------------+----+------------------+----------+------------+-------------+-----------------+\n",
            "|Item_Identifier|Item_Weight|Item_Fat_Content|Item_Visibility|   Item_Type|Item_MRP|Outlet_Identifier|Outlet_Establishment_Year|Outlet_Size|Outlet_Location_Type|      Outlet_Type|Item_Outlet_Sales|flag|        multiplied| curr_date|a_week_after|a_week_before|          Cum_sum|\n",
            "+---------------+-----------+----------------+---------------+------------+--------+-----------------+-------------------------+-----------+--------------------+-----------------+-----------------+----+------------------+----------+------------+-------------+-----------------+\n",
            "|          FDP36|     10.395|         Regular|            0.0|Baking Goods| 51.4008|           OUT018|                     2009|     Medium|              Tier 3|Supermarket Type2|         556.6088| new| 534.3113159999999|17-06-2025|  2025-06-24|   2025-06-10|81894.73640000001|\n",
            "|          FDW12|       NULL|         Regular|    0.035399923|Baking Goods|144.5444|           OUT027|                     1985|     Medium|              Tier 3|Supermarket Type3|        4064.0432| new|              NULL|17-06-2025|  2025-06-24|   2025-06-10|81894.73640000001|\n",
            "|          FDC37|       NULL|         Low Fat|    0.057556998|Baking Goods|107.6938|           OUT019|                     1985|      Small|              Tier 1|    Grocery Store|         214.3876| new|              NULL|17-06-2025|  2025-06-24|   2025-06-10|81894.73640000001|\n",
            "|          FDL12|      15.85|         Regular|    0.121632721|Baking Goods|  60.622|           OUT046|                     1997|      Small|              Tier 1|Supermarket Type1|         2576.646| new|          960.8587|17-06-2025|  2025-06-24|   2025-06-10|81894.73640000001|\n",
            "|          FDL12|      15.85|         Regular|    0.121531501|Baking Goods|  59.222|           OUT013|                     1987|       High|              Tier 3|Supermarket Type1|           599.22| new|          938.6687|17-06-2025|  2025-06-24|   2025-06-10|81894.73640000001|\n",
            "|          FDN48|       NULL|         Low Fat|    0.113720344|Baking Goods| 89.9804|           OUT019|                     1985|      Small|              Tier 1|    Grocery Store|         643.1628| new|              NULL|17-06-2025|  2025-06-24|   2025-06-10|81894.73640000001|\n",
            "|          FDR12|       NULL|         Regular|    0.031382044|Baking Goods|171.3764|           OUT027|                     1985|     Medium|              Tier 3|Supermarket Type3|        3091.9752| new|              NULL|17-06-2025|  2025-06-24|   2025-06-10|81894.73640000001|\n",
            "|          FDA47|       10.5|         Regular|    0.116576702|Baking Goods| 163.121|           OUT013|                     1987|       High|              Tier 3|Supermarket Type1|         1794.331| new|         1712.7705|17-06-2025|  2025-06-24|   2025-06-10|81894.73640000001|\n",
            "|          FDG12|      6.635|         Regular|            0.0|Baking Goods|121.3098|           OUT045|                     2002|       NULL|              Tier 2|Supermarket Type1|        2530.7058| new| 804.8905229999999|17-06-2025|  2025-06-24|   2025-06-10|81894.73640000001|\n",
            "|          FDB36|      5.465|         Regular|            0.0|Baking Goods|132.5626|           OUT018|                     2009|     Medium|              Tier 3|Supermarket Type2|         262.3252| new|        724.454609|17-06-2025|  2025-06-24|   2025-06-10|81894.73640000001|\n",
            "|          FDO24|       11.1|         Low Fat|    0.176573035|Baking Goods|157.4604|           OUT045|                     2002|       NULL|              Tier 2|Supermarket Type1|        3010.7476| new|        1747.81044|17-06-2025|  2025-06-24|   2025-06-10|81894.73640000001|\n",
            "|          FDT12|       NULL|         Regular|    0.049381406|Baking Goods|226.8062|           OUT027|                     1985|     Medium|              Tier 3|Supermarket Type3|        4739.8302| new|              NULL|17-06-2025|  2025-06-24|   2025-06-10|81894.73640000001|\n",
            "|          FDE36|       5.26|         Regular|    0.041764487|Baking Goods|161.8868|           OUT035|                     2004|      Small|              Tier 2|Supermarket Type1|         3275.736| new| 851.5245679999999|17-06-2025|  2025-06-24|   2025-06-10|81894.73640000001|\n",
            "|          FDI24|       NULL|         Low Fat|    0.078362484|Baking Goods| 177.937|           OUT027|                     1985|     Medium|              Tier 3|Supermarket Type3|         6704.606| new|              NULL|17-06-2025|  2025-06-24|   2025-06-10|81894.73640000001|\n",
            "|          FDF24|       15.5|         Regular|    0.042464962|Baking Goods| 81.5934|           OUT010|                     1998|       NULL|              Tier 3|    Grocery Store|         327.5736| new|         1264.6977|17-06-2025|  2025-06-24|   2025-06-10|81894.73640000001|\n",
            "|          FDY24|       4.88|         Regular|    0.133700752|Baking Goods| 52.9298|           OUT049|                     1999|     Medium|              Tier 1|Supermarket Type1|        1995.4026| new|        258.297424|17-06-2025|  2025-06-24|   2025-06-10|81894.73640000001|\n",
            "|          FDC60|      5.425|         Regular|    0.115119905|Baking Goods| 88.3514|           OUT017|                     2007|       NULL|              Tier 2|Supermarket Type1|        1416.8224| new|479.30634499999996|17-06-2025|  2025-06-24|   2025-06-10|81894.73640000001|\n",
            "|          FDS12|        9.1|         Low Fat|    0.175103435|Baking Goods|127.5362|           OUT017|                     2007|       NULL|              Tier 2|Supermarket Type1|        4655.9394| new|1160.5794199999998|17-06-2025|  2025-06-24|   2025-06-10|81894.73640000001|\n",
            "|          FDG24|      7.975|         Low Fat|    0.014618973|Baking Goods|  85.225|           OUT013|                     1987|       High|              Tier 3|Supermarket Type1|         1081.925| new|        679.669375|17-06-2025|  2025-06-24|   2025-06-10|81894.73640000001|\n",
            "|          FDV60|       NULL|         Regular|     0.11679292|Baking Goods| 196.211|           OUT027|                     1985|     Medium|              Tier 3|Supermarket Type3|         5499.508| new|              NULL|17-06-2025|  2025-06-24|   2025-06-10|81894.73640000001|\n",
            "+---------------+-----------+----------------+---------------+------------+--------+-----------------+-------------------------+-----------+--------------------+-----------------+-----------------+----+------------------+----------+------------+-------------+-----------------+\n",
            "only showing top 20 rows\n",
            "\n"
          ]
        }
      ],
      "source": [
        "df.withColumn('Cum_sum',sum('Item_MRP').over(Window.orderBy('Item_Type'))) .show()"
      ]
    },
    {
      "cell_type": "code",
      "execution_count": 70,
      "metadata": {
        "colab": {
          "base_uri": "https://localhost:8080/"
        },
        "id": "h8meu7sJN0MT",
        "outputId": "8857e57f-3dc6-4e38-edec-8ac14410c645"
      },
      "outputs": [
        {
          "name": "stdout",
          "output_type": "stream",
          "text": [
            "+---------------+-----------+----------------+---------------+------------+--------+-----------------+-------------------------+-----------+--------------------+-----------------+-----------------+----+------------------+----------+------------+-------------+------------------+\n",
            "|Item_Identifier|Item_Weight|Item_Fat_Content|Item_Visibility|   Item_Type|Item_MRP|Outlet_Identifier|Outlet_Establishment_Year|Outlet_Size|Outlet_Location_Type|      Outlet_Type|Item_Outlet_Sales|flag|        multiplied| curr_date|a_week_after|a_week_before|           Cum_sum|\n",
            "+---------------+-----------+----------------+---------------+------------+--------+-----------------+-------------------------+-----------+--------------------+-----------------+-----------------+----+------------------+----------+------------+-------------+------------------+\n",
            "|          FDP36|     10.395|         Regular|            0.0|Baking Goods| 51.4008|           OUT018|                     2009|     Medium|              Tier 3|Supermarket Type2|         556.6088| new| 534.3113159999999|17-06-2025|  2025-06-24|   2025-06-10|           51.4008|\n",
            "|          FDW12|       NULL|         Regular|    0.035399923|Baking Goods|144.5444|           OUT027|                     1985|     Medium|              Tier 3|Supermarket Type3|        4064.0432| new|              NULL|17-06-2025|  2025-06-24|   2025-06-10|          195.9452|\n",
            "|          FDC37|       NULL|         Low Fat|    0.057556998|Baking Goods|107.6938|           OUT019|                     1985|      Small|              Tier 1|    Grocery Store|         214.3876| new|              NULL|17-06-2025|  2025-06-24|   2025-06-10|           303.639|\n",
            "|          FDL12|      15.85|         Regular|    0.121632721|Baking Goods|  60.622|           OUT046|                     1997|      Small|              Tier 1|Supermarket Type1|         2576.646| new|          960.8587|17-06-2025|  2025-06-24|   2025-06-10|           364.261|\n",
            "|          FDL12|      15.85|         Regular|    0.121531501|Baking Goods|  59.222|           OUT013|                     1987|       High|              Tier 3|Supermarket Type1|           599.22| new|          938.6687|17-06-2025|  2025-06-24|   2025-06-10|           423.483|\n",
            "|          FDN48|       NULL|         Low Fat|    0.113720344|Baking Goods| 89.9804|           OUT019|                     1985|      Small|              Tier 1|    Grocery Store|         643.1628| new|              NULL|17-06-2025|  2025-06-24|   2025-06-10|          513.4634|\n",
            "|          FDR12|       NULL|         Regular|    0.031382044|Baking Goods|171.3764|           OUT027|                     1985|     Medium|              Tier 3|Supermarket Type3|        3091.9752| new|              NULL|17-06-2025|  2025-06-24|   2025-06-10|          684.8398|\n",
            "|          FDA47|       10.5|         Regular|    0.116576702|Baking Goods| 163.121|           OUT013|                     1987|       High|              Tier 3|Supermarket Type1|         1794.331| new|         1712.7705|17-06-2025|  2025-06-24|   2025-06-10|          847.9608|\n",
            "|          FDG12|      6.635|         Regular|            0.0|Baking Goods|121.3098|           OUT045|                     2002|       NULL|              Tier 2|Supermarket Type1|        2530.7058| new| 804.8905229999999|17-06-2025|  2025-06-24|   2025-06-10|          969.2706|\n",
            "|          FDB36|      5.465|         Regular|            0.0|Baking Goods|132.5626|           OUT018|                     2009|     Medium|              Tier 3|Supermarket Type2|         262.3252| new|        724.454609|17-06-2025|  2025-06-24|   2025-06-10|         1101.8332|\n",
            "|          FDO24|       11.1|         Low Fat|    0.176573035|Baking Goods|157.4604|           OUT045|                     2002|       NULL|              Tier 2|Supermarket Type1|        3010.7476| new|        1747.81044|17-06-2025|  2025-06-24|   2025-06-10|         1259.2936|\n",
            "|          FDT12|       NULL|         Regular|    0.049381406|Baking Goods|226.8062|           OUT027|                     1985|     Medium|              Tier 3|Supermarket Type3|        4739.8302| new|              NULL|17-06-2025|  2025-06-24|   2025-06-10|         1486.0998|\n",
            "|          FDE36|       5.26|         Regular|    0.041764487|Baking Goods|161.8868|           OUT035|                     2004|      Small|              Tier 2|Supermarket Type1|         3275.736| new| 851.5245679999999|17-06-2025|  2025-06-24|   2025-06-10|         1647.9866|\n",
            "|          FDI24|       NULL|         Low Fat|    0.078362484|Baking Goods| 177.937|           OUT027|                     1985|     Medium|              Tier 3|Supermarket Type3|         6704.606| new|              NULL|17-06-2025|  2025-06-24|   2025-06-10|         1825.9236|\n",
            "|          FDF24|       15.5|         Regular|    0.042464962|Baking Goods| 81.5934|           OUT010|                     1998|       NULL|              Tier 3|    Grocery Store|         327.5736| new|         1264.6977|17-06-2025|  2025-06-24|   2025-06-10|          1907.517|\n",
            "|          FDY24|       4.88|         Regular|    0.133700752|Baking Goods| 52.9298|           OUT049|                     1999|     Medium|              Tier 1|Supermarket Type1|        1995.4026| new|        258.297424|17-06-2025|  2025-06-24|   2025-06-10|1960.4468000000002|\n",
            "|          FDC60|      5.425|         Regular|    0.115119905|Baking Goods| 88.3514|           OUT017|                     2007|       NULL|              Tier 2|Supermarket Type1|        1416.8224| new|479.30634499999996|17-06-2025|  2025-06-24|   2025-06-10|         2048.7982|\n",
            "|          FDS12|        9.1|         Low Fat|    0.175103435|Baking Goods|127.5362|           OUT017|                     2007|       NULL|              Tier 2|Supermarket Type1|        4655.9394| new|1160.5794199999998|17-06-2025|  2025-06-24|   2025-06-10|         2176.3344|\n",
            "|          FDG24|      7.975|         Low Fat|    0.014618973|Baking Goods|  85.225|           OUT013|                     1987|       High|              Tier 3|Supermarket Type1|         1081.925| new|        679.669375|17-06-2025|  2025-06-24|   2025-06-10|         2261.5594|\n",
            "|          FDV60|       NULL|         Regular|     0.11679292|Baking Goods| 196.211|           OUT027|                     1985|     Medium|              Tier 3|Supermarket Type3|         5499.508| new|              NULL|17-06-2025|  2025-06-24|   2025-06-10|2457.7704000000003|\n",
            "+---------------+-----------+----------------+---------------+------------+--------+-----------------+-------------------------+-----------+--------------------+-----------------+-----------------+----+------------------+----------+------------+-------------+------------------+\n",
            "only showing top 20 rows\n",
            "\n"
          ]
        }
      ],
      "source": [
        "df.withColumn('Cum_sum',sum('Item_MRP').over(Window.orderBy('Item_Type').rowsBetween(Window.unboundedPreceding,Window.currentRow))) .show()"
      ]
    },
    {
      "cell_type": "code",
      "execution_count": 70,
      "metadata": {
        "id": "hYWCpJFkOVaj"
      },
      "outputs": [],
      "source": []
    },
    {
      "cell_type": "markdown",
      "metadata": {
        "id": "mViHJGNyOT5q"
      },
      "source": [
        "\n",
        "# User Defined Functions"
      ]
    },
    {
      "cell_type": "code",
      "execution_count": 71,
      "metadata": {
        "id": "WQs2dsquN0Jr"
      },
      "outputs": [],
      "source": [
        "def square(x):\n",
        "  return x*x\n",
        "from pyspark.sql.functions import udf\n",
        "square_udf = udf(square)"
      ]
    },
    {
      "cell_type": "code",
      "execution_count": 72,
      "metadata": {
        "colab": {
          "base_uri": "https://localhost:8080/"
        },
        "id": "_4XlRto-ObdW",
        "outputId": "4ae39cf4-46d3-4b7f-f83a-663fbf8f0141"
      },
      "outputs": [
        {
          "name": "stdout",
          "output_type": "stream",
          "text": [
            "+---------------+-----------+----------------+---------------+--------------------+--------+-----------------+-------------------------+-----------+--------------------+-----------------+-----------------+----+------------------+----------+------------+-------------+------------------+\n",
            "|Item_Identifier|Item_Weight|Item_Fat_Content|Item_Visibility|           Item_Type|Item_MRP|Outlet_Identifier|Outlet_Establishment_Year|Outlet_Size|Outlet_Location_Type|      Outlet_Type|Item_Outlet_Sales|flag|        multiplied| curr_date|a_week_after|a_week_before|            square|\n",
            "+---------------+-----------+----------------+---------------+--------------------+--------+-----------------+-------------------------+-----------+--------------------+-----------------+-----------------+----+------------------+----------+------------+-------------+------------------+\n",
            "|          FDA15|        9.3|         Low Fat|    0.016047301|               Dairy|249.8092|           OUT049|                     1999|     Medium|              Tier 1|Supermarket Type1|         3735.138| new|2323.2255600000003|17-06-2025|  2025-06-24|   2025-06-10|62404.636404640005|\n",
            "|          DRC01|       5.92|         Regular|    0.019278216|         Soft Drinks| 48.2692|           OUT018|                     2009|     Medium|              Tier 3|Supermarket Type2|         443.4228| new|285.75366399999996|17-06-2025|  2025-06-24|   2025-06-10|2329.9156686399997|\n",
            "|          FDN15|       17.5|         Low Fat|    0.016760075|                Meat| 141.618|           OUT049|                     1999|     Medium|              Tier 1|Supermarket Type1|          2097.27| new|          2478.315|17-06-2025|  2025-06-24|   2025-06-10|      20055.657924|\n",
            "|          FDX07|       19.2|         Regular|            0.0|Fruits and Vegeta...| 182.095|           OUT010|                     1998|       NULL|              Tier 3|    Grocery Store|           732.38| new|3496.2239999999997|17-06-2025|  2025-06-24|   2025-06-10|      33158.589025|\n",
            "|          NCD19|       8.93|         Low Fat|            0.0|           Household| 53.8614|           OUT013|                     1987|       High|              Tier 3|Supermarket Type1|         994.7052| new|        480.982302|17-06-2025|  2025-06-24|   2025-06-10|2901.0504099600003|\n",
            "|          FDP36|     10.395|         Regular|            0.0|        Baking Goods| 51.4008|           OUT018|                     2009|     Medium|              Tier 3|Supermarket Type2|         556.6088| new| 534.3113159999999|17-06-2025|  2025-06-24|   2025-06-10|     2642.04224064|\n",
            "|          FDO10|      13.65|         Regular|    0.012741089|         Snack Foods| 57.6588|           OUT013|                     1987|       High|              Tier 3|Supermarket Type1|         343.5528| new|         787.04262|17-06-2025|  2025-06-24|   2025-06-10|     3324.53721744|\n",
            "|          FDP10|       NULL|         Low Fat|    0.127469857|         Snack Foods|107.7622|           OUT027|                     1985|     Medium|              Tier 3|Supermarket Type3|        4022.7636| new|              NULL|17-06-2025|  2025-06-24|   2025-06-10|11612.691748840001|\n",
            "|          FDH17|       16.2|         Regular|    0.016687114|        Frozen Foods| 96.9726|           OUT045|                     2002|       NULL|              Tier 2|Supermarket Type1|        1076.5986| new|1570.9561199999998|17-06-2025|  2025-06-24|   2025-06-10|     9403.68515076|\n",
            "|          FDU28|       19.2|         Regular|     0.09444959|        Frozen Foods|187.8214|           OUT017|                     2007|       NULL|              Tier 2|Supermarket Type1|         4710.535| new|        3606.17088|17-06-2025|  2025-06-24|   2025-06-10| 35276.87829796001|\n",
            "|          FDY07|       11.8|         Low Fat|            0.0|Fruits and Vegeta...| 45.5402|           OUT049|                     1999|     Medium|              Tier 1|Supermarket Type1|        1516.0266| new|         537.37436|17-06-2025|  2025-06-24|   2025-06-10|     2073.90981604|\n",
            "|          FDA03|       18.5|         Regular|    0.045463773|               Dairy|144.1102|           OUT046|                     1997|      Small|              Tier 1|Supermarket Type1|         2187.153| new|         2666.0387|17-06-2025|  2025-06-24|   2025-06-10|20767.749744039997|\n",
            "|          FDX32|       15.1|         Regular|      0.1000135|Fruits and Vegeta...|145.4786|           OUT049|                     1999|     Medium|              Tier 1|Supermarket Type1|        1589.2646| new|2196.7268599999998|17-06-2025|  2025-06-24|   2025-06-10|    21164.02305796|\n",
            "|          FDS46|       17.6|         Regular|    0.047257328|         Snack Foods|119.6782|           OUT046|                     1997|      Small|              Tier 1|Supermarket Type1|        2145.2076| new|2106.3363200000003|17-06-2025|  2025-06-24|   2025-06-10|    14322.87155524|\n",
            "|          FDF32|      16.35|         Low Fat|      0.0680243|Fruits and Vegeta...|196.4426|           OUT013|                     1987|       High|              Tier 3|Supermarket Type1|         1977.426| new|        3211.83651|17-06-2025|  2025-06-24|   2025-06-10|    38589.69509476|\n",
            "|          FDP49|        9.0|         Regular|    0.069088961|           Breakfast| 56.3614|           OUT046|                     1997|      Small|              Tier 1|Supermarket Type1|        1547.3192| new|507.25260000000003|17-06-2025|  2025-06-24|   2025-06-10|3176.6074099600005|\n",
            "|          NCB42|       11.8|         Low Fat|    0.008596051|  Health and Hygiene|115.3492|           OUT018|                     2009|     Medium|              Tier 3|Supermarket Type2|        1621.8888| new|        1361.12056|17-06-2025|  2025-06-24|   2025-06-10|13305.437940639998|\n",
            "|          FDP49|        9.0|         Regular|    0.069196376|           Breakfast| 54.3614|           OUT049|                     1999|     Medium|              Tier 1|Supermarket Type1|         718.3982| new|489.25260000000003|17-06-2025|  2025-06-24|   2025-06-10|2955.1618099600005|\n",
            "|          DRI11|       NULL|         Low Fat|    0.034237682|         Hard Drinks|113.2834|           OUT027|                     1985|     Medium|              Tier 3|Supermarket Type3|         2303.668| new|              NULL|17-06-2025|  2025-06-24|   2025-06-10|    12833.12871556|\n",
            "|          FDU02|      13.35|         Low Fat|     0.10249212|               Dairy|230.5352|           OUT035|                     2004|      Small|              Tier 2|Supermarket Type1|        2748.4224| new|        3077.64492|17-06-2025|  2025-06-24|   2025-06-10|    53146.47843904|\n",
            "+---------------+-----------+----------------+---------------+--------------------+--------+-----------------+-------------------------+-----------+--------------------+-----------------+-----------------+----+------------------+----------+------------+-------------+------------------+\n",
            "only showing top 20 rows\n",
            "\n"
          ]
        }
      ],
      "source": [
        "df.withColumn('square',square_udf('Item_MRP')) .show()"
      ]
    },
    {
      "cell_type": "markdown",
      "metadata": {
        "id": "6e4AJT9lOfUh"
      },
      "source": [
        "\n",
        "# Data Writing and Modes"
      ]
    },
    {
      "cell_type": "code",
      "execution_count": 73,
      "metadata": {
        "id": "j6cpn9jvOg9Q"
      },
      "outputs": [],
      "source": [
        "df.write.format('csv').save('/Volumes/ninad/default/ninad/data.csv')"
      ]
    },
    {
      "cell_type": "markdown",
      "metadata": {
        "id": "-30Wg_z5Op8V"
      },
      "source": [
        "## Append"
      ]
    },
    {
      "cell_type": "code",
      "execution_count": 74,
      "metadata": {
        "id": "b46h2B6DOg5z"
      },
      "outputs": [],
      "source": [
        "df.write.format('csv').mode('append').save('/Volumes/ninad/default/ninad/data.csv')"
      ]
    },
    {
      "cell_type": "markdown",
      "metadata": {
        "id": "ZB6s0E9IOsnw"
      },
      "source": [
        "## OverWrite"
      ]
    },
    {
      "cell_type": "code",
      "execution_count": 75,
      "metadata": {
        "id": "EgL0EeUHOg3Z"
      },
      "outputs": [],
      "source": [
        "df.write.format('csv').mode('overwrite').save('/Volumes/ninad/default/ninad/data.csv')"
      ]
    },
    {
      "cell_type": "markdown",
      "metadata": {
        "id": "jHoHSTVTOuYh"
      },
      "source": [
        "## Error"
      ]
    },
    {
      "cell_type": "code",
      "execution_count": 76,
      "metadata": {
        "colab": {
          "base_uri": "https://localhost:8080/",
          "height": 304
        },
        "id": "_oZnW56iOg0s",
        "outputId": "963b4a19-368f-46cb-8a75-a17fed33e485"
      },
      "outputs": [
        {
          "ename": "AnalysisException",
          "evalue": "[PATH_ALREADY_EXISTS] Path file:/Volumes/ninad/default/ninad/data.csv already exists. Set mode as \"overwrite\" to overwrite the existing path.",
          "output_type": "error",
          "traceback": [
            "\u001b[0;31m---------------------------------------------------------------------------\u001b[0m",
            "\u001b[0;31mAnalysisException\u001b[0m                         Traceback (most recent call last)",
            "\u001b[0;32m<ipython-input-76-1559624393>\u001b[0m in \u001b[0;36m<cell line: 0>\u001b[0;34m()\u001b[0m\n\u001b[0;32m----> 1\u001b[0;31m \u001b[0mdf\u001b[0m\u001b[0;34m.\u001b[0m\u001b[0mwrite\u001b[0m\u001b[0;34m.\u001b[0m\u001b[0mformat\u001b[0m\u001b[0;34m(\u001b[0m\u001b[0;34m'csv'\u001b[0m\u001b[0;34m)\u001b[0m\u001b[0;34m.\u001b[0m\u001b[0mmode\u001b[0m\u001b[0;34m(\u001b[0m\u001b[0;34m'error'\u001b[0m\u001b[0;34m)\u001b[0m\u001b[0;34m.\u001b[0m\u001b[0msave\u001b[0m\u001b[0;34m(\u001b[0m\u001b[0;34m'/Volumes/ninad/default/ninad/data.csv'\u001b[0m\u001b[0;34m)\u001b[0m\u001b[0;34m\u001b[0m\u001b[0;34m\u001b[0m\u001b[0m\n\u001b[0m",
            "\u001b[0;32m/usr/local/lib/python3.11/dist-packages/pyspark/sql/readwriter.py\u001b[0m in \u001b[0;36msave\u001b[0;34m(self, path, format, mode, partitionBy, **options)\u001b[0m\n\u001b[1;32m   1461\u001b[0m             \u001b[0mself\u001b[0m\u001b[0;34m.\u001b[0m\u001b[0m_jwrite\u001b[0m\u001b[0;34m.\u001b[0m\u001b[0msave\u001b[0m\u001b[0;34m(\u001b[0m\u001b[0;34m)\u001b[0m\u001b[0;34m\u001b[0m\u001b[0;34m\u001b[0m\u001b[0m\n\u001b[1;32m   1462\u001b[0m         \u001b[0;32melse\u001b[0m\u001b[0;34m:\u001b[0m\u001b[0;34m\u001b[0m\u001b[0;34m\u001b[0m\u001b[0m\n\u001b[0;32m-> 1463\u001b[0;31m             \u001b[0mself\u001b[0m\u001b[0;34m.\u001b[0m\u001b[0m_jwrite\u001b[0m\u001b[0;34m.\u001b[0m\u001b[0msave\u001b[0m\u001b[0;34m(\u001b[0m\u001b[0mpath\u001b[0m\u001b[0;34m)\u001b[0m\u001b[0;34m\u001b[0m\u001b[0;34m\u001b[0m\u001b[0m\n\u001b[0m\u001b[1;32m   1464\u001b[0m \u001b[0;34m\u001b[0m\u001b[0m\n\u001b[1;32m   1465\u001b[0m     \u001b[0;32mdef\u001b[0m \u001b[0minsertInto\u001b[0m\u001b[0;34m(\u001b[0m\u001b[0mself\u001b[0m\u001b[0;34m,\u001b[0m \u001b[0mtableName\u001b[0m\u001b[0;34m:\u001b[0m \u001b[0mstr\u001b[0m\u001b[0;34m,\u001b[0m \u001b[0moverwrite\u001b[0m\u001b[0;34m:\u001b[0m \u001b[0mOptional\u001b[0m\u001b[0;34m[\u001b[0m\u001b[0mbool\u001b[0m\u001b[0;34m]\u001b[0m \u001b[0;34m=\u001b[0m \u001b[0;32mNone\u001b[0m\u001b[0;34m)\u001b[0m \u001b[0;34m->\u001b[0m \u001b[0;32mNone\u001b[0m\u001b[0;34m:\u001b[0m\u001b[0;34m\u001b[0m\u001b[0;34m\u001b[0m\u001b[0m\n",
            "\u001b[0;32m/usr/local/lib/python3.11/dist-packages/py4j/java_gateway.py\u001b[0m in \u001b[0;36m__call__\u001b[0;34m(self, *args)\u001b[0m\n\u001b[1;32m   1320\u001b[0m \u001b[0;34m\u001b[0m\u001b[0m\n\u001b[1;32m   1321\u001b[0m         \u001b[0manswer\u001b[0m \u001b[0;34m=\u001b[0m \u001b[0mself\u001b[0m\u001b[0;34m.\u001b[0m\u001b[0mgateway_client\u001b[0m\u001b[0;34m.\u001b[0m\u001b[0msend_command\u001b[0m\u001b[0;34m(\u001b[0m\u001b[0mcommand\u001b[0m\u001b[0;34m)\u001b[0m\u001b[0;34m\u001b[0m\u001b[0;34m\u001b[0m\u001b[0m\n\u001b[0;32m-> 1322\u001b[0;31m         return_value = get_return_value(\n\u001b[0m\u001b[1;32m   1323\u001b[0m             answer, self.gateway_client, self.target_id, self.name)\n\u001b[1;32m   1324\u001b[0m \u001b[0;34m\u001b[0m\u001b[0m\n",
            "\u001b[0;32m/usr/local/lib/python3.11/dist-packages/pyspark/errors/exceptions/captured.py\u001b[0m in \u001b[0;36mdeco\u001b[0;34m(*a, **kw)\u001b[0m\n\u001b[1;32m    183\u001b[0m                 \u001b[0;31m# Hide where the exception came from that shows a non-Pythonic\u001b[0m\u001b[0;34m\u001b[0m\u001b[0;34m\u001b[0m\u001b[0m\n\u001b[1;32m    184\u001b[0m                 \u001b[0;31m# JVM exception message.\u001b[0m\u001b[0;34m\u001b[0m\u001b[0;34m\u001b[0m\u001b[0m\n\u001b[0;32m--> 185\u001b[0;31m                 \u001b[0;32mraise\u001b[0m \u001b[0mconverted\u001b[0m \u001b[0;32mfrom\u001b[0m \u001b[0;32mNone\u001b[0m\u001b[0;34m\u001b[0m\u001b[0;34m\u001b[0m\u001b[0m\n\u001b[0m\u001b[1;32m    186\u001b[0m             \u001b[0;32melse\u001b[0m\u001b[0;34m:\u001b[0m\u001b[0;34m\u001b[0m\u001b[0;34m\u001b[0m\u001b[0m\n\u001b[1;32m    187\u001b[0m                 \u001b[0;32mraise\u001b[0m\u001b[0;34m\u001b[0m\u001b[0;34m\u001b[0m\u001b[0m\n",
            "\u001b[0;31mAnalysisException\u001b[0m: [PATH_ALREADY_EXISTS] Path file:/Volumes/ninad/default/ninad/data.csv already exists. Set mode as \"overwrite\" to overwrite the existing path."
          ]
        }
      ],
      "source": [
        "df.write.format('csv').mode('error').save('/Volumes/ninad/default/ninad/data.csv')"
      ]
    },
    {
      "cell_type": "markdown",
      "metadata": {
        "id": "86YA5iztOvvQ"
      },
      "source": [
        "## Ignore"
      ]
    },
    {
      "cell_type": "code",
      "execution_count": null,
      "metadata": {
        "id": "GBnetjJhOgx_"
      },
      "outputs": [],
      "source": [
        "df.write.format('csv').mode('ignore').save('/Volumes/ninad/default/ninad/data.csv')"
      ]
    },
    {
      "cell_type": "code",
      "execution_count": null,
      "metadata": {
        "id": "5iyUZxngN0Gb"
      },
      "outputs": [],
      "source": []
    }
  ],
  "metadata": {
    "colab": {
      "provenance": []
    },
    "kernelspec": {
      "display_name": "Python 3",
      "name": "python3"
    },
    "language_info": {
      "name": "python"
    }
  },
  "nbformat": 4,
  "nbformat_minor": 0
}
